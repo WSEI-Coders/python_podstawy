{
 "cells": [
  {
   "cell_type": "markdown",
   "source": [
    "**Operatory w Pythonie**\n",
    "W tej lekcji omówiono różne typy operatorów w Pythonie.\n",
    "\n",
    "Operatory służą do wykonywania operacji arytmetycznych i logicznych na danych. Umożliwiają nam manipulowanie i interpretowanie danych w celu uzyskania użytecznych wyników.\n",
    "Operatory są reprezentowane przez znaki lub specjalne słowa kluczowe.\n",
    "Ogólnie rzecz biorąc, operatory Pythona korzystają z notacji in-fix lub prefix.\n",
    "Operatory in-fix pojawiają się pomiędzy dwoma operandami (wartościami, na których operator działa) i dlatego są zwykle nazywane operatorami binarnymi:\n",
    "![Binarny operator](img/11_binaryny_operator.PNG)\n",
    "Operator typu prefix zwykle działa na jednym operandzie i pojawia się przed nim. Dlatego operatory przedrostkowe nazywane są operatorami jednoargumentowymi:\n",
    "![Unary operator](img/12_uanry_operator.PNG)\n",
    "Pięć głównych typów operatorów w Pythonie to:\n",
    "- operatory arytmetyczne\n",
    "- operatory porównania\n",
    "- operatory przypisania\n",
    "- operatory logiczne\n",
    "- operatory bitowe"
   ],
   "metadata": {
    "collapsed": false
   }
  },
  {
   "cell_type": "markdown",
   "source": [
    "**Operatory arytmetyczne**\n",
    "Na tej lekcji nauczymy się wykonywać obliczenia za pomocą operatorów arytmetycznych.\n",
    "\n",
    "Poniżej możemy znaleźć podstawowe operatory arytmetyczne w kolejności pierwszeństwa. Operator wymieniony wyżej zostanie obliczony jako pierwszy.\n",
    "Operatory te pozwalają nam wykonywać operacje arytmetyczne w Pythonie:\n",
    "<table>\n",
    "  <tr>\n",
    "    <th>Operator</th>\n",
    "    <th>Cel</th>\n",
    "    <th>Notacja</th>\n",
    "  </tr>\n",
    "  <tr>\n",
    "    <td>()</td>\n",
    "    <td>Nawias okrągły</td>\n",
    "    <td>Decyduje o kolejności wykonywania działań</td>\n",
    "  </tr>\n",
    "  <tr>\n",
    "    <td>**</td>\n",
    "    <td>Potęga</td>\n",
    "    <td>In-fix</td>\n",
    "  </tr>\n",
    "  <tr>\n",
    "    <td>%, *, /, //</td>\n",
    "    <td>Modulo, mnożenie, dzielenie, floor division</td>\n",
    "    <td>In-fix</td>\n",
    "  </tr>\n",
    "  <tr>\n",
    "    <td>+, -</td>\n",
    "    <td>Dodawanie, odejmowanie</td>\n",
    "    <td>In-fix</td>\n",
    "  </tr>\n",
    "</table>"
   ],
   "metadata": {
    "collapsed": false
   }
  },
  {
   "cell_type": "markdown",
   "source": [
    "**Dodawanie**\n",
    "Możemy dodać dwie liczby za pomocą operatora +:"
   ],
   "metadata": {
    "collapsed": false
   }
  },
  {
   "cell_type": "code",
   "execution_count": 1,
   "outputs": [
    {
     "name": "stdout",
     "output_type": "stream",
     "text": [
      "15\n",
      "17.05\n",
      "30.5\n"
     ]
    }
   ],
   "source": [
    "print(10 + 5)\n",
    "\n",
    "float1 = 13.65\n",
    "float2 = 3.40\n",
    "print(float1 + float2)\n",
    "\n",
    "num = 20\n",
    "flt = 10.5\n",
    "print(num + flt)"
   ],
   "metadata": {
    "collapsed": false
   }
  },
  {
   "cell_type": "markdown",
   "source": [
    "Jak widać w linii 9, sumowanie liczby całkowitej i liczby zmiennoprzecinkowej daje liczbę zmiennoprzecinkową.\n",
    "Python automatycznie konwertuje liczbę całkowitą na liczbę zmiennoprzecinkową. Dotyczy to wszystkich operacji arytmetycznych."
   ],
   "metadata": {
    "collapsed": false
   }
  },
  {
   "cell_type": "markdown",
   "source": [
    "**Odejmowanie**\n",
    "Możemy odjąć jedną liczbę od drugiej za pomocą operatora -:"
   ],
   "metadata": {
    "collapsed": false
   }
  },
  {
   "cell_type": "code",
   "execution_count": 1,
   "outputs": [
    {
     "name": "stdout",
     "output_type": "stream",
     "text": [
      "5\n",
      "-22.228\n",
      "9.5\n"
     ]
    }
   ],
   "source": [
    "print(10 - 5)\n",
    "\n",
    "float1 = -18.678\n",
    "float2 = 3.55\n",
    "print(float1 - float2)\n",
    "\n",
    "num = 20\n",
    "flt = 10.5\n",
    "print(num - flt)"
   ],
   "metadata": {
    "collapsed": false
   }
  },
  {
   "cell_type": "markdown",
   "source": [
    "**Mnożenie**\n",
    "Możemy pomnożyć dwie liczby za pomocą operatora *:"
   ],
   "metadata": {
    "collapsed": false
   }
  },
  {
   "cell_type": "code",
   "execution_count": 2,
   "outputs": [
    {
     "name": "stdout",
     "output_type": "stream",
     "text": [
      "400\n",
      "24.75\n",
      "30.599999999999998\n"
     ]
    }
   ],
   "source": [
    "print(40 * 10)\n",
    "\n",
    "float1 = 5.5\n",
    "float2 = 4.5\n",
    "print(float1 * float2)\n",
    "\n",
    "print(10.2 * 3)"
   ],
   "metadata": {
    "collapsed": false
   }
  },
  {
   "cell_type": "markdown",
   "source": [
    "**Dzielenie**\n",
    "Możemy podzielić jedną liczbę przez drugą za pomocą operatora /. Operacja dzielenia zawsze daje w wyniku liczbę zmiennoprzecinkową:"
   ],
   "metadata": {
    "collapsed": false
   }
  },
  {
   "cell_type": "code",
   "execution_count": 4,
   "outputs": [
    {
     "name": "stdout",
     "output_type": "stream",
     "text": [
      "4.0\n",
      "1.2222222222222223\n",
      "6.2\n"
     ]
    }
   ],
   "source": [
    "print(40 / 10)\n",
    "\n",
    "float1 = 5.5\n",
    "float2 = 4.5\n",
    "print(float1 / float2)\n",
    "print(12.4 / 2)"
   ],
   "metadata": {
    "collapsed": false
   }
  },
  {
   "cell_type": "markdown",
   "source": [
    "**Floor Division**\n",
    "W przypadku tego dzielenia wynik jest podnoszony do najbliższej mniejszej liczby całkowitej. Nazywa się to również dzieleniem całkowitym.\n",
    "Do do tego dzielenia musimy użyć operatora //:"
   ],
   "metadata": {
    "collapsed": false
   }
  },
  {
   "cell_type": "code",
   "execution_count": 5,
   "outputs": [
    {
     "name": "stdout",
     "output_type": "stream",
     "text": [
      "4\n",
      "1.0\n",
      "6.0\n"
     ]
    }
   ],
   "source": [
    "print(43 // 10)\n",
    "\n",
    "float1 = 5.5\n",
    "float2 = 4.5\n",
    "print(5.5 // 4.5)\n",
    "print(12.4 // 2)"
   ],
   "metadata": {
    "collapsed": false
   }
  },
  {
   "cell_type": "markdown",
   "source": [
    "**Modulo**\n",
    "Moduł liczby z inną liczbą można znaleźć za pomocą operatora %:"
   ],
   "metadata": {
    "collapsed": false
   }
  },
  {
   "cell_type": "code",
   "execution_count": 6,
   "outputs": [
    {
     "name": "stdout",
     "output_type": "stream",
     "text": [
      "0\n",
      "8\n",
      "2\n",
      "-2\n",
      "34 0 5\n"
     ]
    }
   ],
   "source": [
    "print(10% 2)\n",
    "\n",
    "twenty_eight = 28\n",
    "print(twenty_eight % 10)\n",
    "\n",
    "print(-28 % 10) # Reszta jest dodatnia, jeśli prawy operand jest dodatni\n",
    "print(28 % -10) # Reszta jest ujemna, jeśli prawy operand jest ujemny\n",
    "print(34,4 % 2,5) # Pozostała część może być liczbą zmiennoprzecinkową"
   ],
   "metadata": {
    "collapsed": false
   }
  },
  {
   "cell_type": "markdown",
   "source": [
    "**Precedens**\n",
    "Wyrażenie arytmetyczne zawierające różne operatory zostanie obliczone na podstawie pierwszeństwa operatorów.\n",
    "Ilekroć operatory mają równy priorytet, wyrażenie jest obliczane od lewej strony:"
   ],
   "metadata": {
    "collapsed": false
   }
  },
  {
   "cell_type": "code",
   "execution_count": 7,
   "outputs": [
    {
     "name": "stdout",
     "output_type": "stream",
     "text": [
      "4\n",
      "12.0\n",
      "0.75\n"
     ]
    }
   ],
   "source": [
    "# Inny priorytet\n",
    "print(10 - 3 * 2) # Najpierw obliczane jest mnożenie, a następnie odejmowanie\n",
    "\n",
    "# Ten sam priorytet\n",
    "print(3 * 20 / 5) # Najpierw obliczane jest mnożenie, a następnie dzielenie\n",
    "print(3 / 20 * 5) # Najpierw obliczane jest dzielenie, a następnie mnożenie"
   ],
   "metadata": {
    "collapsed": false
   }
  },
  {
   "cell_type": "markdown",
   "source": [
    "**Nawiasy**\n",
    "Wyrażenie ujęte w nawiasy zostanie obliczone jako pierwsze, niezależnie od pierwszeństwa operatora:"
   ],
   "metadata": {
    "collapsed": false
   }
  },
  {
   "cell_type": "code",
   "execution_count": 8,
   "outputs": [
    {
     "name": "stdout",
     "output_type": "stream",
     "text": [
      "14\n",
      "10.0\n"
     ]
    }
   ],
   "source": [
    "print((10 - 3) * 2) # Najpierw następuje odejmowanie\n",
    "print((18 + 2) / (10% 8))"
   ],
   "metadata": {
    "collapsed": false
   }
  },
  {
   "cell_type": "markdown",
   "source": [
    "Korzystając ze wszystkich powyższych operacji, możemy obliczać złożone wyrażenia matematyczne w Pythonie!\n",
    "Należy pamiętać, że nigdy nie jesteśmy ograniczeni tylko do tych operatorów, mamy do dyspozycji niezliczoną ilość narzędzi arytmetycznych."
   ],
   "metadata": {
    "collapsed": false
   }
  },
  {
   "cell_type": "markdown",
   "source": [
    "**Operatory porównania**\n",
    "W tej lekcji dowiemy się, jak przeprowadzać porównania w Pythonie za pomocą operatorów porównania.\n",
    "Operatorów porównania można używać do porównywania wartości w kategoriach matematycznych.\n",
    "\n",
    "**Porównania**\n",
    "Wynikiem porównania jest zawsze wartość bool.\n",
    "Jeśli porównanie jest prawidłowe, wartość bool będzie równa True. W przeciwnym razie jego wartość będzie równa False.\n",
    "Operatory == i != porównują wartości obu operandów. Jednakże operatory tożsamości \"is\" i \"is not\" sprawdzają, czy te dwa operandy są dokładnie tym samym obiektem."
   ],
   "metadata": {
    "collapsed": false
   }
  },
  {
   "cell_type": "code",
   "execution_count": 9,
   "outputs": [
    {
     "name": "stdout",
     "output_type": "stream",
     "text": [
      "True\n",
      "False\n",
      "True\n",
      "True\n",
      "False\n",
      "False\n",
      "False\n",
      "False\n"
     ]
    }
   ],
   "source": [
    "num1 = 5\n",
    "num2 = 10\n",
    "num3 = 10\n",
    "list1 = [6,7,8]\n",
    "list2 = [6,7,8]\n",
    "\n",
    "print(num2 > num1) # 10 jest większe niż 5\n",
    "print(num1 > num2) # 5 nie jest większe niż 10\n",
    "\n",
    "print(num2 == num3) # Obydwa mają tę samą wartość\n",
    "print(num3 != num1) # Obydwa mają różne wartości\n",
    "\n",
    "print(3 + 10 == 5 + 5) # Obydwa nie są równe\n",
    "print(3 <= 2) # 3 jest nie mniejsze lub równe 2\n",
    "\n",
    "print(num2 is not num3) # Obydwa mają ten sam obiekt\n",
    "print(list1 is list2) # Obydwa mają różne obiekty"
   ],
   "metadata": {
    "collapsed": false
   }
  },
  {
   "cell_type": "markdown",
   "source": [
    "**Operatory przypisania**\n",
    "Ta lekcja przedstawia różne operatory przypisania w Pythonie i ich przeznaczenie.\n",
    "Jest to kategoria operatorów, która służy do przypisywania wartości do zmiennej. Operator = jest operatorem przypisania, ale nie jedynym.\n",
    "<table>\n",
    "  <tr>\n",
    "    <th>Operator</th>\n",
    "    <th>Cel</th>\n",
    "    <th>Notacja</th>\n",
    "  </tr>\n",
    "  <tr>\n",
    "    <td>=</td>\n",
    "    <td>Przypisanie</td>\n",
    "    <td>In-fix</td>\n",
    "  </tr>\n",
    "  <tr>\n",
    "    <td>+=</td>\n",
    "    <td>Dodanie i przypisanie</td>\n",
    "    <td>In-fix</td>\n",
    "  </tr>\n",
    "   <tr>\n",
    "    <td>-=</td>\n",
    "    <td>Odjęcie i przypisanie</td>\n",
    "    <td>In-fix</td>\n",
    "  </tr>\n",
    "  <tr>\n",
    "    <td>*=</td>\n",
    "    <td>Pomnożenie i przypisanie</td>\n",
    "    <td>In-fix</td>\n",
    "  </tr>\n",
    "  <tr>\n",
    "    <td>/=</td>\n",
    "    <td>Podzielenie i przypisanie</td>\n",
    "    <td>In-fix</td>\n",
    "  </tr>\n",
    "  <tr>\n",
    "    <td>//=</td>\n",
    "    <td>Podzieleinie całkowite i przypisanie</td>\n",
    "    <td>In-fix</td>\n",
    "  </tr>\n",
    "  <tr>\n",
    "    <td>**=</td>\n",
    "    <td>Potęgowanie i przypisanie</td>\n",
    "    <td>In-fix</td>\n",
    "  </tr>\n",
    "  <tr>\n",
    "    <td>%=</td>\n",
    "    <td>Modulo i przypisanie</td>\n",
    "    <td>In-fix</td>\n",
    "  </tr>\n",
    "  <tr>\n",
    "    <td>|=</td>\n",
    "    <td>OR i przypisanie</td>\n",
    "    <td>In-fix</td>\n",
    "  </tr>\n",
    "  <tr>\n",
    "    <td>&=</td>\n",
    "    <td>AND i przypisanie</td>\n",
    "    <td>In-fix</td>\n",
    "  </tr>\n",
    "  <tr>\n",
    "    <td>^=</td>\n",
    "    <td>XOR i przypisanie</td>\n",
    "    <td>In-fix</td>\n",
    "  </tr>\n",
    "  <tr>\n",
    "    <td>>>=</td>\n",
    "    <td>Przesunięie bitowe w prawo i przypisanie</td>\n",
    "    <td>In-fix</td>\n",
    "  </tr>\n",
    "  <tr>\n",
    "    <td>&#60&#60=</td>\n",
    "    <td>Przesunięcie bitowe w lewo i przypisanie</td>\n",
    "    <td>In-fix</td>\n",
    "  </tr>\n",
    "</table>\n",
    "\n",
    "Uwaga: zmienne są modyfikowalne (mutable), więc możemy zmieniać ich wartości, kiedy tylko chcemy!"
   ],
   "metadata": {
    "collapsed": false
   }
  },
  {
   "cell_type": "code",
   "execution_count": 10,
   "outputs": [
    {
     "name": "stdout",
     "output_type": "stream",
     "text": [
      "2019\n",
      "2020\n",
      "2021\n"
     ]
    }
   ],
   "source": [
    "year = 2019\n",
    "print(year)\n",
    "\n",
    "year = 2020\n",
    "print(year)\n",
    "\n",
    "year = year + 1  # Używanie istniejącej wartości do tworzenia nowej\n",
    "print(year)"
   ],
   "metadata": {
    "collapsed": false
   }
  },
  {
   "cell_type": "code",
   "execution_count": 11,
   "outputs": [
    {
     "name": "stdout",
     "output_type": "stream",
     "text": [
      "35 20\n"
     ]
    }
   ],
   "source": [
    "first = 20\n",
    "second = first\n",
    "first = 35  # Aktualizacja zmiennej 'first'\n",
    "\n",
    "print(first, second)  # Zmienna 'second' zostaje taka sama"
   ],
   "metadata": {
    "collapsed": false
   }
  },
  {
   "cell_type": "code",
   "execution_count": 12,
   "outputs": [
    {
     "name": "stdout",
     "output_type": "stream",
     "text": [
      "10\n",
      "15\n",
      "10\n",
      "20\n",
      "10.0\n",
      "100.0\n"
     ]
    }
   ],
   "source": [
    "num = 10\n",
    "print(num)\n",
    "\n",
    "num += 5\n",
    "print(num)\n",
    "\n",
    "num -= 5\n",
    "print(num)\n",
    "\n",
    "num *= 2\n",
    "print(num)\n",
    "\n",
    "num /= 2\n",
    "print(num)\n",
    "\n",
    "num **= 2\n",
    "print(num)"
   ],
   "metadata": {
    "collapsed": false
   }
  },
  {
   "cell_type": "markdown",
   "source": [
    "**Operatory logiczne**\n",
    "Rozumiemy cel operatorów logicznych!\n",
    "Operatory logiczne służą do manipulowania logiką wyrażeń boolowskich.\n",
    "<table>\n",
    "  <tr>\n",
    "    <th>Operator</th>\n",
    "    <th>Cel</th>\n",
    "    <th>Notacja</th>\n",
    "  </tr>\n",
    "  <tr>\n",
    "    <td>and</td>\n",
    "    <td>Logincze \"i\"</td>\n",
    "    <td>In-fix</td>\n",
    "  </tr>\n",
    "  <tr>\n",
    "    <td>or</td>\n",
    "    <td>Logincze \"lub\"</td>\n",
    "    <td>In-fix</td>\n",
    "  </tr>\n",
    "  <tr>\n",
    "    <td>not</td>\n",
    "    <td>Zwróci przeciwieństwo swojego operandu, więc True, jeśli podano False i odwrotnie</td>\n",
    "    <td>Pefix</td>\n",
    "  </tr>\n",
    "</table>"
   ],
   "metadata": {
    "collapsed": false
   }
  },
  {
   "cell_type": "code",
   "execution_count": 13,
   "outputs": [
    {
     "name": "stdout",
     "output_type": "stream",
     "text": [
      "True\n",
      "False\n",
      "True\n"
     ]
    }
   ],
   "source": [
    "# OR\n",
    "my_bool = True or False\n",
    "print(my_bool)\n",
    "\n",
    "# AND\n",
    "my_bool = True and False\n",
    "print(my_bool)\n",
    "\n",
    "# NOT\n",
    "my_bool = False\n",
    "print(not my_bool)"
   ],
   "metadata": {
    "collapsed": false
   }
  },
  {
   "cell_type": "markdown",
   "source": [
    "**Wartość bitowa**\n",
    "Cały kod, który widzimy wokół siebie w dzisiejszym świecie, składa się w rzeczywistości z bitów. Kombinacje jedynek i zer stanowią podstawę programowania.\n",
    "W ujęciu bitowym wartość True wynosi 1. Fałsz odpowiada 0:"
   ],
   "metadata": {
    "collapsed": false
   }
  },
  {
   "cell_type": "code",
   "execution_count": 14,
   "outputs": [
    {
     "name": "stdout",
     "output_type": "stream",
     "text": [
      "10\n",
      "0\n"
     ]
    }
   ],
   "source": [
    "print(10 * True)\n",
    "print(10 * False)"
   ],
   "metadata": {
    "collapsed": false
   }
  },
  {
   "cell_type": "markdown",
   "source": [
    "**Operatory bitowe**\n",
    "W tej lekcji zaprezentowane zostaną wszystkie różne operatory bitowe dostępne w Pythonie.\n",
    "W programowaniu wszystkie dane składają się z zer i jedynek, zwanych bitami. Operatory bitowe pozwalają nam wykonywać operacje bitowe na wartościach."
   ],
   "metadata": {
    "collapsed": false
   }
  },
  {
   "cell_type": "code",
   "execution_count": 18,
   "outputs": [
    {
     "name": "stdout",
     "output_type": "stream",
     "text": [
      "0b0\n",
      "0b11110\n",
      "0b11110\n",
      "-0b1011\n",
      "0b1010000\n",
      "0b10\n"
     ]
    }
   ],
   "source": [
    "num1 = 10  # Binarnie = 01010\n",
    "num2 = 20  # Binarnie = 10100\n",
    "\n",
    "print(bin(num1 & num2))   # 0   -> Binarnie = 00000\n",
    "print(bin(num1 | num2))   # 30  -> Binarnie = 11110\n",
    "print(bin(num1 ^ num2))   # 30  -> Binarnie = 11110\n",
    "print(bin(~num1))         # -11 -> Binarnie = -(1011)\n",
    "print(bin(num1 << 3))     # 80  -> Binarnie = 0101 0000\n",
    "print(bin(num2 >> 3))     # 2   -> Binarnie = 0010"
   ],
   "metadata": {
    "collapsed": false
   }
  },
  {
   "cell_type": "markdown",
   "source": [
    "**Wyjaśnienie**\n",
    "W linii 4 wykonujemy bitowe AND. Ta operacja pobiera bit z num1 i odpowiadający mu bit z num2 i wykonuje między nimi operację AND.\n",
    "Uwaga: Mówiąc najprościej, AND można traktować jako mnożenie dwóch operandów.\n",
    "A teraz zwizualizujmy ten przykład:\n",
    "- num1 to 01010 w formacie binarnym, a num2 to 10100.\n",
    "- W pierwszym kroku pobierane są pierwsze cyfry binarne obu liczb:\n",
    "01010\n",
    "10100\n",
    "- 0 i 1 dałoby 0 (ponownie pomyśl o tym jak o mnożeniu).\n",
    "- Następnie bierzemy drugie cyfry:\n",
    "01010\n",
    "10100\n",
    "- Ta para po raz kolejny da nam 0.\n",
    "- Robiąc to dla wszystkich par, możemy zobaczyć, że za każdym razem odpowiedź brzmi 0.\n",
    "- Zatem wynik wynosi 00000.\n",
    "\n",
    "Operacja OR w linii 5 będzie działać na tej samej zasadzie, z tą różnicą, że zamiast mnożenia wykonamy dodawanie pomiędzy dwiema liczbami binarnymi.\n",
    "Uwaga: 0 OR 1 daje nam 1. 1 OR 1 również daje 1 (liczby binarne nie przekraczają 1). Jednak 0 OR 0 da nam 0 (0 + 0 to nadal 0).\n",
    "\n",
    "Bitowe XOR i NOT będą działać również na każdym bicie.\n",
    "\n",
    "Operacje przesunięcia bitowego (>> i <<) po prostu przesuwają bity w prawo lub w lewo. Kiedy liczba binarna jest przesuwana, na jej przeciwległym końcu pojawia się również 0, aby zachować tę samą wielkość liczby.\n",
    "\n",
    "Załóżmy, że mamy liczbę binarną 0110 (6 w systemie dziesiętnym). Operacja, którą wykonujemy to 0110 >> 2:\n",
    "- 0110 >> 2\n",
    "- 0011 (przesuń jeden krok w prawo)\n",
    "- 0001 (przesuń jeszcze jeden krok w prawo)\n",
    "- Operacja zakończona\n",
    "\n",
    "Podobnie możemy przesunąć 0110 dwa razy w lewo, wykonując następującą operację 0110 << 2:\n",
    "- 0110 << 2\n",
    "- 01100 (przesuń o jeden krok w lewo)\n",
    "- 011000 (przesuń jeszcze jeden krok w lewo)\n",
    "- Operacja zakończona\n",
    "\n",
    "Uwaga: w Pythonie zera wiodące są obcinane. Na przykład liczba 0011 będzie taka sama jak 11. Podobnie liczba 0001011 będzie taka sama jak 1011."
   ],
   "metadata": {
    "collapsed": false
   }
  },
  {
   "cell_type": "markdown",
   "source": [
    "**Operacje na ciągach**\n",
    "W tej lekcji zaprezentowane zostaną niektóre z najczęściej używanych operacji na ciągach znaków.\n",
    "Typ danych string ma wiele narzędzi, które znacznie ułatwiają obliczenia ciągów. Przejdźmy do podstaw.\n",
    "\n",
    "**Operatory porównania**\n",
    "Ciągi są kompatybilne z operatorami porównania. Każdy znak ma wartość Unicode.\n",
    "Umożliwia to porównywanie ciągów znaków na podstawie ich wartości Unicode.\n",
    "Kiedy dwa ciągi znaków mają różną długość, mówi się, że ciąg znajdujący się w słowniku jako pierwszy ma mniejszą wartość."
   ],
   "metadata": {
    "collapsed": false
   }
  },
  {
   "cell_type": "code",
   "execution_count": 19,
   "outputs": [
    {
     "name": "stdout",
     "output_type": "stream",
     "text": [
      "True\n",
      "True\n",
      "False\n",
      "False\n",
      "True\n"
     ]
    }
   ],
   "source": [
    "print('a' < 'b')  # 'a' ma mniejszą wartość Unicode\n",
    "\n",
    "house = \"Gryffindor\"\n",
    "house_copy = \"Gryffindor\"\n",
    "\n",
    "print(house == house_copy)\n",
    "\n",
    "new_house = \"Slytherin\"\n",
    "\n",
    "print(house == new_house)\n",
    "\n",
    "print(new_house <= house)\n",
    "\n",
    "print(new_house >= house)"
   ],
   "metadata": {
    "collapsed": false
   }
  },
  {
   "cell_type": "markdown",
   "source": [
    "**Konkatenacja**\n",
    "Operatora + można użyć do połączenia dwóch ciągów znaków:"
   ],
   "metadata": {
    "collapsed": false
   }
  },
  {
   "cell_type": "code",
   "execution_count": 20,
   "outputs": [
    {
     "name": "stdout",
     "output_type": "stream",
     "text": [
      "Batman\n"
     ]
    }
   ],
   "source": [
    "first_half = \"Bat\"\n",
    "second_half = \"man\"\n",
    "\n",
    "full_name = first_half + second_half\n",
    "print(full_name)"
   ],
   "metadata": {
    "collapsed": false
   }
  },
  {
   "cell_type": "markdown",
   "source": [
    "Operator * pozwala nam pomnożyć ciąg, w wyniku czego otrzymamy powtarzający się wzór:"
   ],
   "metadata": {
    "collapsed": false
   }
  },
  {
   "cell_type": "code",
   "execution_count": 21,
   "outputs": [
    {
     "name": "stdout",
     "output_type": "stream",
     "text": [
      "hahaha\n"
     ]
    }
   ],
   "source": [
    "print(\"ha\" * 3)"
   ],
   "metadata": {
    "collapsed": false
   }
  },
  {
   "cell_type": "markdown",
   "source": [
    "**Przeszukiwanie**\n",
    "Słowa kluczowego in można użyć do sprawdzenia, czy określony podciąg istnieje w innym ciągu. Jeśli podciąg zostanie znaleziony, operacja zwróci wartość true."
   ],
   "metadata": {
    "collapsed": false
   }
  },
  {
   "cell_type": "code",
   "execution_count": 22,
   "outputs": [
    {
     "name": "stdout",
     "output_type": "stream",
     "text": [
      "False\n",
      "True\n"
     ]
    }
   ],
   "source": [
    "random_string = \"This is a random string\"\n",
    "\n",
    "print('of' in random_string)  # Sprawdź, czy w random_string istnieje 'of'\n",
    "print('random' in random_string)  # 'random' istnieje!"
   ],
   "metadata": {
    "collapsed": false
   }
  },
  {
   "cell_type": "code",
   "execution_count": null,
   "outputs": [],
   "source": [],
   "metadata": {
    "collapsed": false
   }
  }
 ],
 "metadata": {
  "kernelspec": {
   "display_name": "Python 3",
   "language": "python",
   "name": "python3"
  },
  "language_info": {
   "codemirror_mode": {
    "name": "ipython",
    "version": 2
   },
   "file_extension": ".py",
   "mimetype": "text/x-python",
   "name": "python",
   "nbconvert_exporter": "python",
   "pygments_lexer": "ipython2",
   "version": "2.7.6"
  }
 },
 "nbformat": 4,
 "nbformat_minor": 0
}
