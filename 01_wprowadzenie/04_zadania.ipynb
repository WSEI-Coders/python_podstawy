{
 "cells": [
  {
   "cell_type": "markdown",
   "source": [
    "**Ćwiczenie: Siła grawitacji**\n",
    "Obliczmy siłę grawitacji między dwiema masami!\n",
    "\n",
    "**Opis problemu**\n",
    "Siła grawitacji to siła przyciągania występująca pomiędzy dwiema masami. Można go obliczyć za pomocą następującego wzoru:\n",
    "$$\\frac{GMm}{r^2},$$\n",
    "gdzie G jest stałą grawitacji, M i m to dwie masy, a r to odległość między nimi.\n",
    "Musisz zaimplementować to równanie w Pythonie, aby obliczyć siłę grawitacji między Ziemią a Księżycem.\n",
    "\n",
    "**Przykładowe wejście**\n",
    "$$G=6.67*10^{-11}$$\n",
    "$$M_{earth}=6.0*10^{24}$$\n",
    "$$m_{Moon}=7.34*10^{22}$$\n",
    "$$r=3.84*10^8$$\n",
    "\n",
    "**Przykładowe wyjście**\n",
    "$$F_G=1.99*10^{20}$$"
   ],
   "metadata": {
    "collapsed": false
   }
  },
  {
   "cell_type": "code",
   "execution_count": 1,
   "outputs": [
    {
     "name": "stdout",
     "output_type": "stream",
     "text": [
      "1.9920979817708333e+20\n"
     ]
    }
   ],
   "source": [
    "# Rozwiązanie\n",
    "G = 6.67 * (10 ** -11)\n",
    "M = 6.0 * (10 ** 24)  # Masa Ziemi\n",
    "m = 7.34 * (10 ** 22)  # Masa Księżyca\n",
    "r = 3.84 * (10 ** 8)\n",
    "\n",
    "grav_force = (G * M * m) / (r**2)\n",
    "print(f\"{grav_force}\")"
   ],
   "metadata": {
    "collapsed": false
   }
  },
  {
   "cell_type": "code",
   "execution_count": null,
   "outputs": [],
   "source": [],
   "metadata": {
    "collapsed": false
   }
  }
 ],
 "metadata": {
  "kernelspec": {
   "display_name": "Python 3",
   "language": "python",
   "name": "python3"
  },
  "language_info": {
   "codemirror_mode": {
    "name": "ipython",
    "version": 2
   },
   "file_extension": ".py",
   "mimetype": "text/x-python",
   "name": "python",
   "nbconvert_exporter": "python",
   "pygments_lexer": "ipython2",
   "version": "2.7.6"
  }
 },
 "nbformat": 4,
 "nbformat_minor": 0
}
