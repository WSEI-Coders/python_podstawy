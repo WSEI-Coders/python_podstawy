{
 "cells": [
  {
   "cell_type": "markdown",
   "metadata": {
    "collapsed": false,
    "jupyter": {
     "outputs_hidden": false
    }
   },
   "source": [
    "Przejdźmy od razu do Pythona, poznając podstawy, takie jak typy danych, operatory i wyrażenia.\n",
    "\n",
    "**Przegląd modułu**\n",
    "Ten moduł jest przeznaczony dla programistów języka Python lub początkujących programistów, którzy chcą rozpocząć pracę z językiem Python. W tym module będziesz miał kilka możliwości zdobycia praktycznego doświadczenia z różnymi funkcjami i koncepcjami języka Python. Ten moduł pomoże zrozumieć podstawy Pythona, dzięki czemu będziesz mógł rozpocząć swoją przygodę z programowaniem w Pythonie. Moduł wyjaśnia język Python i sposób pisania kodu w Pythonie. Następnie krótko uczy podstaw języka Python, takich jak typy danych, liczby, wartości logiczne i ciągi znaków. Na koniec moduł wyjaśnia koncepcje różnych typów operatorów w Pythonie.\n",
    "\n",
    "**Cele modułu:**\n",
    "- Poznaj podstawy języka Python.\n",
    "- Dowiedz się o typach danych w Pythonie.\n",
    "- Dowiedz się o zmiennych w Pythonie.\n",
    "- Dowiedz się więcej o operatorach w Pythonie.\n",
    "- Dowiedz się o wyrażeniach w Pythonie."
   ]
  },
  {
   "cell_type": "markdown",
   "metadata": {
    "collapsed": false,
    "jupyter": {
     "outputs_hidden": false
    }
   },
   "source": [
    "**Czym jest Python?**\n",
    "W tej lekcji wprowadzającej zrozumiemy, czym jest Python i jak możemy go skonfigurować.\n",
    "Zaczniemy od zera. Dlatego nie musisz się martwić, jeśli nie masz wcześniejszego doświadczenia z Pythonem lub ogólnie z kodowaniem.\n",
    "Zatem bez zbędnych ceregieli zacznijmy od poznania, czym jest Python.\n",
    "\n",
    "**Natura języka**\n",
    "Opracowany w 1990 roku język Python jest obecnie jednym z najpopularniejszych języków programowania ogólnego przeznaczenia.\n",
    "Termin „ogólnego przeznaczenia” oznacza po prostu, że Python może być używany do różnych zastosowań i nie koncentruje się na żadnym jednym aspekcie programowania.\n",
    "\n",
    "**Język wysokiego poziomu**\n",
    "Python należy do kategorii języków interpretowanych wysokiego poziomu. Język wysokiego poziomu to taki, którego nasza maszyna nie może zrozumieć bezpośrednio. W jego składni jest pewien stopień abstrakcji. Maszyny są zazwyczaj projektowane do odczytywania kodu maszynowego, ale składni wysokiego poziomu nie można bezpośrednio przekonwertować na kod maszynowy.\n",
    "W rezultacie należy go najpierw przekonwertować na kod bajtowy, który następnie jest konwertowany na kod maszynowy, zanim będzie można wykonać program.\n",
    "Python jest językiem interpretowanym, ponieważ podczas wykonywania każda linia jest na bieżąco interpretowana na język maszynowy.\n",
    "Jeśli jednak weźmiemy przykład C++, kod należy najpierw skompilować do pliku wykonywalnego, a następnie można go wykonać. W Pythonie możemy pominąć ten etap kompilacji (Python robi to za nas) i bezpośrednio uruchomić kod.\n",
    "\n",
    "**Czytelność**\n",
    "Jedną z największych przyczyn szybkiego rozwoju Pythona jest prostota jego składni. Język czyta się prawie jak zwykły angielski, co ułatwia pisanie złożonych programów.\n",
    "Ponieważ nie wymaga wiele nauki, Python jest bardzo dobrym punktem wejścia do świata programowania dla początkujących.\n",
    "\n",
    "**Aplikacje**\n",
    "Oprócz łatwości nauki, Python jest bardzo wydajnym językiem używanym w niemal każdej sferze współczesnej informatyki.\n",
    "Stanowi to mocny argument za nauką języka Python, nawet dla osób niebędących programistami.\n",
    "![Do czego służy Python](img/01_purpose.PNG)\n",
    "\n",
    "**Historia wersji**\n",
    "W przeszłości Python miał kilka poważnych aktualizacji. Python 2.7 był powszechnie używany przez bardzo długi czas, nawet po wydaniu nowszych wersji.\n",
    "Jednak język Python 2.7 stał się przestarzały od 1 stycznia 2020 r. i został całkowicie zastąpiony wersjami 3.xx, znanymi jako Python 3. Różnice między Pythonem 2.7 i Pythonem 3 są niewielkie, ale mimo to ważne.\n",
    "Aby nadążać za najnowszymi technologiami, będziemy używać języka Python 3."
   ]
  },
  {
   "cell_type": "markdown",
   "metadata": {
    "collapsed": false,
    "jupyter": {
     "outputs_hidden": false
    }
   },
   "source": [
    "**Pisanie naszego pierwszego kodu**\n",
    "Na tej lekcji zaczniemy pisać kod! Przejdźmy więc do przyjemniejszych rzeczy.\n",
    "\n",
    "**Funkcja print()**\n",
    "Za każdym razem, gdy uczymy się nowego języka, tradycją jest rozpoczynanie nauki od wyświetlenia na ekranie tekstu „Hello World”.\n",
    "Każdy język ma inną składnię wyświetlania lub drukowania czegoś na ekranie.\n",
    "Ponieważ Python jest jednym z najbardziej czytelnych języków, możemy wydrukować dane na terminalu, po prostu używając instrukcji print:\n",
    "```\n",
    "print(data)\n",
    "```\n",
    "Wszystko, co potrzebujemy do wydrukowania, jest zawarte w nawiasach po słowie kluczowym print. Spróbujmy wydrukować „Hello World” na terminalu:"
   ]
  },
  {
   "cell_type": "code",
   "execution_count": 1,
   "metadata": {
    "collapsed": false,
    "jupyter": {
     "outputs_hidden": false
    }
   },
   "outputs": [
    {
     "name": "stdout",
     "output_type": "stream",
     "text": [
      "Hello World\n"
     ]
    }
   ],
   "source": [
    "print(\"Hello World\")"
   ]
  },
  {
   "cell_type": "markdown",
   "metadata": {
    "collapsed": false,
    "jupyter": {
     "outputs_hidden": false
    }
   },
   "source": [
    "Tekst Hello World jest ujęty w cudzysłów, ponieważ jest ciągiem znaków lub grupą znaków (string).\n",
    "Następnie wydrukujemy kilka liczb. Każde wywołanie print przenosi dane wyjściowe do nowej linii:"
   ]
  },
  {
   "cell_type": "code",
   "execution_count": 2,
   "metadata": {
    "collapsed": false,
    "jupyter": {
     "outputs_hidden": false
    }
   },
   "outputs": [
    {
     "name": "stdout",
     "output_type": "stream",
     "text": [
      "50\n",
      "1000\n",
      "3.142\n"
     ]
    }
   ],
   "source": [
    "print(50)\n",
    "print(1000)\n",
    "print(3.142)"
   ]
  },
  {
   "cell_type": "markdown",
   "metadata": {
    "collapsed": false,
    "jupyter": {
     "outputs_hidden": false
    }
   },
   "source": [
    "**Drukowanie wielu różnych danych**\n",
    "Możemy nawet wydrukować wiele rzeczy w jednym poleceniu drukowania; musimy je po prostu oddzielić przecinkami.\n",
    "![Wiele danych w jednym princie](img\\print.PNG)"
   ]
  },
  {
   "cell_type": "code",
   "execution_count": 3,
   "metadata": {
    "collapsed": false,
    "jupyter": {
     "outputs_hidden": false
    }
   },
   "outputs": [
    {
     "name": "stdout",
     "output_type": "stream",
     "text": [
      "50 1000 3.142 Hello World\n"
     ]
    }
   ],
   "source": [
    "print(50, 1000, 3.142, \"Hello World\")"
   ]
  },
  {
   "cell_type": "markdown",
   "metadata": {
    "collapsed": false,
    "jupyter": {
     "outputs_hidden": false
    }
   },
   "source": [
    "Domyślnie każda instrukcja print drukuje tekst w nowej linii. Jeśli chcemy, aby w tej samej linii drukowanych było wiele instrukcji print, możemy użyć następującego kodu:"
   ]
  },
  {
   "cell_type": "code",
   "execution_count": 4,
   "metadata": {
    "collapsed": false,
    "jupyter": {
     "outputs_hidden": false
    }
   },
   "outputs": [
    {
     "name": "stdout",
     "output_type": "stream",
     "text": [
      "HelloWorld\n",
      "Hello World\n"
     ]
    }
   ],
   "source": [
    "print(\"Hello\", end=\"\")\n",
    "print(\"World\")\n",
    "\n",
    "print(\"Hello\", end=\" \")\n",
    "print(\"World\")"
   ]
  },
  {
   "cell_type": "markdown",
   "metadata": {
    "collapsed": false,
    "jupyter": {
     "outputs_hidden": false
    }
   },
   "source": [
    "Wartość end jest dodawana do danych wyjściowych i następny wydruk będzie kontynuowany od tego miejsca."
   ]
  },
  {
   "cell_type": "markdown",
   "metadata": {
    "collapsed": false,
    "jupyter": {
     "outputs_hidden": false
    }
   },
   "source": [
    "**Komentarze**\n",
    "Komentarze to fragmenty tekstu używane do opisu tego, co dzieje się w kodzie. Nie mają one żadnego wpływu na kod.\n",
    "Komentarz można wpisać za pomocą znaku #:"
   ]
  },
  {
   "cell_type": "code",
   "execution_count": 5,
   "metadata": {
    "collapsed": false,
    "jupyter": {
     "outputs_hidden": false
    }
   },
   "outputs": [
    {
     "name": "stdout",
     "output_type": "stream",
     "text": [
      "50\n",
      "Hello World\n"
     ]
    }
   ],
   "source": [
    "print(50) # Ta linia wypisuje 50\n",
    "print(\"Hello World\") # Ta linia wyświetla Hello World\n",
    "\n",
    "# To jest tylko komentarz sam w sobie!\n",
    "\n",
    "# W przypadku komentarzy wieloliniowych musimy to zrobić\n",
    "# dodaj symbol hashtagu\n",
    "# za każdym razem"
   ]
  },
  {
   "cell_type": "markdown",
   "metadata": {
    "collapsed": false,
    "jupyter": {
     "outputs_hidden": false
    }
   },
   "source": [
    "Alternatywą dla wieloliniowych komentarzy (linie 4–8 z kodu powyżej) jest docstring. Jest on ujęty w potrójne cudzysłowy \"\"\" i można ich używać do zastępowania komentarzy wielowierszowych:"
   ]
  },
  {
   "cell_type": "code",
   "execution_count": 6,
   "metadata": {
    "collapsed": false,
    "jupyter": {
     "outputs_hidden": false
    }
   },
   "outputs": [
    {
     "data": {
      "text/plain": [
       "' Docstring są całkiem fajne\\ndo pisania dłuższych komentarzy\\nlub uwagi dotyczące kodu'"
      ]
     },
     "execution_count": 6,
     "metadata": {},
     "output_type": "execute_result"
    }
   ],
   "source": [
    "\"\"\" Docstring są całkiem fajne\n",
    "do pisania dłuższych komentarzy\n",
    "lub uwagi dotyczące kodu\"\"\""
   ]
  },
  {
   "cell_type": "code",
   "execution_count": null,
   "metadata": {
    "collapsed": false,
    "jupyter": {
     "outputs_hidden": false
    }
   },
   "outputs": [],
   "source": []
  }
 ],
 "metadata": {
  "kernelspec": {
   "display_name": "Python 3 (ipykernel)",
   "language": "python",
   "name": "python3"
  },
  "language_info": {
   "codemirror_mode": {
    "name": "ipython",
    "version": 3
   },
   "file_extension": ".py",
   "mimetype": "text/x-python",
   "name": "python",
   "nbconvert_exporter": "python",
   "pygments_lexer": "ipython3",
   "version": "3.11.7"
  }
 },
 "nbformat": 4,
 "nbformat_minor": 4
}
