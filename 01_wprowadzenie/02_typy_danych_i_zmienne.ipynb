{
 "cells": [
  {
   "cell_type": "markdown",
   "metadata": {
    "collapsed": false,
    "jupyter": {
     "outputs_hidden": false
    }
   },
   "source": [
    "**Co to są typy danych i zmienne?**\n",
    "W tej lekcji poznamy różne typy danych w Pythonie.\n",
    "\n",
    "**Definicja**\n",
    "\"Typ danych elementu definiuje typ i zakres wartości, jakie może mieć ten element.\"\n",
    "\n",
    "Pojęcie typów danych można spotkać w świecie rzeczywistym. Istnieją liczby, alfabety, znaki itp., które mają unikalne właściwości ze względu na ich klasyfikację.\n",
    "Taka klasyfikacja dokonywana jest także w wielu językach programowania, m.in. w Pythonie.\n",
    "\n",
    "**Typy danych Pythona**\n",
    "W przeciwieństwie do wielu innych języków, Python nie kładzie dużego nacisku na definiowanie typu danych obiektu, co znacznie ułatwia kodowanie. Język udostępnia trzy główne typy danych:\n",
    "- Liczby\n",
    "- Smyczki\n",
    "- Wartości logiczne\n",
    "\n",
    "**Zmienne**\n",
    "Zmienna to po prostu nazwa, do której można przypisać wartość.\n",
    "Zmienne pozwalają na nadawanie danych znaczących nazw.\n",
    "Najprostszym sposobem przypisania wartości do zmiennej jest użycie operatora =.\n",
    "![Zmienne](img/03_zmienne.PNG)\n",
    "Dużą zaletą zmiennych jest to, że pozwalają nam przechowywać dane, abyśmy mogli je później wykorzystać do wykonania operacji w kodzie.\n",
    "Zmienne są zmienne. Dlatego wartość zmiennej można zawsze zaktualizować lub zastąpić.\n",
    "\n",
    "**Konwencja nazewnictwa**\n",
    "Wybierając nazwę zmiennej, musimy przestrzegać pewnych zasad:\n",
    "- Nazwa może zaczynać się od dużej lub małej litery.\n",
    "Na przykład możesz zdefiniować zmienną income jako income lub Income, oba są prawidłowe.\n",
    "- We wszystkich nazwach rozróżniana jest wielkość liter.\n",
    "Na przykład income i Income to dwie różne zmienne, a nie jedna.\n",
    "- W nazwie może pojawić się cyfra, ale nie na początku.\n",
    "Na przykład 12income nie jest poprawną nazwą, ale income12 lub in12come są prawidłowe.\n",
    "- Znak _ może pojawić się w dowolnym miejscu nazwy.\n",
    "Na przykład _income lub income_ to prawidłowe nazwy.\n",
    "- Spacje są niedozwolone. Zamiast tego musimy użyć sneak_case, aby nazwy zmiennych były czytelne.\n",
    "Na przykład monthly_income jest prawidłową nazwą.\n",
    "- Nazwa zmiennej powinna być czymś znaczącym, opisującym przechowywaną przez nią wartość, a nie przypadkowymi znakami.\n",
    "Na przykład inc lub nawet income nie dadzą żadnych przydatnych informacji, ale nazwy takie jak weekly_income, monthly_income lub yearly_income wyjaśniają cel naszej zdefiniowanej zmiennej."
   ]
  },
  {
   "cell_type": "markdown",
   "metadata": {
    "collapsed": false,
    "jupyter": {
     "outputs_hidden": false
    }
   },
   "source": [
    "**Liczby**\n",
    "Ta lekcja zawiera szczegółowe omówienie liczb w Pythonie.\n",
    "Python to jeden z najpotężniejszych języków do manipulowania danymi liczbowymi.\n",
    "Wyposażony jest w obsługę kilku typów liczb, wraz z narzędziami do wykonywania na nich obliczeń.\n",
    "W Pythonie istnieją trzy główne typy liczb:\n",
    "![Liczby w Pytnone](img\\04_liczby.PNG)\n",
    "\n",
    "**Liczby całkowite**\n",
    "Typ danych całkowitych składa się ze wszystkich dodatnich i ujemnych liczb całkowitych.\n",
    "Ilość pamięci zajmowanej przez liczbę całkowitą zależy od jej wartości. Na przykład 0 zajmie 24 bajty, podczas gdy 1 zajmie 28 bajtów.\n",
    "![Liczby całkowite](img/05_liczby_całkowite.PNG)"
   ]
  },
  {
   "cell_type": "code",
   "execution_count": 1,
   "metadata": {
    "collapsed": false,
    "jupyter": {
     "outputs_hidden": false
    }
   },
   "outputs": [
    {
     "name": "stdout",
     "output_type": "stream",
     "text": [
      "10\n",
      "-3000\n",
      "123456789\n",
      "-16000\n"
     ]
    }
   ],
   "source": [
    "print(10) # Dodatnia liczba całkowita\n",
    "print(-3000) # Ujemna liczba całkowita\n",
    "\n",
    "num = 123456789 # Przypisanie liczby całkowitej do zmiennej\n",
    "print(num)\n",
    "num = -16000 # Przypisanie nowej liczby całkowitej\n",
    "print(num)"
   ]
  },
  {
   "cell_type": "markdown",
   "metadata": {
    "collapsed": false,
    "jupyter": {
     "outputs_hidden": false
    }
   },
   "source": [
    "**Liczby zmiennoprzecinkowe**\n",
    "Liczby zmiennoprzecinkowe odnoszą się do dodatnich i ujemnych liczb dziesiętnych.\n",
    "Python pozwala nam tworzyć ułamki dziesiętne aż do bardzo wysokiego miejsca po przecinku.\n",
    "Zapewnia to dokładne obliczenia dla dokładnych wartości.\n",
    "Liczba zmiennoprzecinkowa zajmuje 24 bajty pamięci.\n",
    "![Liczby zmiennoprzecinkowe](img/06_liczby_zmennoprzecinkowe.PNG)\n",
    "\n",
    "Uwaga: W Pythonie 5 jest liczbą całkowitą, a 5.0 jest liczbą zmiennoprzecinkową."
   ]
  },
  {
   "cell_type": "code",
   "execution_count": 2,
   "metadata": {
    "collapsed": false,
    "jupyter": {
     "outputs_hidden": false
    }
   },
   "outputs": [
    {
     "name": "stdout",
     "output_type": "stream",
     "text": [
      "1.00000000005\n",
      "-85.6701\n",
      "(1, 23456789)\n"
     ]
    }
   ],
   "source": [
    "print(1.00000000005) # Dodatnia liczba zmiennoprzecinkowa\n",
    "print(-85.6701) # Ujemna liczba zmiennoprzecinkowa\n",
    "\n",
    "flt_pt = 1,23456789\n",
    "print(flt_pt)"
   ]
  },
  {
   "cell_type": "markdown",
   "metadata": {
    "collapsed": false,
    "jupyter": {
     "outputs_hidden": false
    }
   },
   "source": [
    "**Liczby zespolone**\n",
    "Python obsługuje także liczby zespolone, czyli liczby składające się z części rzeczywistej i urojonej.\n",
    "Podobnie jak instrukcja print() służy do drukowania wartości, tak funkcja complex() służy do tworzenia liczb zespolonych.\n",
    "Wymaga dwóch wartości. Pierwsza będzie częścią rzeczywistą liczby zespolonej, natomiast druga wartość będzie częścią urojoną.\n",
    "![Liczby zespolone](img/07_liczby_zespolone.PNG)\n",
    "Uwaga: W normalnej matematyce część urojona liczby zespolonej jest oznaczana przez i. Jednakże w powyższym kodzie jest to oznaczone przez j. Dzieje się tak, ponieważ Python przestrzega konwencji elektrotechniki, która używa j zamiast i.\n",
    "Liczby zespolone są przydatne do modelowania modeli fizycznych i elektrotechnicznych w Pythonie. Choć mogą one nie wydawać się obecnie zbyt istotne, warto je poznać!\n",
    "Liczba zespolona zwykle zajmuje 32 bajty pamięci."
   ]
  },
  {
   "cell_type": "code",
   "execution_count": 4,
   "metadata": {
    "collapsed": false,
    "jupyter": {
     "outputs_hidden": false
    }
   },
   "outputs": [
    {
     "name": "stdout",
     "output_type": "stream",
     "text": [
      "(10+20j)\n",
      "(2.5-18.2j)\n",
      "2j\n",
      "(2+0j)\n"
     ]
    }
   ],
   "source": [
    "print(complex(10, 20)) # Reprezentuje liczbę zespoloną (10 + 20j)\n",
    "print(complex(2.5, -18.2)) # Reprezentuje liczbę zespoloną (2.5 - 18.2j)\n",
    "\n",
    "complex_1 = complex(0, 2)\n",
    "complex_2 = complex(2, 0)\n",
    "print(complex_1)\n",
    "print(complex_2)"
   ]
  },
  {
   "cell_type": "markdown",
   "metadata": {
    "collapsed": false,
    "jupyter": {
     "outputs_hidden": false
    }
   },
   "source": [
    "**Wartości logiczne**\n",
    "W tej lekcji omówiono najważniejsze cechy typu danych Boolean.\n",
    "\n",
    "Typ danych Boolean (znany również jako bool) pozwala nam wybrać jedną z dwóch wartości: true i false.\n",
    "![](img/08_bool.PNG)\n",
    "Uwaga: w Pythonie pierwsza litera boola musi być pisana wielką literą.\n",
    "Wartość logiczna służy do określenia, czy logika wyrażenia lub porównania jest poprawna. Odgrywa ogromną rolę w porównywaniu danych."
   ]
  },
  {
   "cell_type": "code",
   "execution_count": 6,
   "metadata": {
    "collapsed": false,
    "jupyter": {
     "outputs_hidden": false
    }
   },
   "outputs": [
    {
     "name": "stdout",
     "output_type": "stream",
     "text": [
      "True\n",
      "False\n"
     ]
    }
   ],
   "source": [
    "print(True)\n",
    "\n",
    "f_bool = False\n",
    "print(f_bool)"
   ]
  },
  {
   "cell_type": "markdown",
   "metadata": {
    "collapsed": false,
    "jupyter": {
     "outputs_hidden": false
    }
   },
   "source": [
    "**Strings**\n",
    "W tej lekcji omówiono najważniejsze cechy typu danych typu string.\n",
    "\n",
    "Taka grupa znaków jest przykładem typu danych typu string.\n",
    "Ciąg to zbiór znaków zamknięty w pojedynczym, podwójnym lub potrójnym cudzysłowie.\n",
    "Ciąg może również zawierać pojedynczy znak lub być całkowicie pusty."
   ]
  },
  {
   "cell_type": "code",
   "execution_count": 7,
   "metadata": {
    "collapsed": false,
    "jupyter": {
     "outputs_hidden": false
    }
   },
   "outputs": [
    {
     "name": "stdout",
     "output_type": "stream",
     "text": [
      "Harry Potter!\n",
      "Game of Thrones...\n",
      "$\n",
      "\n",
      "Dopuszczalne są potrójne cudzysłowy\n",
      "ciąg wieloliniowy.\n"
     ]
    }
   ],
   "source": [
    "print(\"Harry Potter!\") # Podwójne cudzysłowy\n",
    "\n",
    "got = 'Game of Thrones...' # Pojedynczy cudzysłów\n",
    "print(got)\n",
    "print(\"$\") # Pojedynczy znak\n",
    "\n",
    "empty = \"\"\n",
    "print(empty) # Po prostu wypisuje pustą linię\n",
    "\n",
    "multiple_lines = '''Dopuszczalne są potrójne cudzysłowy\n",
    "ciąg wieloliniowy.'''\n",
    "print(multiple_lines)"
   ]
  },
  {
   "cell_type": "markdown",
   "metadata": {
    "collapsed": false,
    "jupyter": {
     "outputs_hidden": false
    }
   },
   "source": [
    "Z powyższych przykładów możemy zobaczyć:\n",
    "- Pusta spacja wewnątrz cudzysłowów jest również uważana za znak.\n",
    "- Aby dodać ciąg wieloliniowy, możemy użyć potrójnych cudzysłowów."
   ]
  },
  {
   "cell_type": "markdown",
   "metadata": {
    "collapsed": false,
    "jupyter": {
     "outputs_hidden": false
    }
   },
   "source": [
    "**Długość ciągu znaków**\n",
    "Długość łańcucha można znaleźć za pomocą wbudowanej funkcji len(). Ta długość wskazuje liczbę znaków w ciągu:"
   ]
  },
  {
   "cell_type": "code",
   "execution_count": 8,
   "metadata": {
    "collapsed": false,
    "jupyter": {
     "outputs_hidden": false
    }
   },
   "outputs": [
    {
     "name": "stdout",
     "output_type": "stream",
     "text": [
      "11\n"
     ]
    }
   ],
   "source": [
    "random_string = \"I am Batman\"  # 11 znaków\n",
    "print(len(random_string))"
   ]
  },
  {
   "cell_type": "markdown",
   "metadata": {
    "collapsed": false,
    "jupyter": {
     "outputs_hidden": false
    }
   },
   "source": [
    "**Indeksowanie**\n",
    "W ciągu każdemu znakowi przypisany jest indeks liczbowy oparty na jego pozycji.\n",
    "Ciąg w Pythonie jest indeksowany od 0 do n-1, gdzie n jest jego długością. Oznacza to, że indeks pierwszego znaku w ciągu wynosi 0.\n",
    "![Indeksowanie](img/09_string.PNG)\n",
    "\n",
    "**Dostęp do znaków**\n",
    "Dostęp do każdego znaku w ciągu można uzyskać za pomocą jego indeksu. Indeks musi być zamknięty w nawiasach kwadratowych [] i dołączony do ciągu znaków."
   ]
  },
  {
   "cell_type": "code",
   "execution_count": 9,
   "metadata": {
    "collapsed": false,
    "jupyter": {
     "outputs_hidden": false
    }
   },
   "outputs": [
    {
     "name": "stdout",
     "output_type": "stream",
     "text": [
      "B\n",
      " \n",
      "e\n"
     ]
    }
   ],
   "source": [
    "batman = \"Bruce Wayne\"\n",
    "\n",
    "first = batman[0] # Dostęp do pierwszego znaku\n",
    "print(first)\n",
    "\n",
    "space = batman[5] # Dostęp do pustej przestrzeni w ciągu\n",
    "print(space)\n",
    "\n",
    "last = batman[len(batman) - 1]\n",
    "print(last)\n",
    "# Następujące polecenie spowoduje błąd, ponieważ indeks jest poza zakresem\n",
    "# err = batman[len(batman)]"
   ]
  },
  {
   "cell_type": "markdown",
   "metadata": {
    "collapsed": false,
    "jupyter": {
     "outputs_hidden": false
    }
   },
   "source": [
    "Jeśli spróbujemy wykonać kod w linii 12, otrzymamy błąd, ponieważ maksymalny indeks to len(batman) - 1. Wyższa wartość nie mieści się w granicach ciągu. Ponieważ len(batman) jest większy niż len(batman) - 1, spowoduje to błąd."
   ]
  },
  {
   "cell_type": "markdown",
   "metadata": {
    "collapsed": false,
    "jupyter": {
     "outputs_hidden": false
    }
   },
   "source": [
    "**Indeksowanie odwrotne**\n",
    "Możemy również zmienić konwencję indeksowania, używając indeksów ujemnych.\n",
    "Indeksy ujemne zaczynają się od przeciwnego końca łańcucha. Zatem indeks -1 odpowiada ostatniemu znakowi:"
   ]
  },
  {
   "cell_type": "code",
   "execution_count": 10,
   "metadata": {
    "collapsed": false,
    "jupyter": {
     "outputs_hidden": false
    }
   },
   "outputs": [
    {
     "name": "stdout",
     "output_type": "stream",
     "text": [
      "e\n",
      "W\n"
     ]
    }
   ],
   "source": [
    "batman = \"Bruce Wayne\"\n",
    "print(batman[-1]) # Odpowiada batmanowi[10]\n",
    "print(batman[-5]) # Odpowiada batmanowi[6]"
   ]
  },
  {
   "cell_type": "markdown",
   "metadata": {
    "collapsed": false,
    "jupyter": {
     "outputs_hidden": false
    }
   },
   "source": [
    "**Niezmienność (Immutability) łańcucha znaków**\n",
    "Gdy przypiszemy wartość do ciągu, nie możemy jej później zaktualizować:"
   ]
  },
  {
   "cell_type": "code",
   "execution_count": 11,
   "metadata": {
    "collapsed": false,
    "jupyter": {
     "outputs_hidden": false
    }
   },
   "outputs": [
    {
     "ename": "TypeError",
     "evalue": "'str' object does not support item assignment",
     "output_type": "error",
     "traceback": [
      "\u001b[1;31m---------------------------------------------------------------------------\u001b[0m",
      "\u001b[1;31mTypeError\u001b[0m                                 Traceback (most recent call last)",
      "Cell \u001b[1;32mIn[11], line 2\u001b[0m\n\u001b[0;32m      1\u001b[0m string \u001b[38;5;241m=\u001b[39m \u001b[38;5;124m\"\u001b[39m\u001b[38;5;124mNiezmienność\u001b[39m\u001b[38;5;124m\"\u001b[39m\n\u001b[1;32m----> 2\u001b[0m \u001b[43mstring\u001b[49m\u001b[43m[\u001b[49m\u001b[38;5;241;43m0\u001b[39;49m\u001b[43m]\u001b[49m \u001b[38;5;241m=\u001b[39m \u001b[38;5;124m'\u001b[39m\u001b[38;5;124mO\u001b[39m\u001b[38;5;124m'\u001b[39m \u001b[38;5;66;03m# Wyświetli błąd\u001b[39;00m\n",
      "\u001b[1;31mTypeError\u001b[0m: 'str' object does not support item assignment"
     ]
    }
   ],
   "source": [
    "string = \"Immutability\"\n",
    "string[0] = 'O' # Wyświetli błąd"
   ]
  },
  {
   "cell_type": "markdown",
   "metadata": {
    "collapsed": false,
    "jupyter": {
     "outputs_hidden": false
    }
   },
   "source": [
    "Powyższy kod daje błąd TypeError, ponieważ Python nie obsługuje przypisywania elementów w przypadku ciągów.\n",
    "Pamiętaj, przypisanie nowej wartości zmiennej łańcuchowej nie oznacza, że zmieniłeś wartość. Zweryfikujmy to za pomocą poniższej metody id()."
   ]
  },
  {
   "cell_type": "code",
   "execution_count": 12,
   "metadata": {
    "collapsed": false,
    "jupyter": {
     "outputs_hidden": false
    }
   },
   "outputs": [
    {
     "name": "stdout",
     "output_type": "stream",
     "text": [
      "2755226435056\n",
      "2755277563760\n"
     ]
    }
   ],
   "source": [
    "str1 = \"hello\"\n",
    "print(id(str1))\n",
    "\n",
    "str1 = \"bye\"\n",
    "print(id(str1))"
   ]
  },
  {
   "cell_type": "markdown",
   "metadata": {
    "collapsed": false,
    "jupyter": {
     "outputs_hidden": false
    }
   },
   "source": [
    "Zauważ, że kiedy przypiszemy nową wartość do str1 (w linii 4), zmienia się jej id, a nie wartość."
   ]
  },
  {
   "cell_type": "markdown",
   "metadata": {
    "collapsed": false,
    "jupyter": {
     "outputs_hidden": false
    }
   },
   "source": [
    "**ASCII kontra Unicode**\n",
    "W Pythonie 3.x wszystkie ciągi znaków są w formacie Unicode. Jednak starsze wersje Pythona (Python 2.x) obsługują tylko znaki ASCII. Aby używać Unicode w Pythonie 2.x, konieczne jest poprzedzanie ciągu literą u. Na przykład:"
   ]
  },
  {
   "cell_type": "code",
   "execution_count": 13,
   "metadata": {
    "collapsed": false,
    "jupyter": {
     "outputs_hidden": false
    }
   },
   "outputs": [],
   "source": [
    "string = u\"This is unicode\""
   ]
  },
  {
   "cell_type": "markdown",
   "metadata": {
    "collapsed": false,
    "jupyter": {
     "outputs_hidden": false
    }
   },
   "source": [
    "**Słowo kluczowe None**\n",
    "**Wprowadzenie do NoneType**\n",
    "Python oferuje inny typ danych o nazwie NoneType. Ma tylko jedną wartość, None. Możemy przypisać None do dowolnej zmiennej, ale nie możemy utworzyć innych zmiennych NoneType."
   ]
  },
  {
   "cell_type": "code",
   "execution_count": 14,
   "metadata": {
    "collapsed": false,
    "jupyter": {
     "outputs_hidden": false
    }
   },
   "outputs": [
    {
     "name": "stdout",
     "output_type": "stream",
     "text": [
      "None\n",
      "<class 'NoneType'>\n"
     ]
    }
   ],
   "source": [
    "val = None\n",
    "print(val) # wypisuje None i zwraca None\n",
    "print(type(val))"
   ]
  },
  {
   "cell_type": "markdown",
   "metadata": {
    "collapsed": false,
    "jupyter": {
     "outputs_hidden": false
    }
   },
   "source": [
    "Istotne punkty:\n",
    "- None nie jest wartością domyślną dla zmiennej, której nie przypisano jeszcze wartości.\n",
    "- None nie jest tym samym, co False.\n",
    "- None nie jest pustym ciągiem.\n",
    "- None nie jest 0."
   ]
  },
  {
   "cell_type": "markdown",
   "metadata": {
    "collapsed": false,
    "jupyter": {
     "outputs_hidden": false
    }
   },
   "source": [
    "**String Slicing**\n",
    "W tej lekcji zrozumiemy, czym jest slicing i jak można je zastosować do ciągów znaków.\n",
    "\n",
    "**Definicja**\n",
    "Slicing to proces uzyskiwania części (podciągu) ciągu za pomocą jego indeksów.\n",
    "Biorąc pod uwagę ciąg znaków, możemy użyć następującego szablonu, aby go pokroić i uzyskać podciąg:\n",
    "ciąg\n",
    "```\n",
    "[początek: koniec]\n",
    "```\n",
    "- start to indeks, od którego ma zaczynać się podciąg.\n",
    "- end to indeks, w którym ma się kończyć nasz podciąg.\n",
    "\n",
    "Znak znajdujący się na końcu indeksu ciągu nie zostanie uwzględniony w podciągu uzyskanym tą metodą.\n",
    "![String slicing](img/10_slicing_string.PNG)"
   ]
  },
  {
   "cell_type": "code",
   "execution_count": 15,
   "metadata": {
    "collapsed": false,
    "jupyter": {
     "outputs_hidden": false
    }
   },
   "outputs": [
    {
     "name": "stdout",
     "output_type": "stream",
     "text": [
      "This\n",
      "his is\n",
      "MY string!\n"
     ]
    }
   ],
   "source": [
    "my_string = \"This is MY string!\"\n",
    "print(my_string[0:4]) # Od początku do czwartego indeksu\n",
    "print(my_string[1:7])\n",
    "print(my_string[8:len(my_string)]) # Od ósmego indeksu do końca"
   ]
  },
  {
   "cell_type": "markdown",
   "metadata": {
    "collapsed": false,
    "jupyter": {
     "outputs_hidden": false
    }
   },
   "source": [
    "**Slicing z określeniem kroku**\n",
    "Python 3 pozwala nam również dzielić ciąg znaków, definiując krok, przez który możemy pominąć znaki w ciągu. Domyślnym krokiem jest 1, więc iterujemy po ciągu po jednym znaku na raz.\n",
    "Krok jest definiowany po indeksie końcowym:\n",
    "```\n",
    "string[start:end:step]\n",
    "```"
   ]
  },
  {
   "cell_type": "code",
   "execution_count": 1,
   "metadata": {
    "collapsed": false,
    "jupyter": {
     "outputs_hidden": false
    }
   },
   "outputs": [
    {
     "name": "stdout",
     "output_type": "stream",
     "text": [
      "This is\n",
      "Ti s\n",
      "Ti\n"
     ]
    }
   ],
   "source": [
    "my_string = \"This is MY string!\"\n",
    "print(my_string[0:7])  # Co 1 znak\n",
    "print(my_string[0:7:2])  # Co 2 znaki\n",
    "print(my_string[0:7:5])  # Co 5 znaków"
   ]
  },
  {
   "cell_type": "markdown",
   "metadata": {
    "collapsed": false,
    "jupyter": {
     "outputs_hidden": false
    }
   },
   "source": [
    "**Reverse Slicing**\n",
    "Ciągi można również ciąć, aby zwrócić odwrócony podciąg. W tym przypadku musielibyśmy zamienić kolejność indeksów początkowych i końcowych.\n",
    "Należy również podać krok ujemny:"
   ]
  },
  {
   "cell_type": "code",
   "execution_count": 3,
   "metadata": {
    "collapsed": false,
    "jupyter": {
     "outputs_hidden": false
    }
   },
   "outputs": [
    {
     "name": "stdout",
     "output_type": "stream",
     "text": [
      "rts YM si s\n",
      "!nrsY ish\n"
     ]
    }
   ],
   "source": [
    "my_string = \"This is MY string!\"\n",
    "print(my_string[13:2:-1]) # Za każdym razem cofnij się o 1 krok\n",
    "print(my_string[17:0:-2]) # Cofnij się o 2 kroki."
   ]
  },
  {
   "cell_type": "markdown",
   "metadata": {
    "collapsed": false,
    "jupyter": {
     "outputs_hidden": false
    }
   },
   "source": [
    "**Partial Slicing**\n",
    "Należy zauważyć, że określenie indeksów początkowych i końcowych jest opcjonalne.\n",
    "Jeśli start nie zostanie podany, podciąg będzie zawierał wszystkie znaki aż do indeksu końcowego.\n",
    "Jeśli koniec nie zostanie podany, podciąg będzie zaczynał się od indeksu początkowego i ciągnął aż do końca:"
   ]
  },
  {
   "cell_type": "code",
   "execution_count": 4,
   "metadata": {
    "collapsed": false,
    "jupyter": {
     "outputs_hidden": false
    }
   },
   "outputs": [
    {
     "name": "stdout",
     "output_type": "stream",
     "text": [
      "This is \n",
      "MY string!\n",
      "This is MY string!\n",
      "!gnirts YM si sihT\n"
     ]
    }
   ],
   "source": [
    "my_string = \"This is MY string!\"\n",
    "print(my_string[:8]) # Wszystkie znaki przed „M”\n",
    "print(my_string[8:]) # Wszystkie znaki zaczynające się od „M”\n",
    "print(my_string[:]) # Cały ciąg\n",
    "print(my_string[::-1]) # Cały ciąg w odwrotnej kolejności (krok wynosi -1)"
   ]
  },
  {
   "cell_type": "code",
   "execution_count": null,
   "metadata": {
    "collapsed": false,
    "jupyter": {
     "outputs_hidden": false
    }
   },
   "outputs": [],
   "source": []
  }
 ],
 "metadata": {
  "kernelspec": {
   "display_name": "Python 3 (ipykernel)",
   "language": "python",
   "name": "python3"
  },
  "language_info": {
   "codemirror_mode": {
    "name": "ipython",
    "version": 3
   },
   "file_extension": ".py",
   "mimetype": "text/x-python",
   "name": "python",
   "nbconvert_exporter": "python",
   "pygments_lexer": "ipython3",
   "version": "3.11.7"
  }
 },
 "nbformat": 4,
 "nbformat_minor": 4
}
