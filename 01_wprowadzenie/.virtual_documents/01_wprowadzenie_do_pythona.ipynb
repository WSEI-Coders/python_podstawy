








print("Hello World")





print(50)
print(1000)
print(3.142)





print(50, 1000, 3.142, "Hello World")





print("Hello", end="")
print("World")

print("Hello", end=" ")
print("World")








print(50) # Ta linia wypisuje 50
print("Hello World") # Ta linia wyświetla Hello World

# To jest tylko komentarz sam w sobie!

# W przypadku komentarzy wieloliniowych musimy to zrobić
# dodaj symbol hashtagu
# za każdym razem





""" Docstring są całkiem fajne
do pisania dłuższych komentarzy
lub uwagi dotyczące kodu"""



