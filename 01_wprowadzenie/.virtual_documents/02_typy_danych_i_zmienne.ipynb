





print(10) # Dodatnia liczba całkowita
print(-3000) # Ujemna liczba całkowita

num = 123456789 # Przypisanie liczby całkowitej do zmiennej
print(num)
num = -16000 # Przypisanie nowej liczby całkowitej
print(num)





print(1.00000000005) # Dodatnia liczba zmiennoprzecinkowa
print(-85.6701) # Ujemna liczba zmiennoprzecinkowa

flt_pt = 1,23456789
print(flt_pt)





print(complex(10, 20)) # Reprezentuje liczbę zespoloną (10 + 20j)
print(complex(2.5, -18.2)) # Reprezentuje liczbę zespoloną (2.5 - 18.2j)

complex_1 = complex(0, 2)
complex_2 = complex(2, 0)
print(complex_1)
print(complex_2)





print(True)

f_bool = False
print(f_bool)





print("Harry Potter!") # Podwójne cudzysłowy

got = 'Game of Thrones...' # Pojedynczy cudzysłów
print(got)
print("$") # Pojedynczy znak

empty = ""
print(empty) # Po prostu wypisuje pustą linię

multiple_lines = '''Dopuszczalne są potrójne cudzysłowy
ciąg wieloliniowy.'''
print(multiple_lines)








random_string = "I am Batman"  # 11 znaków
print(len(random_string))





batman = "Bruce Wayne"

first = batman[0] # Dostęp do pierwszego znaku
print(first)

space = batman[5] # Dostęp do pustej przestrzeni w ciągu
print(space)

last = batman[len(batman) - 1]
print(last)
# Następujące polecenie spowoduje błąd, ponieważ indeks jest poza zakresem
# err = batman[len(batman)]








batman = "Bruce Wayne"
print(batman[-1]) # Odpowiada batmanowi[10]
print(batman[-5]) # Odpowiada batmanowi[6]





string = "Immutability"
string[0] = 'O' # Wyświetli błąd





str1 = "hello"
print(id(str1))

str1 = "bye"
print(id(str1))








string = u"This is unicode"





val = None
print(val) # wypisuje None i zwraca None
print(type(val))








my_string = "This is MY string!"
print(my_string[0:4]) # Od początku do czwartego indeksu
print(my_string[1:7])
print(my_string[8:len(my_string)]) # Od ósmego indeksu do końca





my_string = "This is MY string!"
print(my_string[0:7])  # Co 1 znak
print(my_string[0:7:2])  # Co 2 znaki
print(my_string[0:7:5])  # Co 5 znaków





my_string = "This is MY string!"
print(my_string[13:2:-1]) # Za każdym razem cofnij się o 1 krok
print(my_string[17:0:-2]) # Cofnij się o 2 kroki.





my_string = "This is MY string!"
print(my_string[:8]) # Wszystkie znaki przed „M”
print(my_string[8:]) # Wszystkie znaki zaczynające się od „M”
print(my_string[:]) # Cały ciąg
print(my_string[::-1]) # Cały ciąg w odwrotnej kolejności (krok wynosi -1)



