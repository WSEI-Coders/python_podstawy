{
 "cells": [
  {
   "cell_type": "markdown",
   "source": [
    "**Omówienie modułu**\n",
    "Listy, krotki, słowniki i zbiory należą do wbudowanych struktur danych Pythona. Należą one również do podstawowych i najczęściej używanych koncepcji, których muszą się nauczyć programiści Pythona. W tym module zdobędziemy praktyczne doświadczenie w pracy z wbudm6owanymi strukturami danych za pomocą przykładów kodowania i ćwiczeń. Moduł ten pomoże zrozumieć podstawy list, krotek, słowników i zbiorów. Moduł rozpoczyna się krótkim wprowadzeniem do list, typowych operacji na listach i rozumienia list. Następnie uczy o krotkach, zbiorach i słownikach. Następnie uczy, jak konwertować pomiędzy tymi wbudowanymi strukturami danych, a kończy dyskusją na temat koncepcji odniesień i kopii."
   ],
   "metadata": {
    "collapsed": false
   }
  },
  {
   "cell_type": "markdown",
   "source": [
    "**Czym są struktury danych?**\n",
    "Na tej lekcji dowiemy się, do czego służą wbudowane struktury danych i jak z nich korzystać w Pythonie.\n",
    "\n",
    "**Definicja**\n",
    "Struktura danych to sposób przechowywania i organizowania danych według określonego formatu lub struktury.\n",
    "\n",
    "Możemy znaleźć również przykłady struktur danych z życia wziętych.\n",
    "W Internecie można znaleźć mnóstwo list na najróżniejszą tematykę. Innym przykładem jest wykorzystanie tabel do wyświetlania harmonogramów. Powieść przechowuje i porządkuje tekst w akapitach.\n",
    "Wszystkie te nośniki przechowują dane i pozwalają nam manipulować nimi lub uzyskiwać do nich dostęp w określony sposób.\n",
    "Struktury danych są kluczową częścią programowania komputerowego. Ponieważ często mamy do czynienia z manipulacją danymi, niezwykle ważne jest zorganizowanie ich w skuteczny i znaczący sposób.\n",
    "\n",
    "**Struktury danych w Pythonie**\n",
    "Python jest wyposażony w kilka wbudowanych struktur danych, które pomagają nam efektywnie obsługiwać duże ilości danych.\n",
    "Cztery główne wbudowane struktury danych oferowane w Python3 to:\n",
    "Lista (list)\n",
    "Krotka (tuple)\n",
    "Słownik (dictionary)\n",
    "Zbiór (set)"
   ],
   "metadata": {
    "collapsed": false
   }
  },
  {
   "cell_type": "markdown",
   "source": [
    "**Listy**\n",
    "W tej lekcji omówiono najważniejsze cechy struktury danych listy.\n",
    "\n",
    "**Struktura**\n",
    "Lista jest prawdopodobnie najczęściej używaną strukturą danych w Pythonie. Pozwala na przechowywanie elementów różnych typów danych w jednym kontenerze.\n",
    "Zawartość listy ujęta jest w nawiasy kwadratowe, [].\n",
    "Listy są uporządkowane, podobnie jak ciągi znaków. Elementy są przechowywane liniowo z określonym indeksem.\n",
    "![List](img/01_lista.PNG)\n",
    "Z powyższej ilustracji widać, że lista przypomina ciąg znaków.\n",
    "Ciąg znaków to zbiór znaków indeksowanych liniowo. Lista jest taka sama, z tą różnicą, że może zawierać dowolny typ danych, nawet inną listę!\n",
    "\n",
    "**Tworzenie listy**\n",
    "Zobaczmy, jak utworzyć listę za pomocą nawiasów kwadratowych."
   ],
   "metadata": {
    "collapsed": false
   }
  },
  {
   "cell_type": "code",
   "execution_count": 1,
   "outputs": [
    {
     "name": "stdout",
     "output_type": "stream",
     "text": [
      "['Jon Snow', 'Winterfell', 30]\n",
      "Jon Snow\n",
      "3\n"
     ]
    }
   ],
   "source": [
    "jon_snow = [\"Jon Snow\", \"Winterfell\", 30]\n",
    "print(jon_snow)\n",
    "\n",
    "# Indeksowanie\n",
    "print(jon_snow[0])\n",
    "\n",
    "# Długość listy\n",
    "print(len(jon_snow))"
   ],
   "metadata": {
    "collapsed": false,
    "ExecuteTime": {
     "end_time": "2023-09-08T09:33:45.003694500Z",
     "start_time": "2023-09-08T09:33:44.992989500Z"
    }
   }
  },
  {
   "cell_type": "markdown",
   "source": [
    "Piękno list polega na tym, że nie jesteśmy przywiązani do jednego rodzaju danych.\n",
    "Listy są modyfikowalne, co dodatkowo rozszerza ich funkcjonalność:"
   ],
   "metadata": {
    "collapsed": false
   }
  },
  {
   "cell_type": "code",
   "execution_count": 2,
   "outputs": [
    {
     "name": "stdout",
     "output_type": "stream",
     "text": [
      "30\n",
      "33\n"
     ]
    }
   ],
   "source": [
    "jon_snow = [\"Jon Snow\", \"Winterfell\", 30]\n",
    "print(jon_snow[2])\n",
    "jon_snow[2] += 3\n",
    "print(jon_snow[2])"
   ],
   "metadata": {
    "collapsed": false,
    "ExecuteTime": {
     "end_time": "2023-09-08T09:49:24.179040900Z",
     "start_time": "2023-09-08T09:49:24.169062700Z"
    }
   }
  },
  {
   "cell_type": "markdown",
   "source": [
    "**Korzystanie z funkcji range()**\n",
    "Funkcję range() można dalej przekształcić w listę za pomocą rzutowania list().\n",
    "Oto przykład użycia range() do utworzenia listy liczb:"
   ],
   "metadata": {
    "collapsed": false
   }
  },
  {
   "cell_type": "code",
   "execution_count": 3,
   "outputs": [
    {
     "name": "stdout",
     "output_type": "stream",
     "text": [
      "[0, 1, 2, 3, 4, 5, 6, 7, 8, 9]\n",
      "[3, 6, 9, 12, 15, 18]\n"
     ]
    }
   ],
   "source": [
    "num_seq = range(0, 10)  # Sekwencja od 0 do 9\n",
    "num_list = list(num_seq)  # Metoda list() rzutuje sekwencję na listę\n",
    "print(num_list)\n",
    "\n",
    "num_seq = range(3, 20, 3)  # Sekwencja od 3 do 19 z krokiem 3\n",
    "print(list(num_seq))"
   ],
   "metadata": {
    "collapsed": false,
    "ExecuteTime": {
     "end_time": "2023-09-08T09:51:10.662645900Z",
     "start_time": "2023-09-08T09:51:10.651471800Z"
    }
   }
  },
  {
   "cell_type": "markdown",
   "source": [
    "**Lista w liście**\n",
    "Zagnieżdżone listy nie muszą nawet mieć tego samego rozmiaru! Nie jest to coś, co możemy znaleźć w wielu innych językach.\n",
    "Oto przykład list znajdujących się na innej liście:"
   ],
   "metadata": {
    "collapsed": false
   }
  },
  {
   "cell_type": "code",
   "execution_count": 5,
   "outputs": [
    {
     "name": "stdout",
     "output_type": "stream",
     "text": [
      "[[2006, 'Italy'], [2010, 'Spain'], [2014, 'Germany'], [2018, 'France']]\n"
     ]
    }
   ],
   "source": [
    "world_cup_winners = [[2006, \"Italy\"], [2010, \"Spain\"],\n",
    "                     [2014, \"Germany\"], [2018, \"France\"]]\n",
    "print(world_cup_winners)"
   ],
   "metadata": {
    "collapsed": false,
    "ExecuteTime": {
     "end_time": "2023-09-08T09:52:17.192735200Z",
     "start_time": "2023-09-08T09:52:17.187210600Z"
    }
   }
  },
  {
   "cell_type": "markdown",
   "source": [
    "**Indeksowanie sekwencyjne**\n",
    "Aby uzyskać dostęp do elementów listy lub ciągu znaków istniejącego na innej liście, możemy skorzystać z koncepcji indeksowania sekwencyjnego.\n",
    "Każdy poziom indeksowania przenosi nas o krok głębiej w listę, umożliwiając dostęp do dowolnego elementu złożonej listy.\n",
    "Wystarczy, że określimy wszystkie indeksy w sekwencji:"
   ],
   "metadata": {
    "collapsed": false
   }
  },
  {
   "cell_type": "code",
   "execution_count": 6,
   "outputs": [
    {
     "name": "stdout",
     "output_type": "stream",
     "text": [
      "[2010, 'Spain']\n",
      "Spain\n",
      "S\n"
     ]
    }
   ],
   "source": [
    "world_cup_winners = [[2006, \"Italy\"], [2010, \"Spain\"],\n",
    "                     [2014, \"Germany\"], [2018, \"France\"]]\n",
    "print(world_cup_winners[1])\n",
    "print(world_cup_winners[1][1])  # Dostęp do elementu 'Spain'\n",
    "print(world_cup_winners[1][1][0])  # Dostęp do konkretnej litery w słowie 'Spain' 'S'"
   ],
   "metadata": {
    "collapsed": false,
    "ExecuteTime": {
     "end_time": "2023-09-08T09:54:00.412776200Z",
     "start_time": "2023-09-08T09:54:00.396566Z"
    }
   }
  },
  {
   "cell_type": "markdown",
   "source": [
    "**Łączenie list**\n",
    "Python bardzo ułatwia łączenie list. Najprostszym sposobem jest użycie operatora +, podobnie jak ciągów znaków:"
   ],
   "metadata": {
    "collapsed": false
   }
  },
  {
   "cell_type": "code",
   "execution_count": 7,
   "outputs": [
    {
     "name": "stdout",
     "output_type": "stream",
     "text": [
      "[1, 2, 3, 4, 5, 6, 7, 8, 9, 10]\n"
     ]
    }
   ],
   "source": [
    "part_A = [1, 2, 3, 4, 5]\n",
    "part_B = [6, 7, 8, 9, 10]\n",
    "merged_list = part_A + part_B\n",
    "print(merged_list)"
   ],
   "metadata": {
    "collapsed": false,
    "ExecuteTime": {
     "end_time": "2023-09-08T09:54:36.891423600Z",
     "start_time": "2023-09-08T09:54:36.880989200Z"
    }
   }
  },
  {
   "cell_type": "markdown",
   "source": [
    "Alternatywnie możemy użyć metody extend() listy, aby dodać elementy jednej listy na końcu drugiej:"
   ],
   "metadata": {
    "collapsed": false
   }
  },
  {
   "cell_type": "code",
   "execution_count": 8,
   "outputs": [
    {
     "name": "stdout",
     "output_type": "stream",
     "text": [
      "[1, 2, 3, 4, 5, 6, 7, 8, 9, 10]\n"
     ]
    }
   ],
   "source": [
    "part_A = [1, 2, 3, 4, 5]\n",
    "part_B = [6, 7, 8, 9, 10]\n",
    "part_A.extend(part_B)\n",
    "print(part_A)"
   ],
   "metadata": {
    "collapsed": false,
    "ExecuteTime": {
     "end_time": "2023-09-08T09:55:18.825434800Z",
     "start_time": "2023-09-08T09:55:18.814934900Z"
    }
   }
  },
  {
   "cell_type": "markdown",
   "source": [
    "**Typowe operacje na liście**\n",
    "W tej lekcji przyjrzymy się niektórym właściwościom i narzędziom dostępnym w strukturze danych list."
   ],
   "metadata": {
    "collapsed": false
   }
  },
  {
   "cell_type": "markdown",
   "source": [
    "**Dodawanie elementów**\n",
    "Nie zawsze można wcześniej określić wszystkie elementy listy i istnieje duże prawdopodobieństwo, że będziemy chcieli dodać więcej elementów w czasie wykonywania.\n",
    "Metodę append() można wykorzystać do dodania nowego elementu na końcu listy:"
   ],
   "metadata": {
    "collapsed": false
   }
  },
  {
   "cell_type": "code",
   "execution_count": 9,
   "outputs": [
    {
     "name": "stdout",
     "output_type": "stream",
     "text": [
      "[1, 2, 3]\n"
     ]
    }
   ],
   "source": [
    "num_list = []  # Pusta lista\n",
    "num_list.append(1)\n",
    "num_list.append(2)\n",
    "num_list.append(3)\n",
    "print(num_list)"
   ],
   "metadata": {
    "collapsed": false,
    "ExecuteTime": {
     "end_time": "2023-09-08T09:56:40.685576400Z",
     "start_time": "2023-09-08T09:56:40.670107900Z"
    }
   }
  },
  {
   "cell_type": "markdown",
   "source": [
    "Uwaga: W powyższym kodzie tworzymy pustą listę w linii 1. Zawsze można to zrobić po prostu używając pustych nawiasów kwadratowych [].\n",
    "\n",
    "Aby dodać element pod określonym indeksem na liście, możemy skorzystać z metody insert().\n",
    "Jeśli wartość już istnieje w tym indeksie, cała lista począwszy od tej wartości zostanie przesunięta o jeden krok w prawo:"
   ],
   "metadata": {
    "collapsed": false
   }
  },
  {
   "cell_type": "code",
   "execution_count": 10,
   "outputs": [
    {
     "name": "stdout",
     "output_type": "stream",
     "text": [
      "[1, 2, 3, 4, 5, 6]\n"
     ]
    }
   ],
   "source": [
    "num_list = [1, 2, 3, 5, 6]\n",
    "num_list.insert(3, 4)  # Wstawienie 4 w trzecim indeksie. 5 i 6 przesunęły się w prawo\n",
    "print(num_list)"
   ],
   "metadata": {
    "collapsed": false,
    "ExecuteTime": {
     "end_time": "2023-09-08T09:58:33.011478700Z",
     "start_time": "2023-09-08T09:58:32.999288600Z"
    }
   }
  },
  {
   "cell_type": "markdown",
   "source": [
    "**Usuwanie elementów**\n",
    "Usuwanie elementów jest tak proste, jak ich dodawanie. Odpowiednikiem append() jest operacja pop(), która usuwa ostatni element z listy.\n",
    "Możemy przechowywać ten wyskakujący element w zmiennej:"
   ],
   "metadata": {
    "collapsed": false
   }
  },
  {
   "cell_type": "code",
   "execution_count": 11,
   "outputs": [
    {
     "name": "stdout",
     "output_type": "stream",
     "text": [
      "Slytherin\n",
      "['Gryffindor', 'Hufflepuff', 'Ravenclaw']\n"
     ]
    }
   ],
   "source": [
    "houses = [\"Gryffindor\", \"Hufflepuff\", \"Ravenclaw\", \"Slytherin\"]\n",
    "last_house = houses.pop()\n",
    "print(last_house)\n",
    "print(houses)"
   ],
   "metadata": {
    "collapsed": false,
    "ExecuteTime": {
     "end_time": "2023-09-08T09:59:21.459765Z",
     "start_time": "2023-09-08T09:59:21.441114100Z"
    }
   }
  },
  {
   "cell_type": "markdown",
   "source": [
    "Jeśli chcemy usunąć konkretną wartość z listy, możemy skorzystać z metody remove()."
   ],
   "metadata": {
    "collapsed": false
   }
  },
  {
   "cell_type": "code",
   "execution_count": 12,
   "outputs": [
    {
     "name": "stdout",
     "output_type": "stream",
     "text": [
      "['Gryffindor', 'Hufflepuff', 'Ravenclaw', 'Slytherin']\n",
      "['Gryffindor', 'Hufflepuff', 'Slytherin']\n",
      "[['Winterfell', 10000], [\"King's Landing\", 50000], ['Iron Islands', 5000]]\n",
      "[['Winterfell', 10000], ['Iron Islands', 5000]]\n"
     ]
    }
   ],
   "source": [
    "houses = [\"Gryffindor\", \"Hufflepuff\", \"Ravenclaw\", \"Slytherin\"]\n",
    "print(houses)\n",
    "houses.remove(\"Ravenclaw\")\n",
    "print(houses)\n",
    "\n",
    "# Dla list zagnieżdżonych\n",
    "populations = [[\"Winterfell\", 10000], [\"King's Landing\", 50000],\n",
    "               [\"Iron Islands\", 5000]]\n",
    "print(populations)\n",
    "populations.remove([\"King's Landing\", 50000])\n",
    "print(populations)\n"
   ],
   "metadata": {
    "collapsed": false,
    "ExecuteTime": {
     "end_time": "2023-09-08T10:00:13.697257200Z",
     "start_time": "2023-09-08T10:00:13.677394900Z"
    }
   }
  },
  {
   "cell_type": "markdown",
   "source": [
    "**List slicing**\n",
    "Dzielenie listy to termin używany do uzyskania części listy na podstawie indeksów początkowych i końcowych.\n",
    "List slicing daje nam podlistę:"
   ],
   "metadata": {
    "collapsed": false
   }
  },
  {
   "cell_type": "code",
   "execution_count": 13,
   "outputs": [
    {
     "name": "stdout",
     "output_type": "stream",
     "text": [
      "[3, 4, 5]\n",
      "[1, 3, 5, 7]\n"
     ]
    }
   ],
   "source": [
    "num_list = [1, 2, 3, 4, 5, 6, 7, 8]\n",
    "print(num_list[2:5])\n",
    "print(num_list[0::2])"
   ],
   "metadata": {
    "collapsed": false,
    "ExecuteTime": {
     "end_time": "2023-09-08T10:01:03.500064700Z",
     "start_time": "2023-09-08T10:01:03.478633200Z"
    }
   }
  },
  {
   "cell_type": "markdown",
   "source": [
    "**Wyszukiwanie indeksu**\n",
    "Dzięki listom dostęp do wartości jest naprawdę łatwy poprzez jej indeks. Możliwa jest jednak także operacja odwrotna, gdzie znajdziemy indeks danej wartości.\n",
    "W tym celu użyjemy metody index():"
   ],
   "metadata": {
    "collapsed": false
   }
  },
  {
   "cell_type": "code",
   "execution_count": 14,
   "outputs": [
    {
     "name": "stdout",
     "output_type": "stream",
     "text": [
      "2\n"
     ]
    }
   ],
   "source": [
    "cities = [\"London\", \"Paris\", \"Los Angeles\", \"Beirut\"]\n",
    "print(cities.index(\"Los Angeles\"))  # Znajduje się na drugim indeksie"
   ],
   "metadata": {
    "collapsed": false,
    "ExecuteTime": {
     "end_time": "2023-09-08T10:16:42.638747Z",
     "start_time": "2023-09-08T10:16:42.616651300Z"
    }
   }
  },
  {
   "cell_type": "markdown",
   "source": [
    "Jeśli chcemy tylko sprawdzić istnienie elementu na liście, możemy użyć operatora in:"
   ],
   "metadata": {
    "collapsed": false
   }
  },
  {
   "cell_type": "code",
   "execution_count": 15,
   "outputs": [
    {
     "name": "stdout",
     "output_type": "stream",
     "text": [
      "True\n",
      "True\n"
     ]
    }
   ],
   "source": [
    "cities = [\"London\", \"Paris\", \"Los Angeles\", \"Beirut\"]\n",
    "print(\"London\" in cities)\n",
    "print(\"Moscow\" not in cities)"
   ],
   "metadata": {
    "collapsed": false,
    "ExecuteTime": {
     "end_time": "2023-09-08T10:17:05.423587200Z",
     "start_time": "2023-09-08T10:17:05.401083600Z"
    }
   }
  },
  {
   "cell_type": "markdown",
   "source": [
    "**Sortowanie listy**\n",
    "Listę można posortować rosnąco za pomocą metody sort(). Sortowanie może odbywać się alfabetycznie lub numerycznie w zależności od zawartości listy:"
   ],
   "metadata": {
    "collapsed": false
   }
  },
  {
   "cell_type": "code",
   "execution_count": 16,
   "outputs": [
    {
     "name": "stdout",
     "output_type": "stream",
     "text": [
      "[5, 10, 20, 30, 40, 50.4, 100]\n"
     ]
    }
   ],
   "source": [
    "num_list = [20, 40, 10, 50.4, 30, 100, 5]\n",
    "num_list.sort()\n",
    "print(num_list)"
   ],
   "metadata": {
    "collapsed": false,
    "ExecuteTime": {
     "end_time": "2023-09-08T10:17:35.116132800Z",
     "start_time": "2023-09-08T10:17:35.090539200Z"
    }
   }
  },
  {
   "cell_type": "markdown",
   "source": [
    "**List Comprehension**\n",
    "Nauczmy się, jak utworzyć nową listę na podstawie istniejącej listy za pomocą pętli for.\n",
    "\n",
    "**Definicja**\n",
    "List comprehension to technika wykorzystująca pętlę for i warunek do utworzenia nowej listy na podstawie istniejącej.\n",
    "\n",
    "Wynikiem jest zawsze nowa lista, dlatego dobrą praktyką jest przypisanie rozumienia listy do nowej zmiennej.\n",
    "\n",
    "**Struktura\n",
    "Instrukcja list comprehension jest zawsze ujęta w nawiasy kwadratowe, [].\n",
    "Rozumienie składa się z trzech głównych części:\n",
    "![List comprehension](img/02_list_comprehension.PNG)\n",
    "- Wyrażenie jest operacją używaną do tworzenia elementów na nowej liście.\n",
    "- Pętla for wykona iterację istniejącej listy. Iterator zostanie użyty w wyrażeniu.\n",
    "- Nowe elementy zostaną dodane do nowej listy dopiero po spełnieniu warunku if. Ten komponent jest opcjonalny.\n",
    "\n",
    "**Tworzenie List Comprehension**\n",
    "Utwórzmy nową listę, której wartości będą dwukrotnością wartości istniejącej listy."
   ],
   "metadata": {
    "collapsed": false
   }
  },
  {
   "cell_type": "code",
   "execution_count": 17,
   "outputs": [
    {
     "name": "stdout",
     "output_type": "stream",
     "text": [
      "[10, 20, 30, 40, 50]\n",
      "[20, 40, 60, 80, 100]\n"
     ]
    }
   ],
   "source": [
    "nums = [10, 20, 30, 40, 50]\n",
    "nums_double = []\n",
    "\n",
    "for n in nums:\n",
    "    nums_double.append(n * 2)\n",
    "\n",
    "print(nums)\n",
    "print(nums_double)"
   ],
   "metadata": {
    "collapsed": false,
    "ExecuteTime": {
     "end_time": "2023-09-08T10:21:55.968677700Z",
     "start_time": "2023-09-08T10:21:55.944521900Z"
    }
   }
  },
  {
   "cell_type": "markdown",
   "source": [
    "Podzielmy powyższą pętlę na trzy elementy list comprehension.\n",
    "Wyrażenie jest równoważne n * 2, ponieważ jest używane do tworzenia każdej wartości na nowej liście.\n",
    "Nasza pętla for dotyczy n w liczbach, gdzie n jest iteratorem.\n",
    "Warunek if w tym przypadku nie istnieje.\n",
    "Przekształćmy więc powyższą pętlę w funkcję list comprehension:"
   ],
   "metadata": {
    "collapsed": false
   }
  },
  {
   "cell_type": "code",
   "execution_count": 18,
   "outputs": [
    {
     "name": "stdout",
     "output_type": "stream",
     "text": [
      "[10, 20, 30, 40, 50]\n",
      "[20, 40, 60, 80, 100]\n"
     ]
    }
   ],
   "source": [
    "nums = [10, 20, 30, 40, 50]\n",
    "\n",
    "# List comprehension\n",
    "nums_double = [n * 2 for n in nums]\n",
    "\n",
    "print(nums)\n",
    "print(nums_double)"
   ],
   "metadata": {
    "collapsed": false,
    "ExecuteTime": {
     "end_time": "2023-09-08T10:22:51.293435400Z",
     "start_time": "2023-09-08T10:22:51.264816300Z"
    }
   }
  },
  {
   "cell_type": "markdown",
   "source": [
    "To wygląda bardziej zwięźle i czysto! Nową listę możemy utworzyć w jednej linii.\n",
    "\n",
    "**Dodawanie warunku**\n",
    "Nasze poprzednie list comprehension nie miało warunku. Wszystkie wartości listy nums zostały po prostu podwojone i dodane do nums_double.\n",
    "Co by było, gdybyśmy chcieli, aby nasza nowa lista zawierała tylko elementy podzielne przez 4?\n",
    "Po prostu dodalibyśmy warunek if na końcu naszej listy:"
   ],
   "metadata": {
    "collapsed": false
   }
  },
  {
   "cell_type": "code",
   "execution_count": 19,
   "outputs": [
    {
     "name": "stdout",
     "output_type": "stream",
     "text": [
      "[10, 20, 30, 40, 50]\n",
      "[40, 80]\n"
     ]
    }
   ],
   "source": [
    "nums = [10, 20, 30, 40, 50]\n",
    "\n",
    "# List comprehension\n",
    "nums_double = [n * 2 for n in nums if n % 4 == 0]\n",
    "\n",
    "print(nums)\n",
    "print(nums_double)"
   ],
   "metadata": {
    "collapsed": false,
    "ExecuteTime": {
     "end_time": "2023-09-08T10:24:06.022700200Z",
     "start_time": "2023-09-08T10:24:05.996479400Z"
    }
   }
  },
  {
   "cell_type": "markdown",
   "source": [
    "Teraz spośród liczb wybrano tylko 20 i 40, ponieważ spełniają one warunek if. Zatem wynikowy nums_double będzie zawierał [40, 80].\n",
    "\n",
    "**Korzystanie z wielu list**\n",
    "List comprehension można również przeprowadzić na więcej niż jednej liście. Liczba pętli for w List comprehension będzie odpowiadać liczbie list, których używamy.\n",
    "Napiszmy funkcję, która utworzy krotki z wartości na dwóch listach, gdy ich suma jest większa niż 100. Te krotki są elementami nowej listy:"
   ],
   "metadata": {
    "collapsed": false
   }
  },
  {
   "cell_type": "code",
   "execution_count": 21,
   "outputs": [
    {
     "name": "stdout",
     "output_type": "stream",
     "text": [
      "[(50, 60), (110, 10), (110, 60), (110, 20), (110, 50), (75, 60), (75, 50)]\n"
     ]
    }
   ],
   "source": [
    "list1 = [30, 50, 110, 40, 15, 75]\n",
    "list2 = [10, 60, 20, 50]\n",
    "\n",
    "sum_list = [(n1, n2) for n1 in list1 for n2 in list2 if n1 + n2 > 100]\n",
    "\n",
    "print(sum_list)"
   ],
   "metadata": {
    "collapsed": false,
    "ExecuteTime": {
     "end_time": "2023-09-08T10:25:46.958293Z",
     "start_time": "2023-09-08T10:25:46.941341800Z"
    }
   }
  },
  {
   "cell_type": "markdown",
   "source": [
    "**Krotki (tuple)**\n",
    "W tej lekcji omówiono najważniejsze cechy struktury danych krotek w języku Python.\n",
    "\n",
    "**Struktura**\n",
    "Krotka jest bardzo podobna do listy, z tą różnicą, że jej zawartości nie można zmienić (immutable). Innymi słowy, krotka jest niezmienna. Może jednak zawierać modyfikowalne elementy, takie jak lista. Elementy te można modyfikować.\n",
    "Zawartość krotki jest ujęta w nawiasy (). Są one również uporządkowane, a zatem są zgodne z zapisem indeksu liniowego.\n",
    "![Krotka](img/03_krotka.PNG)\n",
    "\n",
    "**Niezmienność**\n",
    "Ponieważ krotki są niezmienne, nie możemy dodawać ani usuwać z nich elementów. Co więcej, nie jest możliwe dołączenie kolejnej krotki do istniejącej krotki\n",
    "\n",
    "**Tworzenie krotki**\n",
    "Krotki można tworzyć podobnie jak listy. Wszystkie operacje indeksowania i krojenia (slicing) dotyczą również tego:"
   ],
   "metadata": {
    "collapsed": false
   }
  },
  {
   "cell_type": "code",
   "execution_count": 22,
   "outputs": [
    {
     "name": "stdout",
     "output_type": "stream",
     "text": [
      "('Ford', 'Raptor', 2019, 'Red')\n",
      "4\n",
      "Raptor\n",
      "(2019, 'Red')\n"
     ]
    }
   ],
   "source": [
    "car = (\"Ford\", \"Raptor\", 2019, \"Red\")\n",
    "print(car)\n",
    "\n",
    "# Długość krotki\n",
    "print(len(car))\n",
    "\n",
    "# Indeksowanie\n",
    "print(car[1])\n",
    "\n",
    "# Slicing\n",
    "print(car[2:])"
   ],
   "metadata": {
    "collapsed": false,
    "ExecuteTime": {
     "end_time": "2023-09-08T10:29:50.701855900Z",
     "start_time": "2023-09-08T10:29:50.675523100Z"
    }
   }
  },
  {
   "cell_type": "markdown",
   "source": [
    "**Łączenie krotek**\n",
    "Krotki można łączyć za pomocą operatora +"
   ],
   "metadata": {
    "collapsed": false
   }
  },
  {
   "cell_type": "code",
   "execution_count": 23,
   "outputs": [
    {
     "name": "stdout",
     "output_type": "stream",
     "text": [
      "('Batman', 'Bruce Wayne', 'Wonder Woman', 'Diana Prince')\n"
     ]
    }
   ],
   "source": [
    "hero1 = (\"Batman\", \"Bruce Wayne\")\n",
    "hero2 = (\"Wonder Woman\", \"Diana Prince\")\n",
    "awesome_team = hero1 + hero2\n",
    "print(awesome_team)"
   ],
   "metadata": {
    "collapsed": false,
    "ExecuteTime": {
     "end_time": "2023-09-08T10:30:19.327442300Z",
     "start_time": "2023-09-08T10:30:19.299529400Z"
    }
   }
  },
  {
   "cell_type": "markdown",
   "source": [
    "Zagnieżdżone krotki:\n",
    "W poprzednim przykładzie kodowania, zamiast łączyć dwie krotki, moglibyśmy utworzyć nową krotkę z tymi dwiema krotkami jako składnikami:"
   ],
   "metadata": {
    "collapsed": false
   }
  },
  {
   "cell_type": "code",
   "execution_count": 24,
   "outputs": [
    {
     "name": "stdout",
     "output_type": "stream",
     "text": [
      "(('Batman', 'Bruce Wayne'), ('Wonder Woman', 'Diana Prince'))\n"
     ]
    }
   ],
   "source": [
    "hero1 = (\"Batman\", \"Bruce Wayne\")\n",
    "hero2 = (\"Wonder Woman\", \"Diana Prince\")\n",
    "awesome_team = (hero1, hero2)\n",
    "print(awesome_team)"
   ],
   "metadata": {
    "collapsed": false,
    "ExecuteTime": {
     "end_time": "2023-09-08T10:31:12.881548200Z",
     "start_time": "2023-09-08T10:31:12.852376400Z"
    }
   }
  },
  {
   "cell_type": "markdown",
   "source": [
    "**Szukanie**\n",
    "Możemy sprawdzić, czy element istnieje w krotce, używając operatora in w następujący sposób:"
   ],
   "metadata": {
    "collapsed": false
   }
  },
  {
   "cell_type": "code",
   "execution_count": 25,
   "outputs": [
    {
     "name": "stdout",
     "output_type": "stream",
     "text": [
      "False\n"
     ]
    }
   ],
   "source": [
    "cities = (\"London\", \"Paris\", \"Los Angeles\", \"Tokyo\")\n",
    "print(\"Moscow\" in cities)"
   ],
   "metadata": {
    "collapsed": false,
    "ExecuteTime": {
     "end_time": "2023-09-08T10:31:38.989481Z",
     "start_time": "2023-09-08T10:31:38.957728Z"
    }
   }
  },
  {
   "cell_type": "markdown",
   "source": [
    "Funkcja index() może dać nam indeks określonej wartości:"
   ],
   "metadata": {
    "collapsed": false
   }
  },
  {
   "cell_type": "code",
   "execution_count": 26,
   "outputs": [
    {
     "name": "stdout",
     "output_type": "stream",
     "text": [
      "3\n"
     ]
    }
   ],
   "source": [
    "cities = (\"London\", \"Paris\", \"Los Angeles\", \"Tokyo\")\n",
    "print(cities.index(\"Tokyo\"))"
   ],
   "metadata": {
    "collapsed": false,
    "ExecuteTime": {
     "end_time": "2023-09-08T10:32:05.218537700Z",
     "start_time": "2023-09-08T10:32:05.188127600Z"
    }
   }
  },
  {
   "cell_type": "markdown",
   "source": [
    "**Słowniki**\n",
    "W tej lekcji omówiono najważniejsze cechy struktury danych słownika.\n",
    "\n",
    "**Struktura**\n",
    "W porównaniu do listy lub krotki słownik ma nieco bardziej złożoną strukturę.\n",
    "Kiedy myślimy o słowniku, pojawia się obraz ogromnej księgi zawierającej słowa wraz z ich znaczeniami.\n",
    "Mówiąc prościej, informacje są przechowywane w parach słów i znaczeń. Struktura danych słownika Pythona ma tę samą strukturę.\n",
    "Słownik przechowuje pary klucz-wartość, gdzie każdy unikalny klucz jest indeksem przechowującym powiązaną z nim wartość.\n",
    "Słowniki są nieuporządkowane, ponieważ hasła nie są przechowywane w strukturze liniowej.\n",
    "W Pythonie zawartość słownika musimy umieścić w nawiasach klamrowych, {}:\n",
    "![Słownik](img/04_słownik.PNG)\n",
    "\n",
    "**Tworzenie słownika**\n",
    "Utwórzmy pusty słownik i prostą książkę telefoniczną, korzystając ze struktury danych słownika.\n",
    "Uwaga: Ponieważ słownik jest nieuporządkowaną strukturą danych, kolejność wyników niekoniecznie będzie odpowiadać kolejności, w jakiej zapisaliśmy wpisy. Dostęp do par klucz-wartość jest losowy lub nieuporządkowany."
   ],
   "metadata": {
    "collapsed": false
   }
  },
  {
   "cell_type": "code",
   "execution_count": 27,
   "outputs": [
    {
     "name": "stdout",
     "output_type": "stream",
     "text": [
      "{}\n",
      "{'Batman': 468426, 'Cersei': 237734, 'Ghostbusters': 44678}\n"
     ]
    }
   ],
   "source": [
    "empty_dict = {}  # Pusty słownik\n",
    "print(empty_dict)\n",
    "\n",
    "phone_book = {\"Batman\": 468426,\n",
    "              \"Cersei\": 237734,\n",
    "              \"Ghostbusters\": 44678}\n",
    "print(phone_book)"
   ],
   "metadata": {
    "collapsed": false,
    "ExecuteTime": {
     "end_time": "2023-09-08T11:46:00.822698200Z",
     "start_time": "2023-09-08T11:46:00.787405600Z"
    }
   }
  },
  {
   "cell_type": "markdown",
   "source": [
    "Powyższy słownik można również zapisać w tej samej linii. Podzielenie go na linie tylko zwiększa czytelność.\n",
    "\n",
    "**Konstruktor dict()**\n",
    "Jak sama nazwa wskazuje, konstruktora dict() można użyć do zbudowania słownika. Pomyśl o „konstruktorze” jako o operacji, która daje nam słownik.\n",
    "Jeśli nasze klucze są prostymi ciągami znaków bez znaków specjalnych, możemy utworzyć wpisy w konstruktorze. W takim przypadku wartości zostaną przypisane do kluczy za pomocą operatora =.\n",
    "Popularną praktyką jest tworzenie pustego słownika i dodawanie wpisów później.\n",
    "Przeanalizujmy przykłady empty_dict i phone_book, aby działały z funkcją dict():"
   ],
   "metadata": {
    "collapsed": false
   }
  },
  {
   "cell_type": "code",
   "execution_count": 28,
   "outputs": [
    {
     "name": "stdout",
     "output_type": "stream",
     "text": [
      "{}\n",
      "{'Batman': 468426, 'Cersei': 237734, 'Ghostbusters': 44678}\n",
      "{'Batman': 468426, 'Cersei': 237734, 'Ghostbusters': 44678}\n"
     ]
    }
   ],
   "source": [
    "empty_dict = dict()  # Pusty słownik\n",
    "print(empty_dict)\n",
    "\n",
    "phone_book = dict(Batman=468426, Cersei=237734, Ghostbusters=44678)\n",
    "# Klucze zostaną automatycznie przekonwertowane na ciągi znaków\n",
    "print(phone_book)\n",
    "\n",
    "# Alternatywne podejście\n",
    "phone_book = dict([('Batman', 468426),\n",
    "                   ('Cersei', 237734),\n",
    "                   ('Ghostbusters', 44678)])\n",
    "print(phone_book)"
   ],
   "metadata": {
    "collapsed": false,
    "ExecuteTime": {
     "end_time": "2023-09-08T11:47:56.853161Z",
     "start_time": "2023-09-08T11:47:56.805243300Z"
    }
   }
  },
  {
   "cell_type": "markdown",
   "source": [
    "Klucze i wartości mogą mieć dowolne podstawowe typy danych lub struktury (pewne ograniczenia dotyczą kluczy, ale to zostanie omówione później).\n",
    "Dwa klucze mogą mieć tę samą wartość. Ważne jest jednak, aby wszystkie klucze były unikalne.\n",
    "Na przykładzie książki telefonicznej widzimy, jak słowniki mogą organizować dane w znaczący sposób. Numer telefonu postaci jest łatwy do rozpoznania, ponieważ jest on przechowywany razem.\n",
    "\n",
    "**Dostęp do wartości**\n",
    "Dla wielu właśnie w tym miejscu słownik ma przewagę nad listą lub krotką. Ponieważ nie ma indeksów liniowych, nie musimy śledzić, gdzie przechowywane są wartości.\n",
    "Zamiast tego możemy uzyskać dostęp do wartości, umieszczając jej klucz w nawiasach kwadratowych []. Ma to większe znaczenie niż indeksy całkowite, których używamy w przypadku krotek i list.\n",
    "Alternatywnie możemy użyć metody get() w następujący sposób:"
   ],
   "metadata": {
    "collapsed": false
   }
  },
  {
   "cell_type": "code",
   "execution_count": 29,
   "outputs": [
    {
     "name": "stdout",
     "output_type": "stream",
     "text": [
      "237734\n",
      "44678\n"
     ]
    }
   ],
   "source": [
    "phone_book = {\"Batman\": 468426,\n",
    "              \"Cersei\": 237734,\n",
    "              \"Ghostbusters\": 44678}\n",
    "print(phone_book[\"Cersei\"])\n",
    "print(phone_book.get(\"Ghostbusters\"))"
   ],
   "metadata": {
    "collapsed": false,
    "ExecuteTime": {
     "end_time": "2023-09-08T11:50:04.585240200Z",
     "start_time": "2023-09-08T11:50:04.528842500Z"
    }
   }
  },
  {
   "cell_type": "markdown",
   "source": [
    "**Operacje słownikowe**\n",
    "W tej lekcji nauczymy się niektórych operacji, które pomogą nam w pełni wykorzystać potencjał słownika.\n",
    "\n",
    "**Dodawanie/aktualizowanie wpisów**\n",
    "Możemy dodawać nowe wpisy do słownika, po prostu przypisując wartość do klucza. Python automatycznie tworzy wpis.\n",
    "Jeśli wartość już istnieje w tym kluczu, zostanie zaktualizowana:"
   ],
   "metadata": {
    "collapsed": false
   }
  },
  {
   "cell_type": "code",
   "execution_count": 30,
   "outputs": [
    {
     "name": "stdout",
     "output_type": "stream",
     "text": [
      "{'Batman': 468426, 'Cersei': 237734, 'Ghostbusters': 44678}\n",
      "{'Batman': 468426, 'Cersei': 237734, 'Ghostbusters': 44678, 'Godzilla': 46394}\n",
      "{'Batman': 468426, 'Cersei': 237734, 'Ghostbusters': 44678, 'Godzilla': 9000}\n"
     ]
    }
   ],
   "source": [
    "phone_book = {\"Batman\": 468426,\n",
    "              \"Cersei\": 237734,\n",
    "              \"Ghostbusters\": 44678}\n",
    "print(phone_book)\n",
    "\n",
    "phone_book[\"Godzilla\"] = 46394  # Nowy wpis\n",
    "print(phone_book)\n",
    "\n",
    "phone_book[\"Godzilla\"] = 9000  # Aktualizowanie wpisu\n",
    "print(phone_book)"
   ],
   "metadata": {
    "collapsed": false,
    "ExecuteTime": {
     "end_time": "2023-09-08T11:52:23.809595700Z",
     "start_time": "2023-09-08T11:52:23.769704600Z"
    }
   }
  },
  {
   "cell_type": "markdown",
   "source": [
    "**Usuwanie wpisów**\n",
    "Aby usunąć wpis, możemy użyć słowa kluczowego del:"
   ],
   "metadata": {
    "collapsed": false
   }
  },
  {
   "cell_type": "code",
   "execution_count": 31,
   "outputs": [
    {
     "name": "stdout",
     "output_type": "stream",
     "text": [
      "{'Batman': 468426, 'Cersei': 237734, 'Ghostbusters': 44678}\n",
      "{'Cersei': 237734, 'Ghostbusters': 44678}\n"
     ]
    }
   ],
   "source": [
    "phone_book = {\"Batman\": 468426,\n",
    "              \"Cersei\": 237734,\n",
    "              \"Ghostbusters\": 44678}\n",
    "print(phone_book)\n",
    "\n",
    "del phone_book[\"Batman\"]\n",
    "print(phone_book)"
   ],
   "metadata": {
    "collapsed": false,
    "ExecuteTime": {
     "end_time": "2023-09-08T11:52:49.841845Z",
     "start_time": "2023-09-08T11:52:49.803628100Z"
    }
   }
  },
  {
   "cell_type": "markdown",
   "source": [
    "Jeśli chcemy użyć usuniętej wartości, metody pop() lub popitem() będą działać lepiej:"
   ],
   "metadata": {
    "collapsed": false
   }
  },
  {
   "cell_type": "code",
   "execution_count": 32,
   "outputs": [
    {
     "name": "stdout",
     "output_type": "stream",
     "text": [
      "{'Batman': 468426, 'Cersei': 237734, 'Ghostbusters': 44678}\n",
      "{'Batman': 468426, 'Ghostbusters': 44678}\n",
      "237734\n",
      "('Ghostbusters', 44678)\n"
     ]
    }
   ],
   "source": [
    "phone_book = {\"Batman\": 468426,\n",
    "              \"Cersei\": 237734,\n",
    "              \"Ghostbusters\": 44678}\n",
    "print(phone_book)\n",
    "\n",
    "cersei = phone_book.pop(\"Cersei\")\n",
    "print(phone_book)\n",
    "print(cersei)\n",
    "\n",
    "# Usuwa i zwraca ostatnio wstawioną parę jako krotkę\n",
    "# W wersjach Pythona wcześniejszych niż 3.7 popitem() usuwa i zwraca losowy element\n",
    "lastAdded = phone_book.popitem()\n",
    "print(lastAdded)"
   ],
   "metadata": {
    "collapsed": false,
    "ExecuteTime": {
     "end_time": "2023-09-08T11:53:32.567810Z",
     "start_time": "2023-09-08T11:53:32.527008200Z"
    }
   }
  },
  {
   "cell_type": "markdown",
   "source": [
    "**Długość słownika**\n",
    "Podobnie jak w przypadku list i krotek, długość słownika możemy obliczyć za pomocą funkcji len():"
   ],
   "metadata": {
    "collapsed": false
   }
  },
  {
   "cell_type": "code",
   "execution_count": 33,
   "outputs": [
    {
     "name": "stdout",
     "output_type": "stream",
     "text": [
      "3\n"
     ]
    }
   ],
   "source": [
    "phone_book = {\"Batman\": 468426,\n",
    "              \"Cersei\": 237734,\n",
    "              \"Ghostbusters\": 44678}\n",
    "print(len(phone_book))"
   ],
   "metadata": {
    "collapsed": false,
    "ExecuteTime": {
     "end_time": "2023-09-08T11:54:15.335234600Z",
     "start_time": "2023-09-08T11:54:15.294342Z"
    }
   }
  },
  {
   "cell_type": "markdown",
   "source": [
    "**Sprawdzanie istnienia klucza**\n",
    "Słowa kluczowego in można użyć do sprawdzenia, czy klucz istnieje w słowniku:"
   ],
   "metadata": {
    "collapsed": false
   }
  },
  {
   "cell_type": "code",
   "execution_count": 34,
   "outputs": [
    {
     "name": "stdout",
     "output_type": "stream",
     "text": [
      "True\n",
      "False\n"
     ]
    }
   ],
   "source": [
    "phone_book = {\"Batman\": 468426,\n",
    "              \"Cersei\": 237734,\n",
    "              \"Ghostbusters\": 44678}\n",
    "print(\"Batman\" in phone_book)\n",
    "print(\"Godzilla\" in phone_book)"
   ],
   "metadata": {
    "collapsed": false,
    "ExecuteTime": {
     "end_time": "2023-09-08T11:54:42.345810300Z",
     "start_time": "2023-09-08T11:54:42.304176600Z"
    }
   }
  },
  {
   "cell_type": "markdown",
   "source": [
    "**Kopiowanie zawartości**\n",
    "Aby skopiować zawartość jednego słownika do drugiego, możemy skorzystać z operacji update():"
   ],
   "metadata": {
    "collapsed": false
   }
  },
  {
   "cell_type": "code",
   "execution_count": 35,
   "outputs": [
    {
     "name": "stdout",
     "output_type": "stream",
     "text": [
      "{'Batman': 468426, 'Cersei': 237734, 'Ghostbusters': 44678, 'Catwoman': 67423, 'Jaime': 237734, 'Godzilla': 37623}\n"
     ]
    }
   ],
   "source": [
    "phone_book = {\"Batman\": 468426,\n",
    "              \"Cersei\": 237734,\n",
    "              \"Ghostbusters\": 44678}\n",
    "\n",
    "second_phone_book = {\"Catwoman\": 67423, \"Jaime\": 237734, \"Godzilla\": 37623}\n",
    "\n",
    "# Dodanie secondphone_book do phone_book\n",
    "phone_book.update(second_phone_book)\n",
    "print(phone_book)"
   ],
   "metadata": {
    "collapsed": false,
    "ExecuteTime": {
     "end_time": "2023-09-08T11:55:31.945649500Z",
     "start_time": "2023-09-08T11:55:31.899001300Z"
    }
   }
  },
  {
   "cell_type": "markdown",
   "source": [
    "**Dictionary Comprehension**\n",
    "Python obsługuje także Dictionary Comprehension, które działają bardzo podobnie do List Comprehension. Będziemy tworzyć nowe pary klucz-wartość w oparciu o istniejący słownik.\n",
    "Jednak do iteracji słownika użyjemy operacji dict.items(), która zamienia słownik w listę krotek (klucz, wartość).\n",
    "Oto prosty przykład, w którym klawisze oryginalnego słownika są kwadratowe i „!” jest dołączany do każdej wartości ciągu:"
   ],
   "metadata": {
    "collapsed": false
   }
  },
  {
   "cell_type": "code",
   "execution_count": 36,
   "outputs": [
    {
     "name": "stdout",
     "output_type": "stream",
     "text": [
      "{1: 'Gryffindor', 2: 'Slytherin', 3: 'Hufflepuff', 4: 'Ravenclaw'}\n",
      "{1: 'Gryffindor!', 4: 'Slytherin!', 9: 'Hufflepuff!', 16: 'Ravenclaw!'}\n"
     ]
    }
   ],
   "source": [
    "houses = {1: \"Gryffindor\", 2: \"Slytherin\", 3: \"Hufflepuff\", 4: \"Ravenclaw\"}\n",
    "new_houses = {n**2: house + \"!\" for (n, house) in houses.items()}\n",
    "print(houses)\n",
    "print(new_houses)"
   ],
   "metadata": {
    "collapsed": false,
    "ExecuteTime": {
     "end_time": "2023-09-08T11:56:50.574573500Z",
     "start_time": "2023-09-08T11:56:50.516408300Z"
    }
   }
  },
  {
   "cell_type": "markdown",
   "source": [
    "**Zbiory (sets)**\n",
    "W tej lekcji omówiono najważniejsze cechy zbiorów.\n",
    "\n",
    "**Struktura**\n",
    "Zbiór to nieuporządkowany zbiór elementów danych.\n",
    "Dane nie są indeksowane, dlatego nie możemy uzyskać dostępu do elementów za pomocą indeksów ani metody get().\n",
    "Jest to prawdopodobnie najprostsza struktura danych w Pythonie. Możemy o tym myśleć jak o zestawie zawierającym losowe przedmioty\n",
    "![Krotka](img/05_krotka.PNG)\n",
    "Do zbioru nie można dodawać modyfikowalnych (mutable) struktur danych, takich jak listy czy słowniki. Jednak dodanie krotki jest w porządku.\n",
    "Zbiór jest idealny, gdy musimy po prostu śledzić istnienie przedmiotów.\n",
    "Nie pozwala na duplikaty, co oznacza, że możemy przekonwertować inną strukturę danych na zbiór, aby ją usunąć.\n",
    "\n",
    "**Tworzenie zbioru**\n",
    "Zawartość zbioru jest ujęta w nawiasy klamrowe, {}. Podobnie jak wszystkie struktury danych, długość zestawu można obliczyć za pomocą funkcji len():"
   ],
   "metadata": {
    "collapsed": false
   }
  },
  {
   "cell_type": "code",
   "execution_count": 37,
   "outputs": [
    {
     "name": "stdout",
     "output_type": "stream",
     "text": [
      "{'John Snow', (True, False), 3.142, 1408}\n",
      "4\n"
     ]
    }
   ],
   "source": [
    "random_set = {\"John Snow\", 1408, 3.142,\n",
    "              (True, False)}\n",
    "print(random_set)\n",
    "print(len(random_set))  # Długość zbioru"
   ],
   "metadata": {
    "collapsed": false,
    "ExecuteTime": {
     "end_time": "2023-09-08T12:06:47.328526900Z",
     "start_time": "2023-09-08T12:06:47.274808800Z"
    }
   }
  },
  {
   "cell_type": "markdown",
   "source": [
    "**Konstruktor set().**\n",
    "Konstruktor set() to alternatywny sposób tworzenia zbiorów. Zaletą tego jest to, że pozwala nam utworzyć pusty zbiór:"
   ],
   "metadata": {
    "collapsed": false
   }
  },
  {
   "cell_type": "code",
   "execution_count": 38,
   "outputs": [
    {
     "name": "stdout",
     "output_type": "stream",
     "text": [
      "set()\n",
      "{'John Snow', (True, False), 3.142, 1408}\n"
     ]
    }
   ],
   "source": [
    "empty_set = set()\n",
    "print(empty_set)\n",
    "\n",
    "random_set = set({\"John Snow\", 1408, 3.142, (True, False)})\n",
    "print(random_set)"
   ],
   "metadata": {
    "collapsed": false,
    "ExecuteTime": {
     "end_time": "2023-09-08T12:07:31.999656Z",
     "start_time": "2023-09-08T12:07:31.937292600Z"
    }
   }
  },
  {
   "cell_type": "markdown",
   "source": [
    "**Dodawanie elementów**\n",
    "Aby dodać pojedynczy element, możemy skorzystać z metody add(). Aby dodać wiele elementów, musielibyśmy użyć funkcji update().\n",
    "Dane wejściowe dla update() muszą być innym zestawem, listą, krotką lub ciągiem znaków."
   ],
   "metadata": {
    "collapsed": false
   }
  },
  {
   "cell_type": "code",
   "execution_count": 39,
   "outputs": [
    {
     "name": "stdout",
     "output_type": "stream",
     "text": [
      "set()\n",
      "{1}\n",
      "{1, 2, 3, 4, 5, 6}\n"
     ]
    }
   ],
   "source": [
    "empty_set = set()\n",
    "print(empty_set)\n",
    "\n",
    "empty_set.add(1)\n",
    "print(empty_set)\n",
    "\n",
    "empty_set.update([2, 3, 4, 5, 6])\n",
    "print(empty_set)"
   ],
   "metadata": {
    "collapsed": false,
    "ExecuteTime": {
     "end_time": "2023-09-08T12:08:17.913427600Z",
     "start_time": "2023-09-08T12:08:17.868087900Z"
    }
   }
  },
  {
   "cell_type": "markdown",
   "source": [
    "**Usuwanie elementów**\n",
    "Aby usunąć konkretny element ze zbioru, można użyć operacji discard() lub remove().\n",
    "Uwaga: Metoda remove() generuje błąd, jeśli element nie zostanie znaleziony, w przeciwieństwie do metody discard()."
   ],
   "metadata": {
    "collapsed": false
   }
  },
  {
   "cell_type": "code",
   "execution_count": 41,
   "outputs": [
    {
     "name": "stdout",
     "output_type": "stream",
     "text": [
      "{'John Snow', (True, False), 3.142, 1408}\n",
      "{'John Snow', (True, False), 3.142}\n",
      "{'John Snow', 3.142}\n"
     ]
    }
   ],
   "source": [
    "random_set = set({\"John Snow\", 1408, 3.142, (True, False)})\n",
    "print(random_set)\n",
    "\n",
    "random_set.discard(1408)\n",
    "print(random_set)\n",
    "\n",
    "random_set.remove((True, False))\n",
    "print(random_set)"
   ],
   "metadata": {
    "collapsed": false,
    "ExecuteTime": {
     "end_time": "2023-09-08T12:10:01.918935500Z",
     "start_time": "2023-09-08T12:10:01.909971200Z"
    }
   }
  },
  {
   "cell_type": "markdown",
   "source": [
    "**Iterowanie zbioru**\n",
    "Pętli for można używać w przypadku nieuporządkowanych struktur danych, takich jak zbiory. Nie znalibyśmy jednak kolejności poruszania się iteratora, co oznacza, że elementy będą wybierane losowo.\n",
    "W poniższym przykładzie weźmiemy elementy zestawu i dołączymy je do listy, jeśli są nieparzyste:"
   ],
   "metadata": {
    "collapsed": false
   }
  },
  {
   "cell_type": "code",
   "execution_count": 42,
   "outputs": [
    {
     "name": "stdout",
     "output_type": "stream",
     "text": [
      "{9, 10, 11, 12, 13, 14, 15, 16, 17}\n",
      "[1, 3, 5, 7, 9, 11, 13, 15, 17]\n"
     ]
    }
   ],
   "source": [
    "odd_list = [1, 3, 5, 7]\n",
    "unordered_set = {9, 10, 11, 12, 13, 14, 15, 16, 17}\n",
    "\n",
    "print(unordered_set)\n",
    "\n",
    "for num in unordered_set:\n",
    "    if(not num % 2 == 0):\n",
    "        odd_list.append(num)\n",
    "\n",
    "print(odd_list)"
   ],
   "metadata": {
    "collapsed": false,
    "ExecuteTime": {
     "end_time": "2023-09-08T12:10:56.714506600Z",
     "start_time": "2023-09-08T12:10:56.661039300Z"
    }
   }
  },
  {
   "cell_type": "markdown",
   "source": [
    "**Operacje teorii mnogości**\n",
    "Przyjrzyjmy się, jak możemy wykonywać operacje teorii mnogości w Pythonie.\n",
    "\n",
    "Osoby zaznajomione z matematyką będą wiedzieć, że na zbiorach występują trzy główne operacje:\n",
    "- Suma zbiorów\n",
    "- Iloczyn zbiorów\n",
    "- Różnica zbiorów\n",
    "\n",
    "![Suma zbiorów](img/06_suma_zbiorów.PNG)\n",
    "![Iloczyn zbiorów](img/06_iloczyn_zbiorów.PNG)\n",
    "![Różnica zbiorów](img/06_różnica_zbiorów.PNG)"
   ],
   "metadata": {
    "collapsed": false
   }
  },
  {
   "cell_type": "code",
   "execution_count": 43,
   "outputs": [
    {
     "name": "stdout",
     "output_type": "stream",
     "text": [
      "{1, 2, 3, 4, 'b', 'a', 'c', 'd'}\n",
      "{1, 2, 3, 4, 'b', 'a', 'c', 'd'}\n",
      "{1, 2, 3, 4, 'b', 'a', 'c', 'd'}\n"
     ]
    }
   ],
   "source": [
    "# Suma\n",
    "set_A = {1, 2, 3, 4}\n",
    "set_B = {'a', 'b', 'c', 'd'}\n",
    "\n",
    "print(set_A | set_B)\n",
    "print(set_A.union(set_B))\n",
    "print(set_B.union(set_A))"
   ],
   "metadata": {
    "collapsed": false,
    "ExecuteTime": {
     "end_time": "2023-09-08T13:29:11.009001900Z",
     "start_time": "2023-09-08T13:29:10.950975900Z"
    }
   }
  },
  {
   "cell_type": "code",
   "execution_count": 44,
   "outputs": [
    {
     "name": "stdout",
     "output_type": "stream",
     "text": [
      "{2, 4}\n",
      "{2, 4}\n",
      "{2, 4}\n"
     ]
    }
   ],
   "source": [
    "# Iloczyn\n",
    "set_A = {1, 2, 3, 4}\n",
    "set_B = {2, 8, 4, 16}\n",
    "\n",
    "print(set_A & set_B)\n",
    "print(set_A.intersection(set_B))\n",
    "print(set_B.intersection(set_A))"
   ],
   "metadata": {
    "collapsed": false,
    "ExecuteTime": {
     "end_time": "2023-09-08T13:29:22.479957500Z",
     "start_time": "2023-09-08T13:29:22.410330600Z"
    }
   }
  },
  {
   "cell_type": "code",
   "execution_count": 45,
   "outputs": [
    {
     "name": "stdout",
     "output_type": "stream",
     "text": [
      "{1, 3}\n",
      "{1, 3}\n",
      "{8, 16}\n",
      "{8, 16}\n"
     ]
    }
   ],
   "source": [
    "# Różnica\n",
    "set_A = {1, 2, 3, 4}\n",
    "set_B = {2, 8, 4, 16}\n",
    "\n",
    "\n",
    "print(set_A - set_B)\n",
    "print(set_A.difference(set_B))\n",
    "\n",
    "print(set_B - set_A)\n",
    "print(set_B.difference(set_A))"
   ],
   "metadata": {
    "collapsed": false,
    "ExecuteTime": {
     "end_time": "2023-09-08T13:29:40.510132800Z",
     "start_time": "2023-09-08T13:29:40.420114400Z"
    }
   }
  },
  {
   "cell_type": "markdown",
   "source": [
    "**Konwersje struktury danych**\n",
    "W tej lekcji omówiono główne sposoby konwertowania jednej struktury danych na inną.\n",
    "Zasada konwersji pomiędzy wbudowanymi strukturami danych w Pythonie jest podobna do zasady stosowanej w przypadku prymitywnych typów danych w Pythonie.\n",
    "\n",
    "**Jawna konwersja**\n",
    "Szablon jawnej konwersji z jednej struktury danych na inną jest następujący:\n",
    "```\n",
    "destination_structure_name(source_structure_object)\n",
    "```\n",
    "destination_structure_name to nazwa struktury danych, na którą chcemy dokonać konwersji.\n",
    "source_structure_object to obiekt, który chcemy skonwertować.\n",
    "\n",
    "**Konwersja na listę**\n",
    "Możemy przekonwertować krotkę, zbiór lub słownik na listę za pomocą konstruktora list(). W przypadku słownika na listę zostaną przekonwertowane tylko klucze."
   ],
   "metadata": {
    "collapsed": false
   }
  },
  {
   "cell_type": "code",
   "execution_count": 46,
   "outputs": [
    {
     "name": "stdout",
     "output_type": "stream",
     "text": [
      "('Anakin', 'Darth Vader', 1000)\n",
      "{'Darth Vader', 1000, 'Anakin'}\n",
      "{1: 'Anakin', 2: 'Darth Vader', 3: 1000}\n",
      "['Anakin', 'Darth Vader', 1000]\n",
      "['Darth Vader', 1000, 'Anakin']\n",
      "[1, 2, 3]\n"
     ]
    }
   ],
   "source": [
    "star_wars_tup = (\"Anakin\", \"Darth Vader\", 1000)\n",
    "print(star_wars_tup)\n",
    "star_wars_set = {\"Anakin\", \"Darth Vader\", 1000}\n",
    "print(star_wars_set)\n",
    "star_wars_dict = {1: \"Anakin\", 2: \"Darth Vader\", 3: 1000}\n",
    "print(star_wars_dict)\n",
    "\n",
    "star_wars_list = list(star_wars_tup)\n",
    "print(star_wars_list)\n",
    "\n",
    "star_wars_list = list(star_wars_set)\n",
    "print(star_wars_list)\n",
    "\n",
    "star_wars_list = list(star_wars_dict)\n",
    "print(star_wars_list)\n"
   ],
   "metadata": {
    "collapsed": false,
    "ExecuteTime": {
     "end_time": "2023-09-08T14:44:56.600942200Z",
     "start_time": "2023-09-08T14:44:56.540956800Z"
    }
   }
  },
  {
   "cell_type": "markdown",
   "source": [
    "Możemy także użyć metody dict.items() słownika, aby przekonwertować go na iterowalną krotkę (klucz, wartość). Można to dalej przenieść na listę krotek za pomocą list():"
   ],
   "metadata": {
    "collapsed": false
   }
  },
  {
   "cell_type": "code",
   "execution_count": 47,
   "outputs": [
    {
     "name": "stdout",
     "output_type": "stream",
     "text": [
      "{1: 'Anakin', 2: 'Darth Vader', 3: 1000}\n",
      "[(1, 'Anakin'), (2, 'Darth Vader'), (3, 1000)]\n"
     ]
    }
   ],
   "source": [
    "star_wars_dict = {1: \"Anakin\", 2: \"Darth Vader\", 3: 1000}\n",
    "print(star_wars_dict)\n",
    "\n",
    "star_wars_list = list(star_wars_dict.items())\n",
    "print(star_wars_list)"
   ],
   "metadata": {
    "collapsed": false,
    "ExecuteTime": {
     "end_time": "2023-09-08T14:45:27.055645800Z",
     "start_time": "2023-09-08T14:45:26.979850400Z"
    }
   }
  },
  {
   "cell_type": "markdown",
   "source": [
    "**Konwersja na krotkę**\n",
    "Dowolną strukturę danych można przekształcić w krotkę za pomocą konstruktora tuple(). W przypadku słownika na krotkę zostaną skonwertowane tylko klucze:"
   ],
   "metadata": {
    "collapsed": false
   }
  },
  {
   "cell_type": "code",
   "execution_count": 48,
   "outputs": [
    {
     "name": "stdout",
     "output_type": "stream",
     "text": [
      "['Anakin', 'Darth Vader', 1000]\n",
      "{'Darth Vader', 1000, 'Anakin'}\n",
      "{1: 'Anakin', 2: 'Darth Vader', 3: 1000}\n",
      "('Anakin', 'Darth Vader', 1000)\n",
      "('Darth Vader', 1000, 'Anakin')\n",
      "(1, 2, 3)\n"
     ]
    }
   ],
   "source": [
    "star_wars_list = [\"Anakin\", \"Darth Vader\", 1000]\n",
    "print(star_wars_list)\n",
    "star_wars_set = {\"Anakin\", \"Darth Vader\", 1000}\n",
    "print(star_wars_set)\n",
    "star_wars_dict = {1: \"Anakin\", 2: \"Darth Vader\", 3: 1000}\n",
    "print(star_wars_dict)\n",
    "\n",
    "star_wars_tup = tuple(star_wars_list)\n",
    "print(star_wars_tup)\n",
    "\n",
    "star_wars_tup = tuple(star_wars_set) \n",
    "print(star_wars_tup)\n",
    "\n",
    "star_wars_tup = tuple(star_wars_dict)\n",
    "print(star_wars_tup)"
   ],
   "metadata": {
    "collapsed": false,
    "ExecuteTime": {
     "end_time": "2023-09-08T14:46:04.028977400Z",
     "start_time": "2023-09-08T14:46:03.958662800Z"
    }
   }
  },
  {
   "cell_type": "markdown",
   "source": [
    "**Konwersja na zbiór**\n",
    "Konstruktora set() można użyć do utworzenia zbioru na podstawie dowolnej innej struktury danych. W przypadku słownika do zestawu zostaną przekonwertowane tylko klucze:"
   ],
   "metadata": {
    "collapsed": false
   }
  },
  {
   "cell_type": "code",
   "execution_count": 49,
   "outputs": [
    {
     "name": "stdout",
     "output_type": "stream",
     "text": [
      "['Anakin', 'Darth Vader', 1000]\n",
      "('Anakin', 'Darth Vader', 1000)\n",
      "{1: 'Anakin', 2: 'Darth Vader', 3: 1000}\n",
      "{'Darth Vader', 1000, 'Anakin'}\n",
      "{'Darth Vader', 1000, 'Anakin'}\n",
      "{1, 2, 3}\n"
     ]
    }
   ],
   "source": [
    "star_wars_list = [\"Anakin\", \"Darth Vader\", 1000]\n",
    "print(star_wars_list)\n",
    "star_wars_tup = (\"Anakin\", \"Darth Vader\", 1000)\n",
    "print(star_wars_tup)\n",
    "star_wars_dict = {1: \"Anakin\", 2: \"Darth Vader\", 3: 1000}\n",
    "print(star_wars_dict)\n",
    "\n",
    "star_wars_set = set(star_wars_list)\n",
    "print(star_wars_set)\n",
    "\n",
    "star_wars_set = set(star_wars_tup)\n",
    "print(star_wars_set)\n",
    "\n",
    "star_wars_set = set(star_wars_dict)\n",
    "print(star_wars_set)"
   ],
   "metadata": {
    "collapsed": false,
    "ExecuteTime": {
     "end_time": "2023-09-08T14:47:03.232010100Z",
     "start_time": "2023-09-08T14:47:03.156996300Z"
    }
   }
  },
  {
   "cell_type": "markdown",
   "source": [
    "**Konwersja do słownika**\n",
    "Konstruktora dict() nie można używać w taki sam sposób jak innych, ponieważ wymaga par klucz-wartość, a nie samych wartości. Dlatego dane muszą być przechowywane w formacie, w którym istnieją pary.\n",
    "Na przykład listę krotek, w której długość każdej krotki wynosi 2, można przekształcić w słownik.\n",
    "Pary te zostaną następnie przekonwertowane na pary klucz-wartość:"
   ],
   "metadata": {
    "collapsed": false
   }
  },
  {
   "cell_type": "code",
   "execution_count": 50,
   "outputs": [
    {
     "name": "stdout",
     "output_type": "stream",
     "text": [
      "[[1, 'Anakin'], [2, 'Darth Vader'], [3, 1000]]\n",
      "((1, 'Anakin'), (2, 'Darth Vader'), (3, 1000))\n",
      "{(2, 'Darth Vader'), (3, 1000), (1, 'Anakin')}\n",
      "{1: 'Anakin', 2: 'Darth Vader', 3: 1000}\n",
      "{1: 'Anakin', 2: 'Darth Vader', 3: 1000}\n",
      "{2: 'Darth Vader', 3: 1000, 1: 'Anakin'}\n"
     ]
    }
   ],
   "source": [
    "star_wars_list = [[1,\"Anakin\"], [2,\"Darth Vader\"], [3, 1000]]\n",
    "print (star_wars_list)\n",
    "star_wars_tup = ((1, \"Anakin\"), (2, \"Darth Vader\"), (3, 1000))\n",
    "print (star_wars_tup)\n",
    "star_wars_set = {(1, \"Anakin\"), (2, \"Darth Vader\"), (3, 1000)}\n",
    "print (star_wars_set)\n",
    "\n",
    "star_wars_dict = dict(star_wars_list)\n",
    "print(star_wars_dict)\n",
    "\n",
    "star_wars_dict = dict(star_wars_tup)\n",
    "print(star_wars_dict)\n",
    "\n",
    "star_wars_dict = dict(star_wars_set)\n",
    "print(star_wars_dict)"
   ],
   "metadata": {
    "collapsed": false,
    "ExecuteTime": {
     "end_time": "2023-09-08T14:47:53.973362700Z",
     "start_time": "2023-09-08T14:47:53.886569400Z"
    }
   }
  },
  {
   "cell_type": "markdown",
   "source": [
    "**Shallow and Deep Copies**\n",
    "W tej lekcji dowiesz się o płytkim i głębokim kopiowaniu w Pythonie.\n",
    "\n",
    "**Wprowadzenie do płytkiej kopii**\n",
    "Obiekty mogą zawierać odniesienia do innych obiektów. Jeśli skopiujemy obiekt, zwykle otrzymamy płytką kopię. Oznacza to, że kopiowane są odniesienia w obiekcie, ale nie same obiekty, do których istnieją odniesienia."
   ],
   "metadata": {
    "collapsed": false
   }
  },
  {
   "cell_type": "code",
   "execution_count": 55,
   "outputs": [
    {
     "name": "stdout",
     "output_type": "stream",
     "text": [
      "Original Grades: [['Mary', 'A+'], ['Don', 'C-']]\n",
      "New Grades: [['Mary', 'A+'], ['Don', 'F']]\n"
     ]
    }
   ],
   "source": [
    "grades = [[\"Mary\", \"A+\"], [\"Don\", \"C-\"]] # Lista 2D\n",
    "print(\"Original Grades:\", grades)\n",
    "\n",
    "grades2 = grades[:] # Kopia listy grades\n",
    "grades2[0] = [\"Bob\", \"B\"]\n",
    "grades2[1][1] = \"F\" \n",
    "print(\"New Grades:\", grades) # Lista grades zmieniła się pomimo modyfikacji grades2 (Ocena Dona)"
   ],
   "metadata": {
    "collapsed": false,
    "ExecuteTime": {
     "end_time": "2023-09-08T15:15:06.781625800Z",
     "start_time": "2023-09-08T15:15:06.760454300Z"
    }
   }
  },
  {
   "cell_type": "markdown",
   "source": [
    "**Wprowadzenie do głębokiego kopiowania**\n",
    "Python udostępnia również metodę głębokiego kopiowania, która umożliwia utworzenie całkowicie niezależnej głębokiej kopii metody do pewnego poziomu."
   ],
   "metadata": {
    "collapsed": false
   }
  },
  {
   "cell_type": "code",
   "execution_count": 56,
   "outputs": [
    {
     "name": "stdout",
     "output_type": "stream",
     "text": [
      "[['Mary', 'A+'], ['Don', 'C-']]\n",
      "[['Mary', 'A+'], ['Don', 'D+']]\n",
      "-----\n"
     ]
    }
   ],
   "source": [
    "import copy\n",
    "\n",
    "grades = [[\"Mary\", \"A+\"], [\"Don\", \"C-\"]]\n",
    "grades3 = copy.deepcopy(grades)\n",
    "grades3[1][1] = \"D+\"\n",
    "\n",
    "print(grades)\n",
    "print(grades3)\n",
    "print(\"-----\")"
   ],
   "metadata": {
    "collapsed": false,
    "ExecuteTime": {
     "end_time": "2023-09-08T15:15:36.482867400Z",
     "start_time": "2023-09-08T15:15:36.417184Z"
    }
   }
  },
  {
   "cell_type": "markdown",
   "source": [
    "**Przekazanie przez wartość i przekazanie przez referencję.** \n",
    "Kiedy funkcja jest wywoływana, argumenty funkcji mogą być przekazywane przez wartość lub przekazywane przez referencję.\n",
    "Wywoływany to funkcja wywoływana przez inną osobę, a wywołujący to funkcja, która wywołuje inną funkcję.\n",
    "Wartości przekazywane w wywołaniu funkcji nazywane są parametrami rzeczywistymi.\n",
    "Wartości otrzymane przez funkcję (jeśli jest wywoływana) nazywane są parametrami formalnymi.\n",
    "\n",
    "**Przekazanie przez wartość**\n",
    "Przekazanie wartości oznacza, że w pamięci tworzona jest kopia aktualnej wartości parametru, co oznacza, że osoba wywołująca i osoba wywoływana mają dwie niezależne zmienne o tej samej wartości. Jeśli osoba wywołująca zmodyfikuje wartość parametru, efekt nie będzie widoczny dla osoby wywołującej:\n",
    "- Przekazuje argument przez wartość.\n",
    "- Wywoływany nie ma żadnego dostępu do podstawowego elementu w kodzie wywołującym.\n",
    "- Kopia danych jest wysyłana do odbiorcy.\n",
    "- Zmiany dokonane w przekazanej zmiennej nie mają wpływu na rzeczywistą wartość.\n",
    "\n",
    "**Przekazanie przez referencję**\n",
    "Przekazywanie przez referencję (zwane także przekazywaniem przez adres) oznacza przekazywanie referencji argumentu funkcji wywołującej do odpowiedniego parametru formalnego wywoływanej funkcji, tak aby w pamięci wykonywana była kopia adresu aktualnego parametru, czyli osoby wywołującej a wywoływany używa tej samej zmiennej dla parametru. Jeśli wywoływany zmodyfikuje zmienną parametru, efekt będzie widoczny dla zmiennej wywołującego:\n",
    "- Przekazuje argument przez referencję.\n",
    "- Wywoływany podaje bezpośrednie odniesienie do elementu programistycznego w kodzie wywołującym.\n",
    "- Przekazywany jest adres pamięci przechowywanych danych.\n",
    "- Zmiany wartości mają wpływ na dane oryginalne."
   ],
   "metadata": {
    "collapsed": false
   }
  },
  {
   "cell_type": "code",
   "execution_count": 1,
   "outputs": [
    {
     "name": "stdout",
     "output_type": "stream",
     "text": [
      "Inside the function {'Sarah': 85, 'Daniel': 90}\n",
      "Outside the function: {'Mark': 50, 'John': 65, 'Adam': 90}\n"
     ]
    }
   ],
   "source": [
    "# Przekazanie przez wartość\n",
    "# oryginalny słownik\n",
    "mark_sheet = {'Mark': 50, 'John': 65, 'Adam': 90}\n",
    "\n",
    "# funkcja pobierająca oryginalny słownik\n",
    "# Ponownie przypisuje go do nowych par klucz/wartość i drukuje\n",
    "def add_marks(mark_sheet):\n",
    "    # przypisywanie nowych par klucz/wartość do oryginalnego słownika\n",
    "    mark_sheet = {'Sarah': 85, 'Daniel': 90}\n",
    "    # wydrukowanie oryginalnego słownika wewnątrz funkcji\n",
    "    print(\"Inside the function\", mark_sheet)\n",
    "    return \n",
    "\n",
    "# wywołanie funkcji i przekazanie w naszym oryginalnym słowniku\n",
    "add_marks(mark_sheet)\n",
    "\n",
    "# wydrukowanie oryginalnego słownika poza funkcją\n",
    "print(\"Outside the function:\", mark_sheet)"
   ],
   "metadata": {
    "collapsed": false,
    "ExecuteTime": {
     "end_time": "2023-09-09T15:25:29.516008400Z",
     "start_time": "2023-09-09T15:25:29.505317600Z"
    }
   }
  },
  {
   "cell_type": "code",
   "execution_count": 2,
   "outputs": [
    {
     "name": "stdout",
     "output_type": "stream",
     "text": [
      "Inside the function {'Mark': 50, 'John': 65, 'Adam': 90, 'Sarah': 85, 'Daniel': 90}\n",
      "Outside the function: {'Mark': 50, 'John': 65, 'Adam': 90, 'Sarah': 85, 'Daniel': 90}\n"
     ]
    }
   ],
   "source": [
    "# Przekazanie przez referencję\n",
    "# oryginalny słownik\n",
    "mark_sheet = {'Mark': 50, 'John': 65, 'Adam': 90}\n",
    "\n",
    "# funkcja pobierająca oryginalny słownik\n",
    "# i aktualizuje go nowymi parami klucz/wartość\n",
    "def add_marks(mark_sheet):\n",
    "    # nowe pary klucz/wartość do dodania\n",
    "    marks_to_add = {'Sarah': 85, 'Daniel': 90}\n",
    "    # aktualizacja oryginalnego słownika\n",
    "    mark_sheet.update(marks_to_add)\n",
    "    # wydrukowanie oryginalnego słownika wewnątrz funkcji\n",
    "    print(\"Inside the function\", mark_sheet)\n",
    "    return \n",
    "\n",
    "# wywołanie funkcji i przekazanie w naszym oryginalnym słowniku\n",
    "add_marks(mark_sheet)\n",
    "\n",
    "# wydrukowanie oryginalnego słownika poza funkcją\n",
    "print(\"Outside the function:\", mark_sheet)"
   ],
   "metadata": {
    "collapsed": false,
    "ExecuteTime": {
     "end_time": "2023-09-09T15:27:24.976005800Z",
     "start_time": "2023-09-09T15:27:24.917166500Z"
    }
   }
  },
  {
   "cell_type": "markdown",
   "source": [
    "**Kiedy stosować przekazywanie wartości?**\n",
    "Jeśli budujemy aplikację wielowątkową, nie musimy się martwić, że obiekty zostaną zmodyfikowane przez inne wątki. W aplikacjach rozproszonych przekazywanie wartości może zaoszczędzić obciążenie sieci, aby zapewnić synchronizację obiektów.\n",
    "\n",
    "**Kiedy stosować przekazywanie przez referencję?**\n",
    "W trybie przekazywania przez odniesienie nie jest tworzona żadna nowa kopia zmiennej, więc oszczędzane są koszty kopiowania. Dzięki temu programy są wydajne, zwłaszcza podczas przekazywania obiektów dużych struktur lub klas."
   ],
   "metadata": {
    "collapsed": false
   }
  },
  {
   "cell_type": "markdown",
   "source": [
    "**Ćwiczenie: Od listy do krotki**\n",
    "Opis problemu\n",
    "Otrzymasz listę o nazwie my_list. Korzystając z tej listy, musisz utworzyć krotkę o nazwie my_tuple. Krotka będzie zawierać pierwszy i ostatni element listy oraz długość listy, w tej samej kolejności."
   ],
   "metadata": {
    "collapsed": false
   }
  },
  {
   "cell_type": "code",
   "execution_count": 3,
   "outputs": [],
   "source": [
    "my_list = [34, 82.6, \"Darth Vader\", 17, \"Hannibal\"]"
   ],
   "metadata": {
    "collapsed": false,
    "ExecuteTime": {
     "end_time": "2023-09-09T15:51:34.755070200Z",
     "start_time": "2023-09-09T15:51:34.698229700Z"
    }
   }
  },
  {
   "cell_type": "code",
   "execution_count": 4,
   "outputs": [
    {
     "name": "stdout",
     "output_type": "stream",
     "text": [
      "(34, 'Hannibal', 5)\n"
     ]
    }
   ],
   "source": [
    "# Rozwiązanie\n",
    "my_tuple = (my_list[0], my_list[-1], len(my_list))\n",
    "print(my_tuple)"
   ],
   "metadata": {
    "collapsed": false,
    "ExecuteTime": {
     "end_time": "2023-09-09T15:52:18.007602Z",
     "start_time": "2023-09-09T15:52:17.951244800Z"
    }
   }
  },
  {
   "cell_type": "markdown",
   "source": [
    "**Ćwiczenie: K-ta maksymalna liczba całkowita na liście**\n",
    "Mając listę liczb całkowitych i liczbę k, znajdź k-tą największą liczbę całkowitą na liście. Liczba całkowita zostanie zapisana w zmiennej kth_max.\n",
    "Na przykład w przypadku listy zawierającej 7 liczb całkowitych, jeśli k = 2, wówczas kth_max będzie równe drugiej co do wielkości liczbie całkowitej na liście. Jeżeli k = 6, kth_max będzie równe 6. największej liczbie całkowitej.\n",
    "![kth element](img/07_zadanie_kth.PNG)"
   ],
   "metadata": {
    "collapsed": false
   }
  },
  {
   "cell_type": "code",
   "execution_count": 5,
   "outputs": [
    {
     "name": "stdout",
     "output_type": "stream",
     "text": [
      "66\n"
     ]
    }
   ],
   "source": [
    "test_list = [40, 35, 82, 14, 22, 66, 53]\n",
    "k = 2\n",
    "\n",
    "kth_max = sorted(test_list)[-k]\n",
    "print(kth_max)"
   ],
   "metadata": {
    "collapsed": false,
    "ExecuteTime": {
     "end_time": "2023-09-09T15:58:59.263128500Z",
     "start_time": "2023-09-09T15:58:59.204876900Z"
    }
   }
  },
  {
   "cell_type": "markdown",
   "source": [
    "**Ćwiczenie: High i low**\n",
    "Oświadczenie o problemie\n",
    "Musisz zaimplementować funkcję count_low_high(). Jego parametrem jest lista liczb.\n",
    "Jeśli liczba jest większa niż 50 lub dzieli się przez 3, będzie liczona jako high. Jeżeli te warunki nie są spełnione, liczbę uważa się za low.\n",
    "Na końcu funkcji musisz zwrócić listę zawierającą liczbę (sumę) low i high wartości, w tej kolejności.\n",
    "W przypadku, gdy lista jest pusta, możesz zwrócić None."
   ],
   "metadata": {
    "collapsed": false
   }
  },
  {
   "cell_type": "code",
   "execution_count": 11,
   "outputs": [],
   "source": [
    "num_list = [20, 9, 51, 81, 50, 42, 77]"
   ],
   "metadata": {
    "collapsed": false,
    "ExecuteTime": {
     "end_time": "2023-09-09T16:05:49.771810800Z",
     "start_time": "2023-09-09T16:05:49.754310200Z"
    }
   }
  },
  {
   "cell_type": "code",
   "execution_count": 12,
   "outputs": [],
   "source": [
    "def count_low_high(num_list):\n",
    "    if(num_list == []):\n",
    "        return None\n",
    "    output = [0, 0]\n",
    "    for e in num_list:\n",
    "        if e > 50 or e % 3 == 0:\n",
    "            output[1] += 1\n",
    "        else:\n",
    "            output[0] += 1\n",
    "            \n",
    "    return output"
   ],
   "metadata": {
    "collapsed": false,
    "ExecuteTime": {
     "end_time": "2023-09-09T16:05:50.193685100Z",
     "start_time": "2023-09-09T16:05:50.162119800Z"
    }
   }
  },
  {
   "cell_type": "code",
   "execution_count": 13,
   "outputs": [
    {
     "name": "stdout",
     "output_type": "stream",
     "text": [
      "[2, 5]\n"
     ]
    }
   ],
   "source": [
    "print(count_low_high(num_list))"
   ],
   "metadata": {
    "collapsed": false,
    "ExecuteTime": {
     "end_time": "2023-09-09T16:05:50.629820400Z",
     "start_time": "2023-09-09T16:05:50.610510700Z"
    }
   }
  },
  {
   "cell_type": "code",
   "execution_count": 14,
   "outputs": [
    {
     "name": "stdout",
     "output_type": "stream",
     "text": [
      "[2, 5]\n"
     ]
    }
   ],
   "source": [
    "def count_low_high(num_list):\n",
    "    if (len(num_list)==0):\n",
    "        return None\n",
    "    high_list = list(filter(lambda n: n > 50 or n % 3 == 0, num_list))\n",
    "    low_list = list(filter(lambda n: n <= 50 and not n % 3 == 0, num_list))\n",
    "    return [len(low_list), len(high_list)]\n",
    "\n",
    "\n",
    "num_list = [20, 9, 51, 81, 50, 42, 77]\n",
    "\n",
    "print(count_low_high(num_list))"
   ],
   "metadata": {
    "collapsed": false,
    "ExecuteTime": {
     "end_time": "2023-09-09T16:07:40.243221100Z",
     "start_time": "2023-09-09T16:07:40.171756500Z"
    }
   }
  },
  {
   "cell_type": "code",
   "execution_count": 15,
   "outputs": [
    {
     "name": "stdout",
     "output_type": "stream",
     "text": [
      "[2, 5]\n"
     ]
    }
   ],
   "source": [
    "def count_low_high(num_list):\n",
    "    if (len(num_list)==0):\n",
    "        return None\n",
    "    high_list = len([n for n in num_list if n > 50 or n % 3 == 0])\n",
    "    low_list = len([n for n in num_list if n <= 50 and not n % 3 == 0])\n",
    "    return [low_list, high_list]\n",
    "\n",
    "\n",
    "num_list = [20, 9, 51, 81, 50, 42, 77]\n",
    "\n",
    "print(count_low_high(num_list))"
   ],
   "metadata": {
    "collapsed": false,
    "ExecuteTime": {
     "end_time": "2023-09-09T16:07:46.764455900Z",
     "start_time": "2023-09-09T16:07:46.703616400Z"
    }
   }
  },
  {
   "cell_type": "code",
   "execution_count": null,
   "outputs": [],
   "source": [],
   "metadata": {
    "collapsed": false
   }
  }
 ],
 "metadata": {
  "kernelspec": {
   "display_name": "Python 3",
   "language": "python",
   "name": "python3"
  },
  "language_info": {
   "codemirror_mode": {
    "name": "ipython",
    "version": 2
   },
   "file_extension": ".py",
   "mimetype": "text/x-python",
   "name": "python",
   "nbconvert_exporter": "python",
   "pygments_lexer": "ipython2",
   "version": "2.7.6"
  }
 },
 "nbformat": 4,
 "nbformat_minor": 0
}
