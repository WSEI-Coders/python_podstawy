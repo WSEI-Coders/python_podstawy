{
 "cells": [
  {
   "cell_type": "markdown",
   "source": [
    "**Struktura programu**\n",
    "Poznaj koncepcje pętli, decyzji i przepływu sterowania w Pythonie.\n",
    "\n",
    "**Przegląd modułu**\n",
    "Instrukcje warunkowe, wyrażenia lub po prostu warunki warunkowe to cechy języków programowania, które nakazują komputerowi wykonanie określonych działań, pod warunkiem spełnienia określonych warunków. Język programowania zapewnia programistom narzędzia i funkcje, którymi można manipulować, aby ustawić maszynę tak, aby efektywnie pracowała z wyrażeniami warunkowymi. Podobnie pętle są również podstawową częścią programowania, która może pomóc i zaoszczędzić czas programisty poprzez wielokrotne powtarzanie podobnego kodu. Moduł ten zapewni doskonałe zrozumienie struktury programu i pętli. Moduł rozpoczyna się od wprowadzenia do wyrażeń i wcięć. Następnie następuje wyjaśnienie różnych technik podejmowania decyzji i rozgałęzień stosowanych w Pythonie. Na koniec krótko omówiono różne typy instrukcji pętlowych za pomocą przykładów kodowania i ćwiczeń.\n",
    "\n",
    "**Cele modułu**\n",
    "- Dowiedz się o regułach blokowych w Pythonie.\n",
    "- Dowiedz się więcej o instrukcjach przypisania w Pythonie.\n",
    "- Dowiedz się o instrukcjach warunkowych i podejmowaniu decyzji w Pythonie.\n",
    "- Dowiedz się o funkcjonalności pętli w Pythonie.\n",
    "- Dowiedz się o przepływie sterowania w Pythonie."
   ],
   "metadata": {
    "collapsed": false
   },
   "id": "610bcd880444919f"
  },
  {
   "cell_type": "markdown",
   "source": [
    "**Wyrażenia i wcięcia**\n",
    "Poznaj zasady wcięć, a także przyjrzyj się różnym typom instrukcji Pythona.\n",
    "\n",
    "**Zasady wcięcia**\n",
    "Wcięcie ma znaczenie w Pythonie. Podczas gdy inne języki używają nawiasów klamrowych w instrukcjach, Python używa wcięć. Ogólnie rzecz biorąc, istnieją pewne zasady, których należy przestrzegać podczas pracy z wcięciami w Pythonie, a są one następujące:\n",
    "- Wyrażenia na tym samym poziomie muszą mieć dokładnie taką samą wartość wcięcia.\n",
    "- Instrukcje zagnieżdżone, takie jak instrukcje w treści pętli, muszą być wcięte względem początku pętli.\n",
    "- Pierwsza linia programu nie może mieć wcięcia.\n",
    "- Każde wyrażenie jest zapisane w osobnym wierszu. Jeśli jednak linia zawiera niezamknięty znak (, [ lub {, może być kontynuowana w następnej linii.\n",
    "- Jeśli chcesz umieścić dwie instrukcje w tym samym wierszu, możesz oddzielić je średnikiem (;).\n",
    "\n",
    "Uwaga: Jeśli jesteś przyzwyczajony do języka, w którym każda instrukcja kończy się średnikiem, będzie to działać w Pythonie. To po prostu wygląda dziwnie.\n",
    "\n",
    "Uwaga: Standardowe wcięcie to cztery spacje. Nie można łączyć spacji z tabulatorami. Jednakże każde zintegrowane środowisko programistyczne (IDE) lub dobry edytor tekstu można ustawić tak, aby po naciśnięciu klawisza Tab na klawiaturze dodawały cztery spacje."
   ],
   "metadata": {
    "collapsed": false
   },
   "id": "58046fb5211d9968"
  },
  {
   "cell_type": "code",
   "execution_count": 1,
   "outputs": [
    {
     "name": "stdout",
     "output_type": "stream",
     "text": [
      "1\n",
      "2\n",
      "Number 3\n",
      "4\n"
     ]
    }
   ],
   "source": [
    "# Pierwsza linia nie jest wcięta\n",
    "for num in range(1, 10):\n",
    "  if num == 5: # wcięcie względem początku instrukcji fo\n",
    "    break \n",
    "  if num == 3: print(\"Number 3\"); continue # oddzielanie instrukcji średnikiem\n",
    "  print(num) # drukuj instrukcję na tym samym poziomie co poprzednia instrukcja if, z takim samym wcięciem"
   ],
   "metadata": {
    "collapsed": false,
    "ExecuteTime": {
     "end_time": "2023-10-11T14:50:21.520987300Z",
     "start_time": "2023-10-11T14:50:21.300817Z"
    }
   },
   "id": "9b3368e7b598dfc5"
  },
  {
   "cell_type": "markdown",
   "source": [
    "**Instrukcja przypisania**\n",
    "Instrukcje przypisania składają się ze zmiennej, znaku równości i wyrażenia."
   ],
   "metadata": {
    "collapsed": false
   },
   "id": "b776121d68863765"
  },
  {
   "cell_type": "code",
   "execution_count": 2,
   "outputs": [
    {
     "name": "stdout",
     "output_type": "stream",
     "text": [
      "x: 1\n",
      "y: 5\n",
      "z: 6\n"
     ]
    }
   ],
   "source": [
    "x = 1 # Przypisanie wartości 1 do zmiennej x\n",
    "print(\"x:\", x)\n",
    "\n",
    "y = 5 # Przypisanie wartości 5 do zmiennej y\n",
    "print(\"y:\", y)\n",
    "\n",
    "z = x + y # Przypisanie wartości dodania między x i y do z\n",
    "print(\"z:\", z)"
   ],
   "metadata": {
    "collapsed": false,
    "ExecuteTime": {
     "end_time": "2023-10-11T14:50:21.527968500Z",
     "start_time": "2023-10-11T14:50:21.307842800Z"
    }
   },
   "id": "a4133204f24a0b0b"
  },
  {
   "cell_type": "markdown",
   "source": [
    "**Skróty przypisań**\n",
    "Podczas przypisywania wartości możesz także używać skrótów. Odbywa się to w Pythonie za pomocą operatora i pojedynczego znaku =.\n",
    "\n",
    "x += y to skrót od x = x + y\n",
    "x -= y to skrót od x = x - y\n",
    "…i tak dalej, dla każdego z pozostałych operatorów binarnych."
   ],
   "metadata": {
    "collapsed": false
   },
   "id": "8bcb69669635a435"
  },
  {
   "cell_type": "code",
   "execution_count": 3,
   "outputs": [
    {
     "name": "stdout",
     "output_type": "stream",
     "text": [
      "18\n",
      "13\n",
      "65\n",
      "13.0\n"
     ]
    }
   ],
   "source": [
    "x = 13 # Przypisanie wartości 13 do zmiennej x\n",
    "y = 5 # Przypisanie wartości 5 do zmiennej y\n",
    "\n",
    "x += y # Skrót do x = x + y \n",
    "print(x)\n",
    "\n",
    "x -= y # Skrót do x = x - y\n",
    "print(x)\n",
    "\n",
    "x *= y # Skrót do x = x * y\n",
    "print(x)\n",
    "\n",
    "x /= y # Skrót do x = x / y\n",
    "print(x)"
   ],
   "metadata": {
    "collapsed": false,
    "ExecuteTime": {
     "end_time": "2023-10-11T14:50:21.527968500Z",
     "start_time": "2023-10-11T14:50:21.312552700Z"
    }
   },
   "id": "7535f1502baafefa"
  },
  {
   "cell_type": "markdown",
   "source": [
    "**Operator Walrus**\n",
    "W Pythonie istnieje także operator Walrus (:=). Jest to forma operatora przypisania, która umożliwia przypisanie wartości do zmiennej i zwrócenie jej wartości w wyrażeniu.\n",
    "\n",
    "Można to zobaczyć w poniższym przykładzie, w którym bieżąca wartość n jest mnożona przez 3, po czym jej wynik jest przypisywany z powrotem do n za pomocą operatora Walrus. Następnie do n dodaje się 1, a wynik umieszcza się w x. Jeśli, powiedzmy, n wynosi początkowo 10, w rezultacie n zostanie ustawione na 30, a x na 31.\n",
    "\n",
    "Uwaga: funkcja operatora Walrus jest dostępna tylko w wersjach Pythona >= 3.8. Nie jest dostępna w starszych wersjach Pythona."
   ],
   "metadata": {
    "collapsed": false
   },
   "id": "f010d482be985551"
  },
  {
   "cell_type": "code",
   "execution_count": 4,
   "outputs": [
    {
     "name": "stdout",
     "output_type": "stream",
     "text": [
      "30\n",
      "31\n"
     ]
    }
   ],
   "source": [
    "n = 10\n",
    "\n",
    "x = (n := 3 * n) + 1 # Operator Walrus\n",
    "print(n) # Powinien dać 30\n",
    "print(x) # Powinien dać 31"
   ],
   "metadata": {
    "collapsed": false,
    "ExecuteTime": {
     "end_time": "2023-10-11T14:50:21.529963100Z",
     "start_time": "2023-10-11T14:50:21.318825700Z"
    }
   },
   "id": "19b61a8e2c501289"
  },
  {
   "cell_type": "markdown",
   "source": [
    "**Co to są instrukcje warunkowe?**\n",
    "Na tej lekcji omówimy instrukcje warunkowe i ich funkcjonalność.\n",
    "\n",
    "**Definicja**\n",
    "Instrukcja warunkowa to wyrażenie logiczne, które jeśli ma wartość True, powoduje wykonanie fragmentu kodu.\n",
    "\n",
    "Umożliwia programom rozgałęzianie się na różne ścieżki w oparciu o wyrażenia logiczne, których wynikiem jest Prawda lub Fałsz.\n",
    "![Przepływ if-else](img/01_if.PNG)\n",
    "W ten sposób instrukcje warunkowe kontrolują przepływ kodu i pozwalają komputerowi myśleć. Dlatego zalicza się je do struktur kontrolnych.\n",
    "Instrukcje warunkowe są integralną częścią programowania, którą każdy programista musi znać."
   ],
   "metadata": {
    "collapsed": false
   },
   "id": "36281396dbf0cc4c"
  },
  {
   "cell_type": "markdown",
   "source": [
    "**Instrukcja if**\n",
    "Ta lekcja prezentuje funkcjonalność instrukcji „if”.\n",
    "\n",
    "**Struktura**\n",
    "Najprostszą instrukcją warunkową, jaką możemy napisać, jest instrukcja if. Składa się z dwóch części:\n",
    "1. Warunek\n",
    "2. Kod do wykonania\n",
    "\n",
    "![if](img/02_if.PNG)\n",
    "Znak : na powyższej ilustracji jest niezbędny do określenia początku kodu instrukcji if, który ma zostać wykonany. Jednakże nawiasy () wokół warunku są opcjonalne. Kod do wykonania jest wcięty co najmniej o jeden tabulator w prawo.\n",
    "\n",
    "**Wcięcie**\n",
    "Wcięcia odgrywają kluczową rolę w Pythonie. Instrukcje o tym samym poziomie wcięcia należą do tego samego bloku kodu. Kod instrukcji if jest wcięty o większą spację niż kod znajdujący się na zewnątrz, aby wskazać, że jest to blok wewnętrzny i wzajemnie powiązany.\n",
    "Konwencja naszych wcięć musi być również spójna w całym bloku. Jeśli użyliśmy dwóch spacji do wykonania wcięcia, musimy użyć dwóch spacji do wykonania wcięcia w tym samym bloku. Dlatego podczas pisania kodu zawsze pamiętaj o wcięciach.\n",
    "Wcięcia są ważne także w innych aspektach Pythona.\n",
    "\n",
    "**Przebieg instrukcji if**\n",
    "Instrukcja if działa w następujący sposób:\n",
    "jeśli warunek jest prawdziwy, wykonaj kod, który ma zostać wykonany. W przeciwnym razie pomiń to i przejdź dalej."
   ],
   "metadata": {
    "collapsed": false
   },
   "id": "66ccaea7a131423d"
  },
  {
   "cell_type": "code",
   "execution_count": 5,
   "outputs": [
    {
     "name": "stdout",
     "output_type": "stream",
     "text": [
      "The number is equal to 5\n"
     ]
    }
   ],
   "source": [
    "num = 5\n",
    "\n",
    "if (num == 5):  # Warunek jest prawdziwy\n",
    "    print(\"The number is equal to 5\")  # Kod zostanie wykonany\n",
    "\n",
    "if num > 5:  # Warunek jest fałszywy\n",
    "    print(\"The number is greater than 5\")  # Kod nie jest wykonywany"
   ],
   "metadata": {
    "collapsed": false,
    "ExecuteTime": {
     "end_time": "2023-10-11T14:50:21.834266800Z",
     "start_time": "2023-10-11T14:50:21.323322300Z"
    }
   },
   "id": "deb85896d9fe78f6"
  },
  {
   "cell_type": "markdown",
   "source": [
    "Nasz pierwszy warunek po prostu sprawdza, czy wartość num wynosi 5. Ponieważ to wyrażenie logiczne zwraca wartość True, kompilator kontynuuje i wykonuje instrukcję print w linii 4.\n",
    "Jak widzimy, polecenie print znajdujące się w treści instrukcji if jest wcięte w prawo. Gdyby tak nie było, wystąpiłby błąd. Python kładzie duży nacisk na odpowiednie wcięcia.\n",
    "\n",
    "**Warunki z operatorami logicznymi**\n",
    "Możemy użyć operatorów logicznych, aby utworzyć bardziej złożone warunki w instrukcji if. Na przykład możemy chcieć spełnić wiele klauzul, aby wyrażenie miało wartość True."
   ],
   "metadata": {
    "collapsed": false
   },
   "id": "e58a11030d35d251"
  },
  {
   "cell_type": "code",
   "execution_count": 6,
   "outputs": [
    {
     "name": "stdout",
     "output_type": "stream",
     "text": [
      "The number is a multiple of 2, 3, and 4\n",
      "The number is a multiple of 5 and/or 6\n"
     ]
    }
   ],
   "source": [
    "num = 12\n",
    "\n",
    "if num % 2 == 0 and num % 3 == 0 and num % 4 == 0:\n",
    "    # Działa tylko wtedy, gdy liczba jest wielokrotnością 2, 3 i 4\n",
    "    print(\"The number is a multiple of 2, 3, and 4\")\n",
    "\n",
    "if (num % 5 == 0 or num % 6 == 0):\n",
    "    # Działa tylko wtedy, gdy liczba jest wielokrotnością 5 lub 6\n",
    "    print(\"The number is a multiple of 5 and/or 6\")"
   ],
   "metadata": {
    "collapsed": false,
    "ExecuteTime": {
     "end_time": "2023-10-11T14:50:21.835266300Z",
     "start_time": "2023-10-11T14:50:21.329328800Z"
    }
   },
   "id": "8bca51462639525d"
  },
  {
   "cell_type": "markdown",
   "source": [
    "W pierwszej instrukcji if wszystkie warunki muszą być spełnione, ponieważ używamy operatora and.\n",
    "W drugiej instrukcji if wyrażenie logiczne będzie prawdziwe, jeśli jedna lub obie klauzule zostaną spełnione, ponieważ użyliśmy operatora or.\n",
    "\n",
    "**Zagnieżdżone instrukcje if**\n",
    "Ciekawą cechą instrukcji warunkowych jest to, że możemy je zagnieżdżać. Oznacza to, że w innej instrukcji może znajdować się instrukcja if!"
   ],
   "metadata": {
    "collapsed": false
   },
   "id": "c6035055519a2b96"
  },
  {
   "cell_type": "code",
   "execution_count": 7,
   "outputs": [
    {
     "name": "stdout",
     "output_type": "stream",
     "text": [
      "The number is in the 60-70 range\n"
     ]
    }
   ],
   "source": [
    "num = 63\n",
    "\n",
    "if num >= 0 and num <= 100:\n",
    "    if num >= 50 and num <= 75:\n",
    "        if num >= 60 and num <= 70:\n",
    "            print(\"The number is in the 60-70 range\")"
   ],
   "metadata": {
    "collapsed": false,
    "ExecuteTime": {
     "end_time": "2023-10-11T14:50:21.835266300Z",
     "start_time": "2023-10-11T14:50:21.332777500Z"
    }
   },
   "id": "1d50827452860a10"
  },
  {
   "cell_type": "markdown",
   "source": [
    "Uwaga: Każde zagnieżdżenie instrukcji if wymaga dodatkowego wcięcia."
   ],
   "metadata": {
    "collapsed": false
   },
   "id": "f8f13e046aa1e1c9"
  },
  {
   "cell_type": "markdown",
   "source": [
    "**Tworzenie i edytowanie wartości**\n",
    "W instrukcji warunkowej możemy edytować wartości naszych zmiennych.\n",
    "Ponadto możemy tworzyć nowe zmienne."
   ],
   "metadata": {
    "collapsed": false
   },
   "id": "3158774e7f2e64c1"
  },
  {
   "cell_type": "code",
   "execution_count": 8,
   "outputs": [
    {
     "name": "stdout",
     "output_type": "stream",
     "text": [
      "20\n",
      "100\n"
     ]
    }
   ],
   "source": [
    "num = 10\n",
    "if num > 5:\n",
    "    num = 20  # Przypisanie nowej wartości do num\n",
    "    new_num = num * 5  # Tworzenie nowej wartości o nazwie newNum\n",
    "\n",
    "# Warunek if kończy się, ale zmiany wprowadzone w nim pozostają\n",
    "print(num)\n",
    "print(new_num)"
   ],
   "metadata": {
    "collapsed": false,
    "ExecuteTime": {
     "end_time": "2023-10-11T14:50:21.836263700Z",
     "start_time": "2023-10-11T14:50:21.337764Z"
    }
   },
   "id": "d3cfb5c4ef387ba"
  },
  {
   "cell_type": "markdown",
   "source": [
    "**Instrukcja if-else**\n",
    "W tej lekcji zaprezentowane zostaną główne właściwości instrukcji „if-else”.\n",
    "\n",
    "Co, jeśli chcemy wykonać inny zestaw operacji w przypadku, gdy warunek if okaże się fałszywy?\n",
    "W tym miejscu pojawia się instrukcja if-else. Instrukcja if-else wygląda mniej więcej tak:\n",
    "![if-else](img/03_if_else.PNG)\n",
    "Nie dzieje się tu nic zbyt trudnego. Jeśli warunek okaże się fałszywy, wykonywany jest kod znajdujący się po słowie kluczowym else:.\n",
    "Dlatego możemy teraz wykonać dwie różne akcje w zależności od wartości warunku.\n",
    "Słowo kluczowe else będzie miało ten sam poziom wcięcia co słowo kluczowe if. Jej treść będzie wcięta o jedną kartę w prawo, podobnie jak instrukcja if."
   ],
   "metadata": {
    "collapsed": false
   },
   "id": "9621429b81cb30c"
  },
  {
   "cell_type": "code",
   "execution_count": 9,
   "outputs": [
    {
     "name": "stdout",
     "output_type": "stream",
     "text": [
      "The number is greater than 50\n"
     ]
    }
   ],
   "source": [
    "num = 60\n",
    "\n",
    "if num <= 50:\n",
    "    print(\"The number is less than or equal to 50\")\n",
    "else:\n",
    "    print(\"The number is greater than 50\")"
   ],
   "metadata": {
    "collapsed": false,
    "ExecuteTime": {
     "end_time": "2023-10-11T14:50:21.836263700Z",
     "start_time": "2023-10-11T14:50:21.344743Z"
    }
   },
   "id": "1b5309b2b64a2dba"
  },
  {
   "cell_type": "markdown",
   "source": [
    "**Korzyści z if-else**\n",
    "Powyższy przykład można również zapisać z dwoma warunkami if:"
   ],
   "metadata": {
    "collapsed": false
   },
   "id": "3f9e5b595b52d6d3"
  },
  {
   "cell_type": "code",
   "execution_count": 10,
   "outputs": [
    {
     "name": "stdout",
     "output_type": "stream",
     "text": [
      "The number is greater than 50\n"
     ]
    }
   ],
   "source": [
    "num = 60\n",
    "\n",
    "if num <= 50:\n",
    "    print(\"The number is less than or equal to 50\")\n",
    "\n",
    "if num > 50:\n",
    "    print(\"The number is greater than 50\")"
   ],
   "metadata": {
    "collapsed": false,
    "ExecuteTime": {
     "end_time": "2023-10-11T14:50:21.837261100Z",
     "start_time": "2023-10-11T14:50:21.351692300Z"
    }
   },
   "id": "2d10393f4b37d712"
  },
  {
   "cell_type": "raw",
   "source": [
    "Jednak dla drugiego if musimy ponownie określić warunek. Może to być trudne w przypadku złożonych warunków. Instrukcja else automatycznie obsługuje wszystkie sytuacje, gdy operacja if zakończy się niepowodzeniem.\n",
    "Należy pamiętać, że instrukcja else nie może istnieć samodzielnie. Jest to jedynie odpowiednik instrukcji if. Może nadal zawierać własne zagnieżdżone instrukcje if i if-else."
   ],
   "metadata": {
    "collapsed": false
   },
   "id": "dfe2ac4efb3e9cd9"
  },
  {
   "cell_type": "markdown",
   "source": [
    "**Wyrażenia warunkowe**\n",
    "Wyrażenia warunkowe wykorzystują funkcjonalność instrukcji if-else w inny sposób.\n",
    "Wyrażenie zwraca wynik na podstawie podanego warunku. Wynik ten można zapisać w zmiennej.\n",
    "Wyrażenie warunkowe można zapisać w następujący sposób:\n",
    "```\n",
    "output_value1 if condition else output_value2\n",
    "```\n",
    "Jeżeli warunek if jest spełniony, wynikiem będzie output_value1. W przeciwnym razie byłaby to output_value2.\n",
    "Przekształćmy poprzednią instrukcję if-else w wyrażenie warunkowe:"
   ],
   "metadata": {
    "collapsed": false
   },
   "id": "95a24c9f2e8ebcbe"
  },
  {
   "cell_type": "code",
   "execution_count": 11,
   "outputs": [
    {
     "name": "stdout",
     "output_type": "stream",
     "text": [
      "The number is greater than 50\n"
     ]
    }
   ],
   "source": [
    "num = 60\n",
    "\n",
    "output = \"The number is less than or equal to 50\" if num <= 50 else \"The number is greater than 50\"\n",
    "\n",
    "print(output)"
   ],
   "metadata": {
    "collapsed": false,
    "ExecuteTime": {
     "end_time": "2023-10-11T14:50:21.837261100Z",
     "start_time": "2023-10-11T14:50:21.356190500Z"
    }
   },
   "id": "199d76a3421c6871"
  },
  {
   "cell_type": "markdown",
   "source": [
    "**Instrukcja if-elif-else**\n",
    "Ta lekcja podkreśla główne właściwości instrukcji „if-elif-else”.\n",
    "\n",
    "Instrukcja if-else obsługuje dwie strony tego samego warunku: prawdę i fałsz. Działa to bardzo dobrze, jeśli pracujemy nad problemem, który ma tylko dwa wyniki.\n",
    "Jednak w programowaniu nie zawsze jest to scenariusz prawdziwy lub fałszywy, a problem może mieć wiele wyników.\n",
    "Tutaj właśnie zastosowanie stwierdzenie if-elif-else. Jest to najbardziej wszechstronna instrukcja warunkowa, ponieważ pozwala nam łatwo tworzyć wiele warunków.\n",
    "Elif oznacza else if, wskazując, że jeśli poprzedni warunek się nie powiedzie, wypróbuj ten.\n",
    "\n",
    "**Struktura**\n",
    "Bloki if i else pozostaną takie same. Pomiędzy nimi znajduje się stwierdzenie elif.\n",
    "![if-elif-else](img/04_if-elif-else.PNG)"
   ],
   "metadata": {
    "collapsed": false
   },
   "id": "cd6941cd35a33b1a"
  },
  {
   "cell_type": "code",
   "execution_count": 12,
   "outputs": [
    {
     "name": "stdout",
     "output_type": "stream",
     "text": [
      "Stop\n"
     ]
    }
   ],
   "source": [
    "light = \"Red\"\n",
    "\n",
    "if light == \"Green\":\n",
    "    print(\"Go\")\n",
    "\n",
    "elif light == \"Yellow\":\n",
    "    print(\"Caution\")\n",
    "\n",
    "elif light == \"Red\":\n",
    "    print(\"Stop\")\n",
    "\n",
    "else:\n",
    "    print(\"Incorrect light signal\")"
   ],
   "metadata": {
    "collapsed": false,
    "ExecuteTime": {
     "end_time": "2023-10-11T14:50:21.837261100Z",
     "start_time": "2023-10-11T14:50:21.363109800Z"
    }
   },
   "id": "62e8423aba542a9f"
  },
  {
   "cell_type": "markdown",
   "source": [
    "**Wiele instrukcji elif**\n",
    "Na tym polega piękno instrukcji if-elif-else. Możemy mieć tyle elifów, ile potrzebujemy, o ile znajdują się one pomiędzy if i else.\n",
    "![if-elif-else](img/05_if-elif-else.PNG)\n",
    "Uwaga: Instrukcja if-elif może istnieć samodzielnie, bez bloku else na końcu. Jednakże elif nie może istnieć bez poprzedzającej go instrukcji if (co naturalnie ma sens)."
   ],
   "metadata": {
    "collapsed": false
   },
   "id": "7a9bf75f9133b72d"
  },
  {
   "cell_type": "code",
   "execution_count": 13,
   "outputs": [
    {
     "name": "stdout",
     "output_type": "stream",
     "text": [
      "Five\n"
     ]
    }
   ],
   "source": [
    "num = 5\n",
    "\n",
    "if num == 0:\n",
    "    print(\"Zero\")\n",
    "elif num == 1:\n",
    "    print(\"One\")\n",
    "elif num == 2:\n",
    "    print(\"Two\")\n",
    "elif num == 3:\n",
    "    print(\"Three\")\n",
    "elif num == 4:\n",
    "    print(\"Four\")\n",
    "elif num == 5:\n",
    "    print(\"Five\")\n",
    "elif num == 6:\n",
    "    print(\"Six\")\n",
    "elif num == 7:\n",
    "    print(\"Seven\")\n",
    "elif num == 8:\n",
    "    print(\"Eight\")\n",
    "elif num == 9:\n",
    "    print(\"Nine\")"
   ],
   "metadata": {
    "collapsed": false,
    "ExecuteTime": {
     "end_time": "2023-10-11T14:50:21.838256300Z",
     "start_time": "2023-10-11T14:50:21.365612200Z"
    }
   },
   "id": "e4c2962d66d71e61"
  },
  {
   "cell_type": "markdown",
   "source": [
    "Należy pamiętać, że instrukcje if-elif-else lub if-elif to nie to samo, co wielokrotne instrukcje if. jeśli instrukcje działają niezależnie.\n",
    "Jeśli warunki dwóch kolejnych if są prawdziwe, obie instrukcje zostaną wykonane.\n",
    "Z drugiej strony, w przypadku if-elif-else, gdy warunek ma wartość True, pozostałe warunki instrukcji nie są oceniane."
   ],
   "metadata": {
    "collapsed": false
   },
   "id": "b97508652efb4b2"
  },
  {
   "cell_type": "code",
   "execution_count": 14,
   "outputs": [
    {
     "name": "stdout",
     "output_type": "stream",
     "text": [
      "The number is greater than 5\n",
      "The number is even\n"
     ]
    }
   ],
   "source": [
    "# if\n",
    "num = 10\n",
    "\n",
    "if num > 5:\n",
    "    print(\"The number is greater than 5\")\n",
    "\n",
    "if num % 2 == 0:\n",
    "    print(\"The number is even\")\n",
    "\n",
    "if not num % 2 == 0:\n",
    "    print(\"The number is odd\")"
   ],
   "metadata": {
    "collapsed": false,
    "ExecuteTime": {
     "end_time": "2023-10-11T14:50:21.838256300Z",
     "start_time": "2023-10-11T14:50:21.374071200Z"
    }
   },
   "id": "a7d6a1bbfae159b"
  },
  {
   "cell_type": "code",
   "execution_count": 15,
   "outputs": [
    {
     "name": "stdout",
     "output_type": "stream",
     "text": [
      "The number is greater than 5\n"
     ]
    }
   ],
   "source": [
    "# if-elif-else\n",
    "num = 10\n",
    "\n",
    "if num > 5:\n",
    "    print(\"The number is greater than 5\")\n",
    "\n",
    "elif num % 2 == 0:\n",
    "    print(\"The number is even\")\n",
    "\n",
    "else:\n",
    "    print(\"The number is odd and less than or equal to 5\")"
   ],
   "metadata": {
    "collapsed": false,
    "ExecuteTime": {
     "end_time": "2023-10-11T14:50:21.860198100Z",
     "start_time": "2023-10-11T14:50:21.380771900Z"
    }
   },
   "id": "d836201f1589ad57"
  },
  {
   "cell_type": "markdown",
   "source": [
    "Jak widzimy, w przykładzie if wszystkie instrukcje są obliczane jedna po drugiej. W ten sposób otrzymujemy wiele wyników.\n",
    "W przykładzie if-elif-else, ponieważ pierwszy warunek jest spełniony, wszystkie pozostałe są odrzucane. Okazuje się, że jest to bardziej wydajne pod względem wydajności kodu."
   ],
   "metadata": {
    "collapsed": false
   },
   "id": "2891412ba1841734"
  },
  {
   "cell_type": "markdown",
   "source": [
    "**Ćwiczenie: Obniżka**\n",
    "Opis problemu\n",
    "W tym wyzwaniu musisz obniżyć cenę zgodnie z jej wartością.\n",
    "Jeśli cena wynosi 300 lub więcej, otrzymasz 30% zniżki.\n",
    "Jeżeli cena mieści się w przedziale od 200 do 300 (200 włącznie), obowiązuje rabat 20%.\n",
    "Jeżeli cena mieści się w przedziale od 100 do 200 (100 włącznie), obowiązuje rabat 10%.\n",
    "Jeśli cena będzie niższa niż 100, zostanie udzielony rabat 5%.\n",
    "Jeśli cena będzie ujemna, rabatu nie będzie."
   ],
   "metadata": {
    "collapsed": false
   },
   "id": "15af6ce95ce45c5e"
  },
  {
   "cell_type": "code",
   "execution_count": 16,
   "outputs": [
    {
     "name": "stdout",
     "output_type": "stream",
     "text": [
      "200.0\n"
     ]
    }
   ],
   "source": [
    "price = 250\n",
    "\n",
    "if price >= 300:\n",
    "    price -= price * 0.3\n",
    "elif 200 <= price < 300:\n",
    "    price -= price * 0.2\n",
    "elif 100 <= price < 200:\n",
    "    price -= price * 0.1\n",
    "elif 0 <= price < 100:\n",
    "    price -= price * 0.05\n",
    "    \n",
    "print(price)"
   ],
   "metadata": {
    "collapsed": false,
    "ExecuteTime": {
     "end_time": "2023-10-11T14:50:21.861197200Z",
     "start_time": "2023-10-11T14:50:21.385750500Z"
    }
   },
   "id": "5666eb0d6400cf9d"
  },
  {
   "cell_type": "code",
   "execution_count": 17,
   "outputs": [
    {
     "name": "stdout",
     "output_type": "stream",
     "text": [
      "200.0\n"
     ]
    }
   ],
   "source": [
    "price = 250\n",
    "\n",
    "if price >= 300:\n",
    "    price *= 0.7  # (1 - 0.3)\n",
    "elif price >= 200:\n",
    "    price *= 0.8  # (1 - 0.2)\n",
    "elif price >= 100:\n",
    "    price *= 0.9  # (1 - 0.1)\n",
    "elif price < 100 and price >= 0:\n",
    "    price *= 0.95  # (1 - 0.05)\n",
    "\n",
    "print(price)"
   ],
   "metadata": {
    "collapsed": false,
    "ExecuteTime": {
     "end_time": "2023-10-11T14:50:21.862194900Z",
     "start_time": "2023-10-11T14:50:21.392268900Z"
    }
   },
   "id": "389f5198a32c8f5"
  },
  {
   "cell_type": "markdown",
   "source": [
    "**Czym są pętle?**\n",
    "Ta lekcja wyjaśnia funkcjonalność pętli w Pythonie.\n",
    "\n",
    "**Definicja**\n",
    "Pętla to struktura sterująca używana do wykonywania zestawu instrukcji określoną liczbę razy.\n",
    "\n",
    "Pętle rozwiązują problem konieczności ciągłego pisania tego samego zestawu instrukcji. Możemy określić, ile razy chcemy, aby kod został wykonany.\n",
    "Jednym z największych zastosowań pętli jest przechodzenie przez struktury danych, np. listy, krotki, zbiory itp. W takim przypadku pętla iteruje po elementach struktury danych, wykonując za każdym razem zestaw operacji.\n",
    "Podobnie jak instrukcje warunkowe, pętla jest klasyfikowana jako struktura sterująca, ponieważ kieruje przepływem programu, podejmując różne decyzje w jego iteracjach.\n",
    "Pętle są kluczową częścią wielu popularnych języków programowania, takich jak C++, Java i JavaScript.\n",
    "\n",
    "**Pętle w Pythonie**\n",
    "W Pythonie możemy używać dwóch typów pętli:\n",
    "1. Pętla for\n",
    "2. Pętla while\n",
    "\n",
    "Obie różnią się nieco funkcjonalnością."
   ],
   "metadata": {
    "collapsed": false
   },
   "id": "9c06f38dab2895fa"
  },
  {
   "cell_type": "markdown",
   "source": [
    "**Pętla for**\n",
    "W tej lekcji omówiono główne cechy pętli „for”.\n",
    "\n",
    "Pętla for wykorzystuje iterator do przechodzenia przez sekwencję, np. zakres liczb, elementy listy itp. W uproszczeniu iterator to zmienna przechodząca przez listę.\n",
    "Iterator rozpoczyna się od początku sekwencji. W każdej iteracji iterator aktualizuje następną wartość w sekwencji.\n",
    "Pętla kończy się, gdy iterator osiągnie koniec.\n",
    "\n",
    "**Struktura**\n",
    "W pętli for musimy zdefiniować trzy główne rzeczy:\n",
    "1. Nazwa iteratora\n",
    "2. Sekwencja, którą należy przejrzeć\n",
    "3. Zestaw operacji do wykonania\n",
    "\n",
    "Pętla zawsze zaczyna się od słowa kluczowego for. Słowo kluczowe in określa, że iterator będzie przechodził przez wartości w strukturze sekwencji/danych.\n",
    "\n",
    "**Pętla po zakresie**\n",
    "W Pythonie wbudowana funkcja range() może zostać użyta do utworzenia sekwencji liczb całkowitych. Sekwencję tę można powtarzać w pętli. Zakres jest określony w następującym formacie:\n",
    "```\n",
    "range(start, end, step)\n",
    "```\n",
    "Wartość końcowa nie jest uwzględniona na liście.\n",
    "Jeśli indeks początkowy nie jest określony, jego wartością domyślną jest 0.\n",
    "Krok decyduje o liczbie kroków, o które iterator przeskakuje po każdej iteracji. Jest to opcjonalne i jeśli tego nie określimy, domyślnym krokiem jest 1, co oznacza, że iterator po każdej iteracji będzie przesuwał się do przodu o jeden krok."
   ],
   "metadata": {
    "collapsed": false
   },
   "id": "511820091e266dee"
  },
  {
   "cell_type": "code",
   "execution_count": 18,
   "outputs": [
    {
     "name": "stdout",
     "output_type": "stream",
     "text": [
      "1  is odd\n",
      "2  is even\n",
      "3  is odd\n",
      "4  is even\n",
      "5  is odd\n",
      "6  is even\n",
      "7  is odd\n",
      "8  is even\n",
      "9  is odd\n",
      "10  is even\n"
     ]
    }
   ],
   "source": [
    "for i in range(1, 11):  # Sekwencja od 1 do 10\n",
    "    if i % 2 == 0:\n",
    "        print(i, \" is even\")\n",
    "    else:\n",
    "        print(i, \" is odd\")"
   ],
   "metadata": {
    "collapsed": false,
    "ExecuteTime": {
     "end_time": "2023-10-11T14:50:21.862194900Z",
     "start_time": "2023-10-11T14:50:21.396268800Z"
    }
   },
   "id": "7e9b6f878a37e1f1"
  },
  {
   "cell_type": "markdown",
   "source": [
    "Jak widać powyżej, zamiast indywidualnie sprawdzać, czy każda liczba całkowita od 1 do 10 jest parzysta, czy nieparzysta, możemy przejść przez sekwencję i obliczyć i % 2 == 0 dla każdego elementu.\n",
    "Iterator i zaczyna się od 1 i staje się każdą kolejną wartością w sekwencji.\n",
    "\n",
    "Zobaczmy, jak zmienia się pętla, gdy określony jest składnik kroku zakresu:"
   ],
   "metadata": {
    "collapsed": false
   },
   "id": "bae80f04df90806c"
  },
  {
   "cell_type": "code",
   "execution_count": 19,
   "outputs": [
    {
     "name": "stdout",
     "output_type": "stream",
     "text": [
      "1\n",
      "4\n",
      "7\n",
      "10\n"
     ]
    }
   ],
   "source": [
    "for i in range(1, 11, 3):  # Sekwencja od 1 do 10 z krokiem 3\n",
    "    print(i)"
   ],
   "metadata": {
    "collapsed": false,
    "ExecuteTime": {
     "end_time": "2023-10-11T14:50:21.862194900Z",
     "start_time": "2023-10-11T14:50:21.403669Z"
    }
   },
   "id": "6c79bf063a7c2a32"
  },
  {
   "cell_type": "markdown",
   "source": [
    "**Pętla po liście/ciągu**\n",
    "Listę lub ciąg znaków można iterować po jej indeksach.\n",
    "Podwoimy każdą wartość na liście za pomocą pętli for:"
   ],
   "metadata": {
    "collapsed": false
   },
   "id": "e65a739e8fc7ee46"
  },
  {
   "cell_type": "code",
   "execution_count": 20,
   "outputs": [
    {
     "name": "stdout",
     "output_type": "stream",
     "text": [
      "[2.5, 16.42, 10.77, 8.3, 34.21]\n",
      "[5.0, 32.84, 21.54, 16.6, 68.42]\n"
     ]
    }
   ],
   "source": [
    "float_list = [2.5, 16.42, 10.77, 8.3, 34.21]\n",
    "print(float_list)\n",
    "\n",
    "for i in range(0, len(float_list)):  # Iterator przechodzi do ostatniego indeksu listy\n",
    "    float_list[i] = float_list[i] * 2\n",
    "\n",
    "print(float_list)"
   ],
   "metadata": {
    "collapsed": false,
    "ExecuteTime": {
     "end_time": "2023-10-11T14:50:21.863191800Z",
     "start_time": "2023-10-11T14:50:21.407170Z"
    }
   },
   "id": "ae9cb9a00b32d4"
  },
  {
   "cell_type": "markdown",
   "source": [
    "Możemy także przechodzić przez elementy listy/ciągu bezpośrednio przez iterator. Na powyższej liście float_list sprawdźmy, ile elementów jest większych niż 10:"
   ],
   "metadata": {
    "collapsed": false
   },
   "id": "bf25a9e4c64ca0c"
  },
  {
   "cell_type": "code",
   "execution_count": 21,
   "outputs": [
    {
     "name": "stdout",
     "output_type": "stream",
     "text": [
      "3\n"
     ]
    }
   ],
   "source": [
    "float_list = [2.5, 16.42, 10.77, 8.3, 34.21]\n",
    "count_greater = 0\n",
    "\n",
    "for num in float_list:  # Iterator przechodzi do ostatniego indeksu listy\n",
    "    if num > 10:\n",
    "        count_greater += 1\n",
    "\n",
    "print(count_greater)"
   ],
   "metadata": {
    "collapsed": false,
    "ExecuteTime": {
     "end_time": "2023-10-11T14:50:21.863191800Z",
     "start_time": "2023-10-11T14:50:21.411340600Z"
    }
   },
   "id": "a28896537fcca342"
  },
  {
   "cell_type": "markdown",
   "source": [
    "W tym przykładzie num jest iteratorem. Należy pamiętać, że w powyższym przypadku zmiana num nie spowoduje zmiany rzeczywistej wartości na liście. Iterator tworzy kopię elementu listy."
   ],
   "metadata": {
    "collapsed": false
   },
   "id": "6a243e79ca618492"
  },
  {
   "cell_type": "markdown",
   "source": [
    "**Zagnieżdżone pętle for**\n",
    "W tej lekcji utworzymy zagnieżdżone pętle „for”!\n",
    "\n",
    "**Wykonywanie zagnieżdżonych pętli**\n",
    "Python pozwala nam łatwo tworzyć pętle w pętlach. Jest tylko jeden haczyk: pętla wewnętrzna zawsze zakończy się przed pętlą zewnętrzną.\n",
    "Dla każdej iteracji pętli zewnętrznej iterator w pętli wewnętrznej zakończy swoje iteracje dla danego zakresu, po czym pętla zewnętrzna może przejść do następnej iteracji.\n",
    "\n",
    "**Korzystanie z zagnieżdżonej pętli for**\n",
    "Weźmy przykład. Załóżmy, że chcemy wydrukować dwa elementy, których suma jest równa pewnej liczbie n.\n",
    "Najprostszym sposobem byłoby porównanie każdego elementu z resztą listy. Zagnieżdżona pętla for jest do tego idealna:"
   ],
   "metadata": {
    "collapsed": false
   },
   "id": "91ed8882eeeec1f4"
  },
  {
   "cell_type": "code",
   "execution_count": 22,
   "outputs": [
    {
     "name": "stdout",
     "output_type": "stream",
     "text": [
      "23 27\n",
      "27 23\n"
     ]
    }
   ],
   "source": [
    "n = 50\n",
    "num_list = [10, 25, 4, 23, 6, 18, 27, 47]\n",
    "\n",
    "for n1 in num_list:\n",
    "    for n2 in num_list:  # Teraz mamy dwa iteratory\n",
    "        if(n1 != n2):\n",
    "            if(n1 + n2 == n):\n",
    "                print(n1, n2)\n"
   ],
   "metadata": {
    "collapsed": false,
    "ExecuteTime": {
     "end_time": "2023-10-11T14:50:21.864189400Z",
     "start_time": "2023-10-11T14:50:21.418111700Z"
    }
   },
   "id": "7a9ce92e43487342"
  },
  {
   "cell_type": "markdown",
   "source": [
    "W powyższym kodzie każdy element jest porównywany z każdym innym elementem, aby sprawdzić, czy n1 + n2 jest równe n."
   ],
   "metadata": {
    "collapsed": false
   },
   "id": "b26be8f329b3349f"
  },
  {
   "cell_type": "markdown",
   "source": [
    "**Słowo kluczowe break**\n",
    "Czasami musimy wyjść z pętli, zanim dojdzie ona do końca. Może się to zdarzyć, jeśli znaleźliśmy to, czego szukaliśmy i nie musimy wykonywać więcej obliczeń w pętli.\n",
    "Doskonałym przykładem jest ten, który właśnie omówiliśmy. W pewnym momencie n1 wynosi 23, a n2 wynosi 27. Nasz warunek n1 + n2 == n został spełniony. Ale pętle działają nadal i porównują także wszystkie inne pary. Dlatego para jest drukowana dwukrotnie. Byłoby miło po prostu to zatrzymać, gdy para zostanie odnaleziona.\n",
    "Do tego właśnie służy słowo kluczowe break. Może przerwać pętlę, kiedy tylko chcemy."
   ],
   "metadata": {
    "collapsed": false
   },
   "id": "ea4230fead97b35f"
  },
  {
   "cell_type": "code",
   "execution_count": 23,
   "outputs": [
    {
     "name": "stdout",
     "output_type": "stream",
     "text": [
      "23 27\n"
     ]
    }
   ],
   "source": [
    "n = 50\n",
    "num_list = [10, 25, 4, 23, 6, 18, 27, 47]\n",
    "found = False  # Ta wartość bool stanie się prawdziwa po znalezieniu pary\n",
    "\n",
    "for n1 in num_list:\n",
    "    for n2 in num_list:\n",
    "        if(n1 != n2):\n",
    "            if(n1 + n2 == n):\n",
    "                found = True  # Ustaw zmienną found na True\n",
    "                break  # Przerwij pętlę wewnętrzną, jeśli zostanie znaleziona para\n",
    "    if found:\n",
    "        print(n1, n2) # Print the pair\n",
    "        break  # Przerwij pętlę zewnętrzną, jeśli zostanie znaleziona para"
   ],
   "metadata": {
    "collapsed": false,
    "ExecuteTime": {
     "end_time": "2023-10-11T14:50:21.864189400Z",
     "start_time": "2023-10-11T14:50:21.424801700Z"
    }
   },
   "id": "c225b0001d9e9686"
  },
  {
   "cell_type": "markdown",
   "source": [
    "Jak widzimy, tym razem wydrukowane zostanie tylko (23, 27).\n",
    "Dzieje się tak, ponieważ (23, 27) jest pierwszą parą spełniającą warunek. Następnie kończymy pętlę, używając znalezionej wartości bocznej. Dlatego (27, 23) nigdy nie jest obliczane."
   ],
   "metadata": {
    "collapsed": false
   },
   "id": "28ebe625e1f50547"
  },
  {
   "cell_type": "markdown",
   "source": [
    "**Słowo kluczowe continue**\n",
    "Gdy użyte zostanie słowo kluczowe continue, reszta tej konkretnej iteracji zostanie pominięta. Pętla przechodzi do następnej iteracji. Można powiedzieć, że nie przerywa pętli, a jedynie pomija cały kod w bieżącej iteracji i przechodzi do następnej.\n",
    "Nie musimy wdawać się w szczegóły, więc oto prosty przykład:"
   ],
   "metadata": {
    "collapsed": false
   },
   "id": "ba0fb7fe570b4ab0"
  },
  {
   "cell_type": "code",
   "execution_count": 24,
   "outputs": [
    {
     "name": "stdout",
     "output_type": "stream",
     "text": [
      "0\n",
      "1\n",
      "2\n",
      "4\n",
      "5\n",
      "7\n",
      "9\n"
     ]
    }
   ],
   "source": [
    "num_list = list(range(0, 10))\n",
    "\n",
    "for num in num_list:\n",
    "    if num == 3 or num == 6 or num == 8:\n",
    "        continue\n",
    "    print(num)"
   ],
   "metadata": {
    "collapsed": false,
    "ExecuteTime": {
     "end_time": "2023-10-11T14:50:21.864189400Z",
     "start_time": "2023-10-11T14:50:21.428402800Z"
    }
   },
   "id": "67ef2824471dc7b0"
  },
  {
   "cell_type": "markdown",
   "source": [
    "Pętla przechodzi do bloku if, gdy liczba wynosi 3, 6 lub 8. Gdy tak się stanie, wykonywana jest continue, a reszta iteracji, łącznie z instrukcją print(), jest pomijana."
   ],
   "metadata": {
    "collapsed": false
   },
   "id": "a4b6a64dd37aacdf"
  },
  {
   "cell_type": "markdown",
   "source": [
    "**Słowo kluczowe pass**\n",
    "W praktycznym znaczeniu instrukcja pass nie ma żadnego wpływu na wykonanie kodu. Można go używać do reprezentowania obszaru kodu, który należy napisać. Dlatego jest po prostu po to, aby Ci pomóc, gdy nie napisałeś fragmentu kodu, ale nadal potrzebujesz całego programu do wykonania."
   ],
   "metadata": {
    "collapsed": false
   },
   "id": "493f1972dc18b955"
  },
  {
   "cell_type": "code",
   "execution_count": 25,
   "outputs": [
    {
     "name": "stdout",
     "output_type": "stream",
     "text": [
      "20\n"
     ]
    }
   ],
   "source": [
    "num_list = list(range(20))\n",
    "\n",
    "for num in num_list:\n",
    "    pass # Możesz później napisać tutaj kod\n",
    "\n",
    "print(len(num_list)) "
   ],
   "metadata": {
    "collapsed": false,
    "ExecuteTime": {
     "end_time": "2023-10-11T14:50:21.865185300Z",
     "start_time": "2023-10-11T14:50:21.435675400Z"
    }
   },
   "id": "efb09e8c2a1706fd"
  },
  {
   "cell_type": "markdown",
   "source": [
    "**The while Loop**\n",
    "Pętla while wykonuje iterację po pewnym zestawie operacji, dopóki określony warunek jest spełniony.\n",
    "Działa według następującej logiki:\n",
    "Chociaż ten warunek jest prawdziwy, pętla musi działać.\n",
    "\n",
    "**Struktura**\n",
    "W pętli for liczba iteracji jest stała, ponieważ znamy rozmiar sekwencji.\n",
    "Z drugiej strony pętla while nie zawsze jest ograniczona do ustalonego zakresu. Jego wykonanie opiera się wyłącznie na warunku z nim związanym.\n",
    "![](img/06_while.PNG)"
   ],
   "metadata": {
    "collapsed": false
   },
   "id": "d607fc17afdfc9d4"
  },
  {
   "cell_type": "code",
   "execution_count": 26,
   "outputs": [
    {
     "name": "stdout",
     "output_type": "stream",
     "text": [
      "9\n"
     ]
    }
   ],
   "source": [
    "n = 2\n",
    "power = 0\n",
    "val = n\n",
    "while val < 1000:\n",
    "    power += 1\n",
    "    val *= n\n",
    "print(power)"
   ],
   "metadata": {
    "collapsed": false,
    "ExecuteTime": {
     "end_time": "2023-10-11T14:50:21.865185300Z",
     "start_time": "2023-10-11T14:50:21.439176600Z"
    }
   },
   "id": "9adc671572297c74"
  },
  {
   "cell_type": "markdown",
   "source": [
    "W każdej iteracji aktualizujemy wartość val i sprawdzamy, czy jej wartość jest mniejsza niż 1000. Wartość potęgi mówi nam, jaką maksymalną potęgę może mieć n, zanim stanie się większa lub równa 1000.\n",
    "Pętli while możemy używać również ze strukturami danych, szczególnie w przypadkach, gdy długość struktury danych zmienia się podczas iteracji.\n",
    "Następująca pętla oblicza sumę pierwszej i ostatniej cyfry dowolnej liczby całkowitej:"
   ],
   "metadata": {
    "collapsed": false
   },
   "id": "2cf09cb8a1cd1e7f"
  },
  {
   "cell_type": "code",
   "execution_count": 27,
   "outputs": [
    {
     "name": "stdout",
     "output_type": "stream",
     "text": [
      "11\n"
     ]
    }
   ],
   "source": [
    "n = 249\n",
    "last = n % 10  # Znalezienie ostatniej liczby jest łatwe\n",
    "\n",
    "first = n  # Ustaw początkowo na zmienną first jako n\n",
    "while first >= 10:\n",
    "    first //= 10  # Kontynuuj dzielenie przez 10, aż dojdziesz do cyfry znajdującej się najbardziej na lewo.\n",
    "\n",
    "result = first + last\n",
    "print(result)"
   ],
   "metadata": {
    "collapsed": false,
    "ExecuteTime": {
     "end_time": "2023-10-11T14:50:21.870171300Z",
     "start_time": "2023-10-11T14:50:21.444095900Z"
    }
   },
   "id": "3f95f820169e19d6"
  },
  {
   "cell_type": "markdown",
   "source": [
    "**Środki ostrożności**\n",
    "W porównaniu do pętli for, powinniśmy zachować większą ostrożność podczas tworzenia pętli while. Dzieje się tak dlatego, że pętla while może nigdy się nie kończyć. Może to spowodować awarię programu!"
   ],
   "metadata": {
    "collapsed": false
   },
   "id": "4eececf72ec16a60"
  },
  {
   "cell_type": "raw",
   "source": [
    "while(True):\n",
    "    print(\"Hello World\")\n",
    "\n",
    "x = 1\n",
    "while(x > 0):\n",
    "    x += 5\n",
    "    \n",
    "# Te pętle nigdy się nie skończą!"
   ],
   "metadata": {
    "collapsed": false
   },
   "id": "c6bcc0f583f09c3d"
  },
  {
   "cell_type": "markdown",
   "source": [
    "**Inne właściwości**\n",
    "Słowa kluczowe break,continue i pass współpracują z pętlami while.\n",
    "Podobnie jak pętle for, możemy także zagnieżdżać pętle while. Co więcej, możemy zagnieździć między sobą oba rodzaje pętli."
   ],
   "metadata": {
    "collapsed": false
   },
   "id": "5bfac6dabec6cdd6"
  },
  {
   "cell_type": "markdown",
   "source": [
    "**Iteracja a rekurencja**\n",
    "Jeśli przyjrzymy się uważnie, istnieje kilka podobieństw między iteracją a rekurencją. W rekurencji funkcja wielokrotnie wykonuje ten sam zestaw operacji, ale z różnymi argumentami.\n",
    "\n",
    "Pętla robi to samo, z tą różnicą, że wartość iteratora i innych zmiennych w ciele pętli zmienia się w każdej iteracji.\n",
    "\n",
    "Ustalenie, które podejście zastosować, jest procesem intuicyjnym. Wiele problemów można rozwiązać za pomocą obu rozwiązań.\n",
    "\n",
    "Rekurencja jest przydatna, gdy musimy podzielić dane na różne części. Iteracja jest przydatna do przechodzenia przez dane, a także wtedy, gdy nie chcemy, aby zakres programu się zmieniał."
   ],
   "metadata": {
    "collapsed": false
   },
   "id": "ca0d3b9523e12270"
  },
  {
   "cell_type": "markdown",
   "source": [
    "**Ćwiczenie: Zbalansowane nawiasy**\n",
    "Biorąc pod uwagę ciąg zawierający tylko nawiasy kwadratowe [], musisz sprawdzić, czy nawiasy są zrównoważone, czy nie. Mówi się, że nawiasy są zrównoważone, jeżeli po każdym nawiasie otwierającym następuje nawias zamykający.\n",
    "Napiszesz swój kod w funkcji check_balance(), która zwróci True, jeśli nawiasy są zrównoważone, i False, jeśli nie są.\n",
    "W przypadku pustego ciągu funkcja zwróci True.\n",
    "Dla uproszczenia można założyć, że ciąg nie będzie zawierał żadnych innych znaków."
   ],
   "metadata": {
    "collapsed": false
   },
   "id": "1b8e5b37e9dae961"
  },
  {
   "cell_type": "code",
   "execution_count": 28,
   "outputs": [
    {
     "name": "stdout",
     "output_type": "stream",
     "text": [
      "True\n"
     ]
    }
   ],
   "source": [
    "# Pierwsza wersja\n",
    "s = \"[[[[][]]]]\"\n",
    "\n",
    "def check_balance(brackets):\n",
    "    open = 0\n",
    "    for b in brackets:\n",
    "        if b == '[':\n",
    "            open += 1\n",
    "        if b == ']':\n",
    "            open -= 1\n",
    "    return True if open == 0 else False\n",
    "\n",
    "\n",
    "print(check_balance(s))"
   ],
   "metadata": {
    "collapsed": false,
    "ExecuteTime": {
     "end_time": "2023-10-11T14:50:21.871169700Z",
     "start_time": "2023-10-11T14:50:21.454334Z"
    }
   },
   "id": "bbe181cfa3af8469"
  },
  {
   "cell_type": "code",
   "execution_count": 29,
   "outputs": [
    {
     "name": "stdout",
     "output_type": "stream",
     "text": [
      "False\n"
     ]
    }
   ],
   "source": [
    "# Druga wersja\n",
    "def check_balance(brackets):\n",
    "    check = 0\n",
    "    for bracket in brackets:\n",
    "        if bracket == '[':\n",
    "            check += 1\n",
    "\n",
    "        elif bracket == ']':\n",
    "            check -= 1\n",
    "\n",
    "        if check < 0:\n",
    "            break\n",
    "\n",
    "    return check == 0\n",
    "\n",
    "\n",
    "bracket_string = '[[[[]]'\n",
    "\n",
    "print(check_balance(bracket_string))"
   ],
   "metadata": {
    "collapsed": false,
    "ExecuteTime": {
     "end_time": "2023-10-11T14:50:21.872168300Z",
     "start_time": "2023-10-11T14:50:21.460159700Z"
    }
   },
   "id": "bbe7523b725248d1"
  },
  {
   "cell_type": "markdown",
   "source": [
    "Rozwiązanie opiera się na wartości zmiennej kontrolnej, która jest aktualizowana w każdej iteracji. W przypadku znalezienia nawiasu otwierającego kontrola jest zwiększana o 1. W przypadku nawiasu zamykającego kontrola jest zmniejszana o 1.\n",
    "\n",
    "Logika jest taka, że sprawdzenie nigdy nie powinno być ujemne, ponieważ oznaczałoby to, że gdzieś w ciągu znaków jest więcej nawiasów zamykających niż otwierających. Warunek niezrównoważenia jest spełniony i nie musimy dalej sprawdzać.\n",
    "\n",
    "Innym przypadkiem jest to, że po zakończeniu pętli wartość sprawdzenia będzie wynosić 0, ponieważ nawiasy są zgodne. Jeśli tak nie jest, funkcja po prostu zwraca False."
   ],
   "metadata": {
    "collapsed": false
   },
   "id": "e3d2f31d2930d9eb"
  },
  {
   "cell_type": "markdown",
   "source": [
    "**Ćwiczenie: Suma zerowa**\n",
    "Musisz zaimplementować funkcję check_sum(), która pobiera listę i zwraca True, jeśli suma dwóch liczb na liście wynosi zero. Jeśli taka para nie istnieje, zwróć False."
   ],
   "metadata": {
    "collapsed": false
   },
   "id": "616d148e77b4bdac"
  },
  {
   "cell_type": "code",
   "execution_count": 30,
   "outputs": [
    {
     "name": "stdout",
     "output_type": "stream",
     "text": [
      "True\n"
     ]
    }
   ],
   "source": [
    "# Pierwsza wersja\n",
    "l = [10, -14, 26, 5, -3, 13, -5]\n",
    "\n",
    "def check_sum(num_list):\n",
    "    for i in range(len(num_list)):\n",
    "        j = i + 1\n",
    "        while j < len(num_list):\n",
    "            if num_list[i] + num_list[j] == 0:\n",
    "                return True\n",
    "            j += 1\n",
    "    return False\n",
    "\n",
    "print(check_sum(l))"
   ],
   "metadata": {
    "collapsed": false,
    "ExecuteTime": {
     "end_time": "2023-10-11T14:50:21.872168300Z",
     "start_time": "2023-10-11T14:50:21.462664800Z"
    }
   },
   "id": "6a9d5587fbdf4f16"
  },
  {
   "cell_type": "code",
   "execution_count": 31,
   "outputs": [
    {
     "name": "stdout",
     "output_type": "stream",
     "text": [
      "True\n"
     ]
    }
   ],
   "source": [
    "# Druga wersja\n",
    "def check_sum(num_list):\n",
    "    for first_num in range(len(num_list)):\n",
    "        for second_num in range(first_num + 1, len(num_list)):\n",
    "            if num_list[first_num] + num_list[second_num] == 0:\n",
    "                return True\n",
    "    return False\n",
    "\n",
    "\n",
    "num_list = [10, -14, 26, 5, -3, 13, -5]\n",
    "print(check_sum(num_list))"
   ],
   "metadata": {
    "collapsed": false,
    "ExecuteTime": {
     "end_time": "2023-10-11T14:50:21.872168300Z",
     "start_time": "2023-10-11T14:50:21.468648200Z"
    }
   },
   "id": "7cd19189611bab84"
  },
  {
   "cell_type": "markdown",
   "source": [
    "Możemy użyć zagnieżdżonej pętli for, aby uzyskać wszystkie możliwe pary z listy.\n",
    "Używając funkcji range(), możemy mieć pewność, że pętla wewnętrzna zawsze rozpoczyna się o jeden indeks przed pętlą zewnętrzną.\n",
    "Eliminuje to możliwość powtórzenia porównania."
   ],
   "metadata": {
    "collapsed": false
   },
   "id": "db3f325b4bd89c70"
  },
  {
   "cell_type": "markdown",
   "source": [
    "**Ćwiczenie: Ciąg Fibonacciego**\n",
    "Ciąg Fibonacciego to ciąg liczb, gdzie każda liczba jest sumą dwóch liczb poprzedzających ją. Pierwsze dwie liczby to 0 i 1:\n",
    "```\n",
    "0 1 1 2 3 5 8 13\n",
    "```\n",
    "Musisz napisać funkcję fib(), która pobiera dodatnią liczbę całkowitą n i zwraca n-tą liczbę Fibonacciego. Jednak zamiast korzystać z rekurencji, funkcja musi korzystać z dowolnej pętli."
   ],
   "metadata": {
    "collapsed": false
   },
   "id": "66ac582574feeb45"
  },
  {
   "cell_type": "code",
   "execution_count": 55,
   "outputs": [
    {
     "name": "stdout",
     "output_type": "stream",
     "text": [
      "13\n"
     ]
    }
   ],
   "source": [
    "# Pierwsze rozwiązanie\n",
    "def fib(n):\n",
    "    if n < 1:\n",
    "        return -1\n",
    "    if n == 1:\n",
    "        return 0\n",
    "    if n == 2:\n",
    "        return 1\n",
    "    f = 0\n",
    "    s = 1\n",
    "    val = 0\n",
    "    for i in range(2, n):\n",
    "        val = f + s\n",
    "        f = s\n",
    "        s = val\n",
    "        \n",
    "    return val\n",
    "\n",
    "\n",
    "print(fib(8))"
   ],
   "metadata": {
    "collapsed": false,
    "ExecuteTime": {
     "end_time": "2023-10-11T18:54:47.051057Z",
     "start_time": "2023-10-11T18:54:47.042101600Z"
    }
   },
   "id": "70ae2957c44a09b"
  },
  {
   "cell_type": "code",
   "execution_count": 56,
   "outputs": [
    {
     "name": "stdout",
     "output_type": "stream",
     "text": [
      "8\n"
     ]
    }
   ],
   "source": [
    "# Drugie rozwiązanie\n",
    "def fib(n):\n",
    "    first = 0\n",
    "    second = 1\n",
    "\n",
    "    if n < 1:\n",
    "        return -1\n",
    "\n",
    "    if n == 1:\n",
    "        return first\n",
    "\n",
    "    if n == 2:\n",
    "        return second\n",
    "\n",
    "    count = 3\n",
    "    while count <= n:\n",
    "        fib_n = first + second\n",
    "        first = second\n",
    "        second = fib_n\n",
    "        count += 1\n",
    "    return fib_n\n",
    "\n",
    "\n",
    "n = 7\n",
    "print(fib(n))"
   ],
   "metadata": {
    "collapsed": false,
    "ExecuteTime": {
     "end_time": "2023-10-11T18:55:13.888207500Z",
     "start_time": "2023-10-11T18:55:13.832879700Z"
    }
   },
   "id": "e9fe3db50f37480b"
  },
  {
   "cell_type": "markdown",
   "source": [
    "Pierwszą rzeczą, którą musimy zrobić, jest obsłużenie wszystkich przypadków brzegowych. Jeśli n jest mniejsze niż 1, musimy po prostu zwrócić -1. Jeśli n wynosi 1 lub 2, oznacza to, że musimy zwrócić pierwszą lub drugą wartość w serii.\n",
    "\n",
    "Ponieważ już wiemy, że są to zawsze 0 i 1, możemy łatwo sprawdzić je na początku.\n",
    "\n",
    "Teraz zaczyna się nasza pętla while. Pętla for będzie działać równie dobrze. Naszym iteratorem jest zmienna licznika, która zaczyna się od 3, ponieważ obsłużyliśmy już dwie pierwsze wartości w serii.\n",
    "\n",
    "W każdej iteracji używamy dwóch poprzednich terminów w sekwencji, którymi są second i fib_n. W następnej iteracji staną się one pierwszym i drugim.\n",
    "\n",
    "Ostatecznie fib_n będzie przechowywać ostatnią n-tą wartość w ciągu Fibonacciego."
   ],
   "metadata": {
    "collapsed": false
   },
   "id": "fb02e9083cf368c8"
  },
  {
   "cell_type": "code",
   "execution_count": null,
   "outputs": [],
   "source": [],
   "metadata": {
    "collapsed": false
   },
   "id": "62869c6ff7d6157a"
  }
 ],
 "metadata": {
  "kernelspec": {
   "display_name": "Python 3",
   "language": "python",
   "name": "python3"
  },
  "language_info": {
   "codemirror_mode": {
    "name": "ipython",
    "version": 2
   },
   "file_extension": ".py",
   "mimetype": "text/x-python",
   "name": "python",
   "nbconvert_exporter": "python",
   "pygments_lexer": "ipython2",
   "version": "2.7.6"
  }
 },
 "nbformat": 4,
 "nbformat_minor": 5
}
