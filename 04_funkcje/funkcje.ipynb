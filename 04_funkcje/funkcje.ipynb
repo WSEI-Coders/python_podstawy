{
 "cells": [
  {
   "cell_type": "markdown",
   "source": [
    "Funkcje to fragmenty kodu, których można używać wielokrotnie, zamiast wielokrotnie go zapisywać. Pomaga programistom uniknąć nadmiarowości kodu oraz zwiększa prostotę i użyteczność kodu. Funkcje są jednym z podstawowych pojęć w języku programowania Python, dlatego ich poznanie i zrozumienie jest niezbędne dla programistów. Moduł ten zapewni doskonałe zrozumienie funkcji i powiązanych pojęć, co pomoże w pisaniu bardziej zorganizowanych i łatwiejszych w zarządzaniu programów w Pythonie. Moduł rozpoczyna się wprowadzeniem do funkcji i pojęć, takich jak tworzenie funkcji, argumenty funkcji i zakres funkcji. Następnie wyjaśnia pojęcia takie jak lambdy i rekurencja. Na koniec moduł kończy się krótką dyskusją na temat zasad zakresu i zamknięć."
   ],
   "metadata": {
    "collapsed": false
   },
   "id": "c6cd1a21b1f6d27a"
  },
  {
   "cell_type": "markdown",
   "source": [
    "**Czym są funkcje?**\n",
    "Funkcja to zestaw operacji wielokrotnego użytku.\n",
    "\n",
    "To brzmi jak całkiem prosta definicja. Ale co to dokładnie oznacza?\n",
    "Weźmy na przykład instrukcje print() i len(). Obydwa zawsze wykonują z góry określone zadania. Są to zatem przykłady funkcji!\n",
    "\n",
    "**Dlaczego warto używać funkcji?**\n",
    "Pomyśl o funkcji jak o pudełku, które wykonuje zadanie. Dajemy mu wejście, a ono zwraca wyjście.\n",
    "Nie musimy ponownie pisać zestawu instrukcji dla innego wejścia, możemy po prostu ponownie wywołać funkcję.\n",
    "Funkcje są przydatne, ponieważ sprawiają, że kod jest zwięzły i prosty. Podstawowe zalety korzystania z funkcji to:\n",
    "- Możliwość ponownego użycia: Funkcja może być używana wielokrotnie. Nie musisz pisać zbędnego kodu. Na przykład funkcja sum() może obliczyć sumę wszystkich podanych przez nią liczb całkowitych. Nie będziemy musieli za każdym razem sami pisać operacji sumowania.\n",
    "- Prostota: Funkcje są łatwe w użyciu i sprawiają, że kod jest czytelny. Musimy jedynie znać dane wejściowe i cel funkcji, nie skupiając się na jej wewnętrznym funkcjonowaniu. Ta abstrakcja pozwala nam bardziej skupić się na uzyskiwaniu wyników, zamiast zastanawiać się, w jaki sposób zostały one obliczone.\n",
    "\n",
    "Dane wejściowe nie są nawet konieczne. Funkcja może wykonać własne obliczenia, aby wykonać zadanie.\n",
    "![](img/01_funkcje.PNG)"
   ],
   "metadata": {
    "collapsed": false
   },
   "id": "199a4d1c35cb722f"
  },
  {
   "cell_type": "code",
   "execution_count": 9,
   "outputs": [
    {
     "name": "stdout",
     "output_type": "stream",
     "text": [
      "10\n",
      "120\n",
      "100\n"
     ]
    }
   ],
   "source": [
    "num1 = 10\n",
    "num2 = 40\n",
    "if num1 < num2:\n",
    "    minimum = num1\n",
    "else:\n",
    "    minimum = num2\n",
    "print(minimum)\n",
    "\n",
    "num1 = 250\n",
    "num2 = 120\n",
    "if num1 < num2:\n",
    "    minimum = num1\n",
    "else:\n",
    "    minimum = num2\n",
    "print(minimum)\n",
    "\n",
    "num1 = 100\n",
    "num2 = 100\n",
    "if num1 < num2:\n",
    "    minimum = num1\n",
    "else:\n",
    "    minimum = num2\n",
    "print(minimum)"
   ],
   "metadata": {
    "collapsed": false,
    "ExecuteTime": {
     "end_time": "2023-10-12T17:35:55.038449600Z",
     "start_time": "2023-10-12T17:35:54.916182500Z"
    }
   },
   "id": "4d228c3d7dd52b1d"
  },
  {
   "cell_type": "markdown",
   "source": [
    "Dla każdej nowej pary liczb całkowitych musimy ponownie napisać instrukcję if-else.\n",
    "Wszystko to mogłoby stać się znacznie prostsze, gdybyśmy mieli funkcję wykonywania kroków niezbędnych do obliczenia minimum.\n",
    "Dobra wiadomość jest taka, że Python ma już funkcję min():"
   ],
   "metadata": {
    "collapsed": false
   },
   "id": "9d4bfddf91c6bcc1"
  },
  {
   "cell_type": "code",
   "execution_count": 10,
   "outputs": [
    {
     "name": "stdout",
     "output_type": "stream",
     "text": [
      "10\n",
      "1\n",
      "Batman\n"
     ]
    }
   ],
   "source": [
    "minimum = min(10, 40)\n",
    "print(minimum)\n",
    "\n",
    "minimum = min(10, 100, 1, 1000)\n",
    "print(minimum)\n",
    "\n",
    "minimum = min(\"Superman\", \"Batman\")\n",
    "print(minimum)"
   ],
   "metadata": {
    "collapsed": false,
    "ExecuteTime": {
     "end_time": "2023-10-12T17:35:55.040444200Z",
     "start_time": "2023-10-12T17:35:54.924323300Z"
    }
   },
   "id": "964ca1478a84573e"
  },
  {
   "cell_type": "markdown",
   "source": [
    "**Rodzaje funkcji w Pythonie**\n",
    "Funkcje są prawdopodobnie najczęściej używaną funkcją Pythona. W Pythonie istnieją dwa podstawowe typy funkcji:\n",
    "\n",
    "Wbudowane funkcje\n",
    "Funkcje zdefiniowane przez użytkownika\n",
    "len(), min() i print() to przykłady funkcji wbudowanych.\n",
    "\n",
    "Najfajniejszą cechą jest jednak to, że język pozwala nam tworzyć własne funkcje, które wykonują wymagane przez nas zadania."
   ],
   "metadata": {
    "collapsed": false
   },
   "id": "e03e8bca622d698f"
  },
  {
   "cell_type": "markdown",
   "source": [
    "**Tworzenie funkcji**\n",
    "\n",
    "**Składniki funkcji**\n",
    "Jak właściwie tworzymy funkcję? W Pythonie funkcję można zdefiniować za pomocą słowa kluczowego def w następującym formacie:\n",
    "![](img/02_funkcje.PNG)\n",
    "Nazwa funkcji to po prostu nazwa, której będziemy używać do identyfikacji funkcji.\n",
    "Parametry funkcji są danymi wejściowymi tej funkcji. Możemy użyć tych danych wejściowych w ramach funkcji. Parametry są opcjonalne.\n",
    "Ciało funkcji zawiera zestaw operacji, które funkcja będzie wykonywać. To jest zawsze wcięte w prawo.\n",
    "\n",
    "**Implementacja**\n",
    "Zacznijmy od stworzenia prostej funkcji, która wypisuje cztery linie tekstu. Nie będzie miał żadnych parametrów. Nazwiemy to my_print_function. Możemy wywołać funkcję w naszym kodzie, używając jej nazwy wraz z pustymi nawiasami:"
   ],
   "metadata": {
    "collapsed": false
   },
   "id": "46e1c1549c5ff05f"
  },
  {
   "cell_type": "code",
   "execution_count": 11,
   "outputs": [
    {
     "name": "stdout",
     "output_type": "stream",
     "text": [
      "This\n",
      "is\n",
      "A\n",
      "function\n",
      "This\n",
      "is\n",
      "A\n",
      "function\n"
     ]
    }
   ],
   "source": [
    "def my_print_function(): \n",
    "    print(\"This\")\n",
    "    print(\"is\")\n",
    "    print(\"A\")\n",
    "    print(\"function\")\n",
    "\n",
    "\n",
    "my_print_function()\n",
    "my_print_function()"
   ],
   "metadata": {
    "collapsed": false,
    "ExecuteTime": {
     "end_time": "2023-10-12T17:35:55.136188100Z",
     "start_time": "2023-10-12T17:35:54.934534100Z"
    }
   },
   "id": "6756e7d4b21d1936"
  },
  {
   "cell_type": "markdown",
   "source": [
    "**Parametry funkcji**\n",
    "Parametry są kluczową częścią struktury funkcji.\n",
    "Są sposobem przekazywania danych do funkcji. Dane te mogą zostać wykorzystane przez funkcję do wykonania znaczącego zadania.\n",
    "Tworząc funkcję musimy zdefiniować ilość parametrów oraz ich nazwy. Nazwy te odnoszą się tylko do funkcji i nie mają wpływu na nazwy zmiennych w innych miejscach kodu. Parametry są ujęte w nawiasy i oddzielane przecinkami.\n",
    "Rzeczywiste wartości/zmienne przekazywane do parametrów nazywane są argumentami.\n",
    "Funkcja min() wymaga dwóch liczb jako danych wejściowych i wypisuje mniejszą.\n",
    "Zdefiniujmy własną podstawową postać funkcji min(), która po prostu wypisuje minimum. Nazwiemy to minimum():"
   ],
   "metadata": {
    "collapsed": false
   },
   "id": "1c03de15807e121b"
  },
  {
   "cell_type": "code",
   "execution_count": 12,
   "outputs": [
    {
     "name": "stdout",
     "output_type": "stream",
     "text": [
      "10\n"
     ]
    }
   ],
   "source": [
    "def minimum(first, second):\n",
    "    if (first < second):\n",
    "        print(first)\n",
    "    else:\n",
    "        print(second)\n",
    "\n",
    "\n",
    "num1 = 10\n",
    "num2 = 20\n",
    "\n",
    "minimum(num1, num2)"
   ],
   "metadata": {
    "collapsed": false,
    "ExecuteTime": {
     "end_time": "2023-10-12T17:35:55.138183Z",
     "start_time": "2023-10-12T17:35:54.941104200Z"
    }
   },
   "id": "b081b23e67198cf2"
  },
  {
   "cell_type": "markdown",
   "source": [
    "Tutaj przekazujemy do funkcji liczby num1 i num2. Położenia parametrów są ważne. W powyższym przypadku do pierwszego zostanie przypisana wartość num1, gdyż był to pierwszy parametr. Podobnie wartość num2 przypisana do sekundy.\n",
    "Jeśli wywołamy funkcję z mniejszą lub większą liczbą argumentów niż pierwotnie było to wymagane, Python zgłosi błąd.\n",
    "Parametrem może być dowolny obiekt danych; od prostej liczby całkowitej do ogromnej listy."
   ],
   "metadata": {
    "collapsed": false
   },
   "id": "d880f9dd8d16a317"
  },
  {
   "cell_type": "markdown",
   "source": [
    "**Słowo kluczowe return**\n",
    "Jak dotąd zdefiniowaliśmy tylko funkcje, które coś wypisują. Nic nam nie zwracają. Ale jeśli się zastanowimy, funkcje cały czas zwracają wartości. Weźmy na przykład len(). Zwraca liczbę całkowitą będącą długością struktury danych.\n",
    "Aby zwrócić coś z funkcji, musimy użyć słowa kluczowego return. Należy pamiętać, że po wykonaniu instrukcji return kompilator kończy funkcję. Wszelkie pozostałe wiersze kodu po instrukcji return nie zostaną wykonane.\n",
    "Przeanalizujmy metodę minimum(), aby zwrócić mniejszą wartość zamiast ją drukować. Teraz będzie działać podobnie jak wbudowana funkcja min() z dwoma parametrami:"
   ],
   "metadata": {
    "collapsed": false
   },
   "id": "ac53c6875d1c82a"
  },
  {
   "cell_type": "code",
   "execution_count": 13,
   "outputs": [
    {
     "name": "stdout",
     "output_type": "stream",
     "text": [
      "10\n"
     ]
    }
   ],
   "source": [
    "def minimum(first, second):\n",
    "    if (first < second):\n",
    "        return first\n",
    "    return second\n",
    "\n",
    "\n",
    "num1 = 10\n",
    "num2 = 20\n",
    "\n",
    "result = minimum(num1, num2) \n",
    "print(result)"
   ],
   "metadata": {
    "collapsed": false,
    "ExecuteTime": {
     "end_time": "2023-10-12T17:35:55.140182500Z",
     "start_time": "2023-10-12T17:35:54.950097100Z"
    }
   },
   "id": "6766342831e92717"
  },
  {
   "cell_type": "markdown",
   "source": [
    "Dowiedzieliśmy się, jak utworzyć funkcję, ustawić jej parametry, podać argumenty i zwrócić z niej dane. Python naprawdę sprawia, że jest to prosty proces.\n",
    "\n",
    "Dobrą praktyką jest najpierw zdefiniowanie wszystkich naszych funkcji, a następnie rozpoczęcie głównego kodu. Zdefiniowanie ich wcześniej gwarantuje, że można ich bezpiecznie używać w dowolnym miejscu programu."
   ],
   "metadata": {
    "collapsed": false
   },
   "id": "b5606d7c1d0c81cf"
  },
  {
   "cell_type": "markdown",
   "source": [
    "**Keywords**\n",
    "Funkcje mogą również akceptować argumenty typu keywords! W rzeczywistości mogą akceptować zarówno zwykłe argumenty, jak i argumenty tego typu."
   ],
   "metadata": {
    "collapsed": false
   },
   "id": "3afb8280f96dcf2"
  },
  {
   "cell_type": "code",
   "execution_count": 14,
   "outputs": [
    {
     "name": "stdout",
     "output_type": "stream",
     "text": [
      "9\n"
     ]
    }
   ],
   "source": [
    "def keyword_function(a=1, b=2):\n",
    "    return a+b\n",
    "\n",
    "result = keyword_function(b=4, a=5)\n",
    "print(result) # 9"
   ],
   "metadata": {
    "collapsed": false,
    "ExecuteTime": {
     "end_time": "2023-10-12T17:35:55.156134700Z",
     "start_time": "2023-10-12T17:35:54.960139900Z"
    }
   },
   "id": "d8c9cb40eb5cfddf"
  },
  {
   "cell_type": "code",
   "execution_count": 15,
   "outputs": [
    {
     "name": "stdout",
     "output_type": "stream",
     "text": [
      "3\n"
     ]
    }
   ],
   "source": [
    "def keyword_function(a=1, b=2):\n",
    "    return a+b\n",
    "\n",
    "result = keyword_function()\n",
    "print(result) # 3"
   ],
   "metadata": {
    "collapsed": false,
    "ExecuteTime": {
     "end_time": "2023-10-12T17:35:55.166107900Z",
     "start_time": "2023-10-12T17:35:54.963836600Z"
    }
   },
   "id": "c6f239181789c214"
  },
  {
   "cell_type": "code",
   "execution_count": 16,
   "outputs": [
    {
     "name": "stdout",
     "output_type": "stream",
     "text": [
      "10\n",
      "6\n"
     ]
    },
    {
     "ename": "TypeError",
     "evalue": "mixed_function() missing 1 required positional argument: 'a'",
     "output_type": "error",
     "traceback": [
      "\u001B[1;31m---------------------------------------------------------------------------\u001B[0m",
      "\u001B[1;31mTypeError\u001B[0m                                 Traceback (most recent call last)",
      "Cell \u001B[1;32mIn[16], line 10\u001B[0m\n\u001B[0;32m      7\u001B[0m result \u001B[38;5;241m=\u001B[39m mixed_function(\u001B[38;5;241m1\u001B[39m)\n\u001B[0;32m      8\u001B[0m \u001B[38;5;28mprint\u001B[39m(result) \u001B[38;5;66;03m# 6\u001B[39;00m\n\u001B[1;32m---> 10\u001B[0m result \u001B[38;5;241m=\u001B[39m mixed_function(b\u001B[38;5;241m=\u001B[39m\u001B[38;5;241m4\u001B[39m, c\u001B[38;5;241m=\u001B[39m\u001B[38;5;241m5\u001B[39m)\n",
      "\u001B[1;31mTypeError\u001B[0m: mixed_function() missing 1 required positional argument: 'a'"
     ]
    }
   ],
   "source": [
    "def mixed_function(a, b=2, c=3):\n",
    "    return a+b+c\n",
    "\n",
    "result = mixed_function(1, b=4, c=5)\n",
    "print(result) # 10\n",
    "\n",
    "result = mixed_function(1)\n",
    "print(result) # 6\n",
    "\n",
    "result = mixed_function(b=4, c=5)\n",
    "# TypeError: mixed_function() missing 1 required positional argument: 'a'"
   ],
   "metadata": {
    "collapsed": false,
    "ExecuteTime": {
     "end_time": "2023-10-12T17:35:55.180071400Z",
     "start_time": "2023-10-12T17:35:54.967967100Z"
    }
   },
   "id": "fd7ef6ab4a3e8d9"
  },
  {
   "cell_type": "markdown",
   "source": [
    "W powyższym kodzie znajdują się 3 przykładowe przypadki. Przejrzyjmy każdy z nich.\n",
    "W naszym pierwszym przykładzie wywołujemy funkcję mieszaną z 3 wartościami, wymieniając dwie z nich. To działa i daje oczekiwany wynik, czyli 1+4+5=10.\n",
    "Drugi przykład pokazuje, co się stanie, jeśli wywołamy funkcję tylko poprzez przekazanie tylko jednej wartości… tej, która nie miała wartości domyślnej. Działa to również poprzez dodanie „1” do dwóch domyślnych wartości „2” i „3”, aby uzyskać wynik „6”! Czy to nie fajne?\n",
    "W naszym trzecim przykładzie próbujemy wywołać naszą funkcję, używając samych argumentów słów kluczowych. W ten sposób otrzymamy mylący błąd. Traceback mówi, że nasza funkcja przyjmuje co najmniej jeden argument, ale podano dwa. Co tu się dzieje? Faktem jest, że pierwszy argument jest wymagany, ponieważ nie jest ustawiony na nic, więc jeśli wywołasz funkcję tylko z argumentami kluczowymi, spowoduje to błąd."
   ],
   "metadata": {
    "collapsed": false
   },
   "id": "e8c8cc929b691d87"
  },
  {
   "cell_type": "markdown",
   "source": [
    "**args and kwargs**\n",
    "Można także skonfigurować funkcje tak, aby akceptowały dowolną liczbę argumentów lub argumentów słów kluczowych, używając specjalnej składni. Aby uzyskać nieskończoną liczbę argumentów, użyj *args, a w przypadku nieskończonych argumentów słów kluczowych użyj **kwargs. Słowa „args” i „kwargs” nie są ważne. To tylko konwencja. Mogłeś ich nazwać *billem i **tedem i działałoby to w ten sam sposób. Kluczem jest tutaj liczba gwiazdek.\n",
    "\n",
    "*Uwaga: oprócz konwencji *args i **kwargs, od czasu do czasu zobaczysz także andkw.\n",
    "\n",
    "Przyjrzyjmy się szybkiemu przykładowi:"
   ],
   "metadata": {
    "collapsed": false
   },
   "id": "6c5305cdc44f0416"
  },
  {
   "cell_type": "code",
   "execution_count": null,
   "outputs": [],
   "source": [
    "def many(*args, **kwargs):\n",
    "    print(args)\n",
    "    print(kwargs)\n",
    "\n",
    "many(1, 2, 3, name=\"Mike\", job=\"programmer\")\n",
    "\n",
    "# (1, 2, 3)\n",
    "# {'job': 'programmer', 'name': 'Mike'}"
   ],
   "metadata": {
    "collapsed": false,
    "ExecuteTime": {
     "start_time": "2023-10-12T17:35:54.990013500Z"
    }
   },
   "id": "709e4d1f998703e2"
  },
  {
   "cell_type": "markdown",
   "source": [
    "Najpierw tworzymy naszą funkcję, używając nowej składni, a następnie wywołujemy ją z trzema zwykłymi argumentami i dwoma argumentami kluczowymi. Sama funkcja wydrukuje oba typy argumentów. Jak widać, parametr args zamienia się w krotkę, a kwargs w słownik. Ten typ kodowania zobaczysz w źródle Pythona i wielu pakietach Pythona innych firm."
   ],
   "metadata": {
    "collapsed": false
   },
   "id": "6f50bc00a025438a"
  },
  {
   "cell_type": "markdown",
   "source": [
    "**Zakres funkcji**\n",
    "Zakres funkcji oznacza stopień, w jakim zmienne i inne elementy danych utworzone wewnątrz funkcji są dostępne w kodzie.\n",
    "W Pythonie zakres funkcji jest treścią funkcji.\n",
    "Za każdym razem, gdy funkcja jest uruchamiana, program przesuwa się do zakresu funkcji. Po zakończeniu funkcji wraca do zakresu zewnętrznego.\n",
    "\n",
    "**Cykl życia danych**\n",
    "W Pythonie danych utworzonych wewnątrz funkcji nie można używać z zewnątrz, chyba że są zwracane z funkcji.\n",
    "Zmienne w funkcji są odizolowane od reszty programu. Po zakończeniu funkcji są one usuwane z pamięci i nie można ich odzyskać.\n",
    "Poniższy kod nigdy nie będzie działać:"
   ],
   "metadata": {
    "collapsed": false
   },
   "id": "a020d00555331965"
  },
  {
   "cell_type": "code",
   "execution_count": null,
   "outputs": [],
   "source": [
    "def func():\n",
    "    name = \"Stark\"\n",
    "\n",
    "\n",
    "func()\n",
    "print(name)  # ErrorName"
   ],
   "metadata": {
    "collapsed": false,
    "ExecuteTime": {
     "start_time": "2023-10-12T17:35:54.991010800Z"
    }
   },
   "id": "43aed932ada673dd"
  },
  {
   "cell_type": "markdown",
   "source": [
    "Jak widzimy, zmienna \"name\" nie istnieje w zakresie zewnętrznym i Python nas o tym informuje.\n",
    "Podobnie funkcja nie może uzyskać dostępu do danych poza swoim zakresem, chyba że dane zostały przekazane jako argument."
   ],
   "metadata": {
    "collapsed": false
   },
   "id": "9f43e5fffdb78880"
  },
  {
   "cell_type": "code",
   "execution_count": null,
   "outputs": [],
   "source": [
    "name = \"Ned\"\n",
    "\n",
    "\n",
    "def func():\n",
    "    name = \"Stark\"\n",
    "\n",
    "\n",
    "func()\n",
    "print(name)"
   ],
   "metadata": {
    "collapsed": false,
    "ExecuteTime": {
     "start_time": "2023-10-12T17:35:54.993005800Z"
    }
   },
   "id": "659bd7f6de1e7997"
  },
  {
   "cell_type": "markdown",
   "source": [
    "**Zmiana danych**\n",
    "Gdy do funkcji przekazywane są modyfikowalne dane, funkcja może je modyfikować lub zmieniać. Zmiany te będą obowiązywać także poza zakresem funkcji. Przykładem modyfikowalnych danych jest lista.\n",
    "W przypadku danych niezmiennych funkcja może je modyfikować, ale dane pozostaną niezmienione poza zakresem funkcji. Przykładami niezmiennych danych są liczby, ciągi znaków itp.\n",
    "Spróbujmy zmienić wartość liczby całkowitej wewnątrz funkcji"
   ],
   "metadata": {
    "collapsed": false
   },
   "id": "1ac7554a719e2ecf"
  },
  {
   "cell_type": "code",
   "execution_count": null,
   "outputs": [],
   "source": [
    "num = 20\n",
    "\n",
    "\n",
    "def multiply_by_10(n):\n",
    "    n *= 10\n",
    "    num = n\n",
    "    print(\"Value of num inside function:\", num)\n",
    "    return n\n",
    "\n",
    "\n",
    "multiply_by_10(num)\n",
    "print(\"Value of num outside function:\", num)"
   ],
   "metadata": {
    "collapsed": false,
    "ExecuteTime": {
     "start_time": "2023-10-12T17:35:54.994006Z"
    }
   },
   "id": "bea8a6108671ea68"
  },
  {
   "cell_type": "markdown",
   "source": [
    "Zatem potwierdzono, że działanie funkcji nie ma wpływu na obiekty niezmienne. Jeśli naprawdę potrzebujemy zaktualizować niezmienne zmienne za pomocą funkcji, możemy po prostu przypisać wartość zwracaną z funkcji do zmiennej.\n",
    "Teraz spróbujemy zaktualizować obiekt zmienny za pomocą funkcji:"
   ],
   "metadata": {
    "collapsed": false
   },
   "id": "579e7d1a7bbf7f01"
  },
  {
   "cell_type": "code",
   "execution_count": null,
   "outputs": [],
   "source": [
    "num_list = [10, 20, 30, 40]\n",
    "print(num_list)\n",
    "\n",
    "\n",
    "def multiply_by_10(my_list):\n",
    "    my_list[0] *= 10\n",
    "    my_list[1] *= 10\n",
    "    my_list[2] *= 10\n",
    "    my_list[3] *= 10\n",
    "\n",
    "\n",
    "multiply_by_10(num_list)\n",
    "print(num_list)"
   ],
   "metadata": {
    "collapsed": false,
    "ExecuteTime": {
     "start_time": "2023-10-12T17:35:54.995001100Z"
    }
   },
   "id": "393aa9c137853e11"
  },
  {
   "cell_type": "markdown",
   "source": [
    "Przekazaliśmy num_list do naszej funkcji jako parametr my_list. Teraz wszelkie zmiany wprowadzone w my_list zostaną odzwierciedlone w num_list poza funkcją. Nie miałoby to miejsca w przypadku zmiennej niezmiennej."
   ],
   "metadata": {
    "collapsed": false
   },
   "id": "17279e79799965ed"
  },
  {
   "cell_type": "markdown",
   "source": [
    "**Wbudowane funkcje ciągów**\n",
    "Python może poszczycić się ogromną biblioteką wbudowanych funkcji.\n",
    "\n",
    "**Strings**\n",
    "Funkcje będące właściwościami konkretnego obiektu nazywane są metodami. Dostęp do tych metod można uzyskać za pomocą metody . operator. Z typem danych string jest powiązanych kilka metod. Przyjrzyjmy się niektórym z nich.\n",
    "\n",
    "**Szukanie**\n",
    "Alternatywą dla znalezienia podciągu za pomocą słowa kluczowego in jest metoda find(). Zwraca pierwszy indeks, przy którym w ciągu znaków występuje podciąg. Jeżeli nie zostanie znalezione żadne wystąpienie podłańcucha, metoda zwraca -1.\n",
    "-1 to konwencjonalna wartość reprezentująca brak lub niepowodzenie w przypadku, gdy wynik miał być dodatni."
   ],
   "metadata": {
    "collapsed": false
   },
   "id": "ef3584998021c7b1"
  },
  {
   "cell_type": "code",
   "execution_count": 17,
   "outputs": [
    {
     "name": "stdout",
     "output_type": "stream",
     "text": [
      "2\n",
      "-1\n"
     ]
    }
   ],
   "source": [
    "random_string = \"This is a string\"\n",
    "print(random_string.find(\"is\"))\n",
    "print(random_string.find(\"is\", 9, 13))"
   ],
   "metadata": {
    "collapsed": false,
    "ExecuteTime": {
     "end_time": "2023-10-12T17:35:55.183062800Z",
     "start_time": "2023-10-12T17:35:54.999005700Z"
    }
   },
   "id": "b61d0a06e23faa18"
  },
  {
   "cell_type": "markdown",
   "source": [
    "**Replace**\n",
    "Metodę replace() można zastosować do zastąpienia części ciągu znaków innym ciągiem."
   ],
   "metadata": {
    "collapsed": false
   },
   "id": "6afc2b4f7d96e2d2"
  },
  {
   "cell_type": "code",
   "execution_count": 38,
   "outputs": [
    {
     "name": "stdout",
     "output_type": "stream",
     "text": [
      "Welcome!\n",
      "Welcome!\n"
     ]
    }
   ],
   "source": [
    "a_string = \"Welcome!\"\n",
    "new_string = a_string.replace(\"Welcome to\", \"Greetings from\")\n",
    "print(a_string)\n",
    "print(new_string)"
   ],
   "metadata": {
    "collapsed": false,
    "ExecuteTime": {
     "end_time": "2023-10-12T18:26:20.131176200Z",
     "start_time": "2023-10-12T18:26:20.093174400Z"
    }
   },
   "id": "60359402f167c543"
  },
  {
   "cell_type": "markdown",
   "source": [
    "**Zmiana wielkości liter**\n",
    "W Pythonie wielkość liter w ciągu można łatwo zmienić za pomocą metod upper() i lower()."
   ],
   "metadata": {
    "collapsed": false
   },
   "id": "583a314ae5a4ff7a"
  },
  {
   "cell_type": "code",
   "execution_count": 19,
   "outputs": [
    {
     "name": "stdout",
     "output_type": "stream",
     "text": [
      "UPPERCASE\n",
      "lowercase\n"
     ]
    }
   ],
   "source": [
    "print(\"UpperCase\".upper())\n",
    "print(\"LowerCase\".lower())"
   ],
   "metadata": {
    "collapsed": false,
    "ExecuteTime": {
     "end_time": "2023-10-12T17:35:55.187052Z",
     "start_time": "2023-10-12T17:35:55.012117500Z"
    }
   },
   "id": "3bc9dec6429eb748"
  },
  {
   "cell_type": "markdown",
   "source": [
    "**Łączenie ciągów**\n",
    "Za pomocą metody join() można łączyć wiele ciągów znaków."
   ],
   "metadata": {
    "collapsed": false
   },
   "id": "fc5e26dc33ea6670"
  },
  {
   "cell_type": "code",
   "execution_count": 20,
   "outputs": [
    {
     "name": "stdout",
     "output_type": "stream",
     "text": [
      "a>>b>>c\n",
      "a<<b<<c\n",
      "a, b, c\n"
     ]
    }
   ],
   "source": [
    "llist = ['a', 'b', 'c']\n",
    "print('>>'.join(llist)) \n",
    "print('<<'.join(llist)) \n",
    "print(', '.join(llist)) "
   ],
   "metadata": {
    "collapsed": false,
    "ExecuteTime": {
     "end_time": "2023-10-12T17:35:55.198022600Z",
     "start_time": "2023-10-12T17:35:55.017973700Z"
    }
   },
   "id": "8ceeda8832b8cd74"
  },
  {
   "cell_type": "markdown",
   "source": [
    "**Formatowanie**\n",
    "Metodę format() można wykorzystać do sformatowania określonych wartości i wstawienia ich w symbolach zastępczych ciągu znaków."
   ],
   "metadata": {
    "collapsed": false
   },
   "id": "fc135b7ec6c339cf"
  },
  {
   "cell_type": "code",
   "execution_count": 21,
   "outputs": [
    {
     "name": "stdout",
     "output_type": "stream",
     "text": [
      "Learn Python 3 at Educative\n",
      "Learn Python 3 at Educative\n",
      "Learn Python 3 at Educative\n"
     ]
    }
   ],
   "source": [
    "string1 = \"Learn Python {version} at {cname}\".format(version = 3, cname = \"Educative\")\n",
    "string2 = \"Learn Python {0} at {1}\".format(3, \"Educative\")\n",
    "string3 = \"Learn Python {} at {}\".format(3, \"Educative\")\n",
    "\n",
    "print(string1)\n",
    "print(string2)\n",
    "print(string3)"
   ],
   "metadata": {
    "collapsed": false,
    "ExecuteTime": {
     "end_time": "2023-10-12T17:35:55.222956200Z",
     "start_time": "2023-10-12T17:35:55.023426700Z"
    }
   },
   "id": "d0060e451bcfce04"
  },
  {
   "cell_type": "markdown",
   "source": [
    "**Konwersje typu**\n",
    "Może się zdarzyć, że będziemy musieli zmienić dane z jednego typu na inny. W Pythonie jest to zwykle łatwy proces, ponieważ kompilator może automatycznie konwertować dane pomiędzy różnymi typami, aby uniknąć błędów.\n",
    "Istnieją jednak wbudowane funkcje, które pozwalają nam wykonywać jawne konwersje typów.\n",
    "\n",
    "**int()**\n",
    "Aby zamienić dane na liczbę całkowitą, możemy skorzystać z narzędzia int().\n",
    "Należy pamiętać, że ciąg znaków można przekonwertować na liczbę całkowitą tylko wtedy, gdy składa się z liczb."
   ],
   "metadata": {
    "collapsed": false
   },
   "id": "f822725f0fa35617"
  },
  {
   "cell_type": "code",
   "execution_count": 23,
   "outputs": [
    {
     "name": "stdout",
     "output_type": "stream",
     "text": [
      "120\n",
      "20\n",
      "0\n"
     ]
    }
   ],
   "source": [
    "print(int(\"12\") * 10)\n",
    "print(int(20.5))\n",
    "print(int(False))\n",
    "\n",
    "# print (int(\"Hello\")) # ValueError"
   ],
   "metadata": {
    "collapsed": false,
    "ExecuteTime": {
     "end_time": "2023-10-12T17:37:44.361725200Z",
     "start_time": "2023-10-12T17:37:44.347065100Z"
    }
   },
   "id": "4a045f5b9dc7e5f"
  },
  {
   "cell_type": "markdown",
   "source": [
    "**ord()**\n",
    "Tej funkcji można użyć do konwersji znaku na jego wartość Unicode:"
   ],
   "metadata": {
    "collapsed": false
   },
   "id": "b52a0840254dba1c"
  },
  {
   "cell_type": "code",
   "execution_count": 24,
   "outputs": [
    {
     "name": "stdout",
     "output_type": "stream",
     "text": [
      "97\n",
      "48\n"
     ]
    }
   ],
   "source": [
    "print(ord('a'))\n",
    "print(ord('0'))"
   ],
   "metadata": {
    "collapsed": false,
    "ExecuteTime": {
     "end_time": "2023-10-12T17:38:23.527684200Z",
     "start_time": "2023-10-12T17:38:23.500248100Z"
    }
   },
   "id": "ed19295e60975d5"
  },
  {
   "cell_type": "markdown",
   "source": [
    "**float()**\n",
    "Funkcja float() przekształca dane na liczbę zmiennoprzecinkową:"
   ],
   "metadata": {
    "collapsed": false
   },
   "id": "c653c7411cb93555"
  },
  {
   "cell_type": "code",
   "execution_count": 25,
   "outputs": [
    {
     "name": "stdout",
     "output_type": "stream",
     "text": [
      "24.0\n",
      "24.5\n",
      "1.0\n"
     ]
    }
   ],
   "source": [
    "print(float(24))\n",
    "print(float('24.5'))\n",
    "print(float(True))"
   ],
   "metadata": {
    "collapsed": false,
    "ExecuteTime": {
     "end_time": "2023-10-12T17:38:59.770319100Z",
     "start_time": "2023-10-12T17:38:59.740840800Z"
    }
   },
   "id": "a076727ba072ba13"
  },
  {
   "cell_type": "markdown",
   "source": [
    "**str()**\n",
    "Aby przekonwertować dane na ciąg znaków, musimy użyć str():"
   ],
   "metadata": {
    "collapsed": false
   },
   "id": "d8b7ac57db4b980"
  },
  {
   "cell_type": "code",
   "execution_count": 26,
   "outputs": [
    {
     "name": "stdout",
     "output_type": "stream",
     "text": [
      "12.345\n",
      "False\n",
      "12.345 is a string\n"
     ]
    }
   ],
   "source": [
    "print(str(12) + '.345')\n",
    "print(str(False))\n",
    "print(str(12.345) + ' is a string')"
   ],
   "metadata": {
    "collapsed": false,
    "ExecuteTime": {
     "end_time": "2023-10-12T17:39:24.119949500Z",
     "start_time": "2023-10-12T17:39:24.090837900Z"
    }
   },
   "id": "6832d89737ebe220"
  },
  {
   "cell_type": "markdown",
   "source": [
    "**bool()**\n",
    "Ta funkcja pobiera dane i podaje nam odpowiednią wartość logiczną.\n",
    "Ciągi są zawsze konwertowane na True, chyba że ciąg jest pusty. Zmienne zmiennoprzecinkowe i liczby całkowite o wartości zero są uważane za fałszywe w kategoriach logicznych:"
   ],
   "metadata": {
    "collapsed": false
   },
   "id": "1d2f9951b7f738ad"
  },
  {
   "cell_type": "code",
   "execution_count": 27,
   "outputs": [
    {
     "name": "stdout",
     "output_type": "stream",
     "text": [
      "True\n",
      "False\n",
      "True\n",
      "False\n"
     ]
    }
   ],
   "source": [
    "print(bool(10))\n",
    "print(bool(0.0))\n",
    "print(bool(\"Hello\"))\n",
    "print(bool(\"\"))"
   ],
   "metadata": {
    "collapsed": false,
    "ExecuteTime": {
     "end_time": "2023-10-12T17:39:58.685310500Z",
     "start_time": "2023-10-12T17:39:58.653902300Z"
    }
   },
   "id": "1c360bad8fb1ff41"
  },
  {
   "cell_type": "markdown",
   "source": [
    "**Dane wejściowe od użytkownika**\n",
    "Funkcja wejścia().\n",
    "W Pythonie funkcja input() służy do pobierania danych wejściowych od użytkownika.\n",
    "Dane wejściowe są automatycznie konwertowane na ciąg. Jeśli wpiszesz liczbę, zostanie ona również przekonwertowana na ciąg znaków."
   ],
   "metadata": {
    "collapsed": false
   },
   "id": "6c5b25068a09ecb2"
  },
  {
   "cell_type": "code",
   "execution_count": 28,
   "outputs": [
    {
     "name": "stdout",
     "output_type": "stream",
     "text": [
      "\n",
      "Hello, Michał\n"
     ]
    }
   ],
   "source": [
    "name = input(\"What is your name? \")\n",
    "print(\"\\nHello,\", name)"
   ],
   "metadata": {
    "collapsed": false,
    "ExecuteTime": {
     "end_time": "2023-10-12T17:41:13.088611200Z",
     "start_time": "2023-10-12T17:41:10.669672900Z"
    }
   },
   "id": "49101a7af467a921"
  },
  {
   "cell_type": "markdown",
   "source": [
    "**Lambdy**\n",
    "Podczas tworzenia funkcji musimy określić jej nazwę. Istnieje jednak specjalna klasa funkcji, dla której nie musimy podawać nazw funkcji.\n",
    "\n",
    "Lambda to anonimowa funkcja zwracająca jakąś formę danych.\n",
    "Lambdy definiuje się za pomocą słowa kluczowego lambda. Ponieważ zwracają dane, dobrą praktyką jest przypisanie ich do zmiennej.\n",
    "\n",
    "**Składnia**\n",
    "Do tworzenia lambd używana jest następująca składnia:\n",
    "![](img/03_lambda.PNG)\n",
    "W powyższej strukturze parametry są opcjonalne."
   ],
   "metadata": {
    "collapsed": false
   },
   "id": "cd6879e77bba181b"
  },
  {
   "cell_type": "code",
   "execution_count": 29,
   "outputs": [
    {
     "name": "stdout",
     "output_type": "stream",
     "text": [
      "30\n"
     ]
    }
   ],
   "source": [
    "triple = lambda num : num * 3\n",
    "\n",
    "print(triple(10))"
   ],
   "metadata": {
    "collapsed": false,
    "ExecuteTime": {
     "end_time": "2023-10-12T17:45:09.951092500Z",
     "start_time": "2023-10-12T17:45:09.921172200Z"
    }
   },
   "id": "abea1d75517023c"
  },
  {
   "cell_type": "code",
   "execution_count": 30,
   "outputs": [
    {
     "name": "stdout",
     "output_type": "stream",
     "text": [
      "WWW\n"
     ]
    }
   ],
   "source": [
    "concat_strings = lambda a, b, c: a[0] + b[0] + c[0]\n",
    "\n",
    "print(concat_strings(\"World\", \"Wide\", \"Web\"))"
   ],
   "metadata": {
    "collapsed": false,
    "ExecuteTime": {
     "end_time": "2023-10-12T17:45:22.118677500Z",
     "start_time": "2023-10-12T17:45:22.087301900Z"
    }
   },
   "id": "9fcad628fae5d021"
  },
  {
   "cell_type": "markdown",
   "source": [
    "Jak widzimy, lambdy są prostsze i bardziej czytelne niż zwykłe funkcje. Ale ta prostota ma swoje ograniczenia.\n",
    "Lambda nie może mieć wyrażenia wielowierszowego. Oznacza to, że nasze wyrażenie musi być czymś, co można zapisać w jednym wierszu.\n",
    "Dlatego lambdy doskonale nadają się do krótkich, jednoliniowych funkcji."
   ],
   "metadata": {
    "collapsed": false
   },
   "id": "a2eea922df119b56"
  },
  {
   "cell_type": "code",
   "execution_count": 31,
   "outputs": [
    {
     "name": "stdout",
     "output_type": "stream",
     "text": [
      "High\n"
     ]
    }
   ],
   "source": [
    "my_func = lambda num: \"High\" if num > 50 else \"Low\"\n",
    "\n",
    "print(my_func(60))"
   ],
   "metadata": {
    "collapsed": false,
    "ExecuteTime": {
     "end_time": "2023-10-12T17:46:01.217659200Z",
     "start_time": "2023-10-12T17:46:01.185445100Z"
    }
   },
   "id": "1cd3289b5efcefdf"
  },
  {
   "cell_type": "markdown",
   "source": [
    "**Cel lambd**\n",
    "Jaki jest więc sens posiadania lambd w pobliżu? Nadal przypisujemy je do zmiennych, więc mają nazwy.\n",
    "Można je pisać in-line, ale nie jest to wielka zaleta.\n",
    "Cóż, lambdy są naprawdę przydatne, gdy funkcja wymaga innej funkcji jako argumentu"
   ],
   "metadata": {
    "collapsed": false
   },
   "id": "630a63601ca36290"
  },
  {
   "cell_type": "markdown",
   "source": [
    "**Funkcje jako argumenty**\n",
    "W Pythonie jedna funkcja może stać się argumentem innej funkcji. Jest to przydatne w wielu przypadkach.\n",
    "Stwórzmy funkcję kalkulatora, która wymaga funkcji dodawania, odejmowania, mnożenia lub dzielenia wraz z dwiema liczbami jako argumentami.\n",
    "W tym celu będziemy musieli również zdefiniować cztery funkcje arytmetyczne."
   ],
   "metadata": {
    "collapsed": false
   },
   "id": "1bb45695c036a1b"
  },
  {
   "cell_type": "code",
   "execution_count": 32,
   "outputs": [
    {
     "name": "stdout",
     "output_type": "stream",
     "text": [
      "200\n",
      "30\n"
     ]
    }
   ],
   "source": [
    "def add(n1, n2):\n",
    "    return n1 + n2\n",
    "\n",
    "\n",
    "def subtract(n1, n2):\n",
    "    return n1 - n2\n",
    "\n",
    "\n",
    "def multiply(n1, n2):\n",
    "    return n1 * n2\n",
    "\n",
    "\n",
    "def divide(n1, n2):\n",
    "    return n1 / n2\n",
    "\n",
    "\n",
    "def calculator(operation, n1, n2):\n",
    "    return operation(n1, n2) \n",
    "\n",
    "\n",
    "result = calculator(multiply, 10, 20)\n",
    "print(result)\n",
    "print(calculator(add, 10, 20))"
   ],
   "metadata": {
    "collapsed": false,
    "ExecuteTime": {
     "end_time": "2023-10-12T17:47:48.649752600Z",
     "start_time": "2023-10-12T17:47:48.602447600Z"
    }
   },
   "id": "781733e40fc794e4"
  },
  {
   "cell_type": "markdown",
   "source": [
    "Python automatycznie rozumie, że argument mnożenia w linii 21. jest funkcją, więc wszystko działa idealnie.\n",
    "\n",
    "**Korzystanie z lambd**\n",
    "W przypadku metody kalkulatora musieliśmy napisać cztery dodatkowe funkcje, których można było użyć jako argumentu. Może to być dość kłopotliwe.\n",
    "Dlaczego po prostu nie przekażemy lambdy jako argumentu? Cztery operacje są dość proste, więc można je zapisać jako lambdy."
   ],
   "metadata": {
    "collapsed": false
   },
   "id": "48cc06f2bcc5b29b"
  },
  {
   "cell_type": "code",
   "execution_count": 33,
   "outputs": [
    {
     "name": "stdout",
     "output_type": "stream",
     "text": [
      "200\n",
      "30\n"
     ]
    }
   ],
   "source": [
    "def calculator(operation, n1, n2):\n",
    "    return operation(n1, n2) \n",
    "\n",
    "\n",
    "# 10 i 20 to argumenty.\n",
    "result = calculator(lambda n1, n2: n1 * n2, 10, 20)\n",
    "# Lambda mnoży te wartości.\n",
    "print(result)\n",
    "\n",
    "print(calculator(lambda n1, n2: n1 + n2, 10, 20))"
   ],
   "metadata": {
    "collapsed": false,
    "ExecuteTime": {
     "end_time": "2023-10-12T17:49:38.085378800Z",
     "start_time": "2023-10-12T17:49:38.035566Z"
    }
   },
   "id": "8e037a38405628ac"
  },
  {
   "cell_type": "markdown",
   "source": [
    "Kod wygląda teraz znacznie krócej! Operację możemy definiować na bieżąco, kiedy tylko chcemy.\n",
    "Na tym polega piękno lambd. Świetnie sprawdzają się jako argumenty innych funkcji."
   ],
   "metadata": {
    "collapsed": false
   },
   "id": "e8e83fcc30a3396e"
  },
  {
   "cell_type": "markdown",
   "source": [
    "**Więcej przykładów**\n",
    "Wbudowana funkcja map() tworzy obiekt mapy, używając istniejącej listy i funkcji jako jej parametrów. Obiekt ten można przekształcić w listę za pomocą funkcji list().\n",
    "Funkcja zostanie zastosowana, czyli zmapowana, do wszystkich elementów listy.\n",
    "Poniżej użyjemy funkcji map() do podwojenia wartości istniejącej listy:"
   ],
   "metadata": {
    "collapsed": false
   },
   "id": "98bc59b28c494340"
  },
  {
   "cell_type": "code",
   "execution_count": 34,
   "outputs": [
    {
     "name": "stdout",
     "output_type": "stream",
     "text": [
      "[0, 2, 4, 6, 8, 10]\n"
     ]
    }
   ],
   "source": [
    "num_list = [0, 1, 2, 3, 4, 5]\n",
    "\n",
    "double_list = map(lambda n: n * 2, num_list)\n",
    "\n",
    "print(list(double_list))"
   ],
   "metadata": {
    "collapsed": false,
    "ExecuteTime": {
     "end_time": "2023-10-12T17:51:07.261394200Z",
     "start_time": "2023-10-12T17:51:07.228126800Z"
    }
   },
   "id": "b14b38dca7811de"
  },
  {
   "cell_type": "markdown",
   "source": [
    "Spowoduje to utworzenie nowej listy. Oryginalna lista pozostaje niezmieniona.\n",
    "Mogliśmy stworzyć funkcję podwajającą liczbę i używać jej jako argumentu w map(), ale lambda upraszczała sprawę.\n",
    "\n",
    "Innym podobnym przykładem jest funkcja filter(). Wymaga funkcji i listy.\n",
    "filter() filtruje elementy z listy, jeśli spełniają one warunek określony w funkcji argumentu.\n",
    "Napiszmy funkcję filter(), która filtruje wszystkie elementy większe niż 10:"
   ],
   "metadata": {
    "collapsed": false
   },
   "id": "7914189e1906dade"
  },
  {
   "cell_type": "code",
   "execution_count": 35,
   "outputs": [
    {
     "name": "stdout",
     "output_type": "stream",
     "text": [
      "[30, 17, 100]\n"
     ]
    }
   ],
   "source": [
    "numList = [30, 2, -15, 17, 9, 100]\n",
    "\n",
    "greater_than_10 = list(filter(lambda n: n > 10, numList))\n",
    "print(greater_than_10)"
   ],
   "metadata": {
    "collapsed": false,
    "ExecuteTime": {
     "end_time": "2023-10-12T17:51:58.591472600Z",
     "start_time": "2023-10-12T17:51:58.556733100Z"
    }
   },
   "id": "4f2bd25008c5a096"
  },
  {
   "cell_type": "markdown",
   "source": [
    "Funkcja zwraca obiekt filtru, który można przekonwertować na listę za pomocą list().\n",
    "Podobnie jak map(), filter() zwraca nowy obiekt bez zmiany oryginalnej listy."
   ],
   "metadata": {
    "collapsed": false
   },
   "id": "5e374257b9abd90a"
  },
  {
   "cell_type": "markdown",
   "source": [
    "**Rekurencja**\n",
    "**Definicja**\n",
    "Rekurencja to proces, w którym funkcja wywołuje samą siebie podczas jej wykonywania. Każde wywołanie rekurencyjne przenosi program o jeden zakres głębiej w funkcję.\n",
    "Wywołania rekurencyjne zatrzymują się w przypadku podstawowym. Przypadek podstawowy jest sprawdzeniem używanym do wskazania, że nie powinno być dalszej rekurencji.\n",
    "Wyobraź sobie wywołania rekurencyjne jako zagnieżdżone pola, w których każde pole reprezentuje wywołanie funkcji. Każde wywołanie tworzy nowe pudełko. Po osiągnięciu przypadku podstawowego zaczynamy po kolei wychodzić z pudełek."
   ],
   "metadata": {
    "collapsed": false
   },
   "id": "b9776af6afadbb04"
  },
  {
   "cell_type": "code",
   "execution_count": 36,
   "outputs": [
    {
     "name": "stdout",
     "output_type": "stream",
     "text": [
      "5\n",
      "4\n",
      "3\n",
      "2\n",
      "1\n",
      "0\n",
      "1\n",
      "2\n",
      "3\n",
      "4\n",
      "5\n"
     ]
    }
   ],
   "source": [
    "def rec_count(number):\n",
    "    print(number)\n",
    "    # Przypadek podstawowy\n",
    "    if number == 0:\n",
    "        return 0\n",
    "    rec_count(number - 1)  # Wywołanie funkcji\n",
    "    print(number)\n",
    "\n",
    "\n",
    "rec_count(5)"
   ],
   "metadata": {
    "collapsed": false,
    "ExecuteTime": {
     "end_time": "2023-10-12T17:54:13.913462800Z",
     "start_time": "2023-10-12T17:54:13.860663600Z"
    }
   },
   "id": "b3b5d601448c9c18"
  },
  {
   "cell_type": "markdown",
   "source": [
    "Jest to dość łatwe do zrozumienia. W każdym wywołaniu drukowana jest wartość zmiennej liczbowej. Następnie sprawdzamy, czy spełniony został przypadek podstawowy. Jeśli nie, wykonujemy rekurencyjne wywołanie funkcji ze zmniejszoną bieżącą wartością.\n",
    "Należy zauważyć, że wywołanie zewnętrzne nie może przejść do przodu, dopóki nie zakończą się wszystkie wewnętrzne wywołania rekurencyjne. Dlatego otrzymujemy sekwencję od 5 do 0 do 5.\n",
    "\n",
    "**Dlaczego warto używać rekurencji?**\n",
    "Rekurencja to koncepcja, która dla wielu jest początkowo trudna do zrozumienia, ma jednak swoje zalety. Na początek może znacznie skrócić czas działania niektórych algorytmów, co sprawia, że kod jest bardziej wydajny.\n",
    "Rekurencja pozwala nam także łatwo rozwiązać wiele problemów związanych z grafami i drzewami. Ma to również znaczenie w algorytmach wyszukiwania.\n",
    "Musimy jednak zachować ostrożność podczas stosowania rekurencji. Jeśli nie określimy odpowiedniego przypadku bazowego lub nie zaktualizujemy naszych argumentów podczas wykonywania rekurencji, program osiągnie nieskończoną rekurencję i ulegnie awarii. Argumenty przekazywane do naszej funkcji rekurencyjnej są aktualizowane przy każdym wywołaniu rekurencyjnym, dzięki czemu ostatecznie można osiągnąć przypadek podstawowy.\n",
    "\n",
    "**Złożony przykład**\n",
    "Ciąg Fibonacciego to popularna w matematyce seria liczb, w której każda liczba jest sumą dwóch poprzedzających ją liczb. Pierwsze dwa wyrazy szeregu to 0 i 1:\n",
    "```\n",
    "0 1 1 2 3 5 8 13\n",
    "```\n",
    "Napiszmy funkcję, która pobiera liczbę n i zwraca n-tą liczbę w ciągu Fibonacciego. Należy zauważyć, że w poniższym przykładzie wszystkie dane wejściowe mniejsze niż 1 będziemy traktować jako nieprawidłowe i dlatego wprowadzanie danych rozpocznie się od 1. Zatem jeśli n == 6, funkcja zwróci 5:"
   ],
   "metadata": {
    "collapsed": false
   },
   "id": "9fc1de9a2e841c11"
  },
  {
   "cell_type": "code",
   "execution_count": 37,
   "outputs": [
    {
     "name": "stdout",
     "output_type": "stream",
     "text": [
      "5\n"
     ]
    }
   ],
   "source": [
    "def fib(n):\n",
    "    # Przypadek podstawowy\n",
    "    if n <= 1:  # Pierwsza wartość w sekwencji\n",
    "        return 0\n",
    "    elif n == 2:  # Druga wartość w sekwencji\n",
    "        return 1\n",
    "    else:\n",
    "        # Rekursywa\n",
    "        return fib(n - 1) + fib(n - 2)\n",
    "\n",
    "\n",
    "print(fib(6))"
   ],
   "metadata": {
    "collapsed": false,
    "ExecuteTime": {
     "end_time": "2023-10-12T18:23:14.444284200Z",
     "start_time": "2023-10-12T18:23:14.401387100Z"
    }
   },
   "id": "4bacdc3077431b1a"
  },
  {
   "cell_type": "markdown",
   "source": [
    "Najpierw zajmujemy się naszymi przypadkami podstawowymi. Wiemy, że pierwsze dwie wartości to zawsze 0 i 1, więc w tym miejscu możemy zatrzymać nasze wywołania rekurencyjne.\n",
    "Jeśli n jest większe niż 2, będzie to suma dwóch poprzedzających go wartości."
   ],
   "metadata": {
    "collapsed": false
   },
   "id": "307c5c6fc14e4492"
  },
  {
   "cell_type": "markdown",
   "source": [
    "**Ćwiczenie: Powtórzenia i łączenie**\n",
    "W tym ćwiczeniu musisz zaimplementować funkcję rep_cat. Jako argumenty podano dwie liczby całkowite, x i y. Musisz je przekonwertować na ciągi znaków. Wartość ciągu x musi zostać powtórzona 10 razy, a wartość ciągu y musi zostać powtórzona 5 razy.\n",
    "Na koniec y zostanie połączone z x, a powstały ciąg znaków musi zostać zwrócony."
   ],
   "metadata": {
    "collapsed": false
   },
   "id": "a40a2b848423991a"
  },
  {
   "cell_type": "code",
   "execution_count": 40,
   "outputs": [
    {
     "name": "stdout",
     "output_type": "stream",
     "text": [
      "333333333344444\n"
     ]
    }
   ],
   "source": [
    "def rep_cat(x, y):\n",
    "    return str(x)*10 + str(y)*5\n",
    "\n",
    "print(rep_cat(3, 4))"
   ],
   "metadata": {
    "collapsed": false,
    "ExecuteTime": {
     "end_time": "2023-10-12T18:28:34.546206600Z",
     "start_time": "2023-10-12T18:28:34.539052700Z"
    }
   },
   "id": "60f084a8356ce8d8"
  },
  {
   "cell_type": "markdown",
   "source": [
    "Aby zamienić liczby całkowite na ciągi znaków, możemy użyć metody str().\n",
    "Operator * doskonale nadaje się do replikowania wartości ciągu określoną liczbę razy.\n",
    "Dwa ciągi można łatwo połączyć za pomocą operatora +.\n",
    "Na koniec wszystko to jest zwracane z funkcji za pomocą instrukcji return."
   ],
   "metadata": {
    "collapsed": false
   },
   "id": "bb159d3fd21dc00c"
  },
  {
   "cell_type": "markdown",
   "source": [
    "**Ćwiczenie: Silnia**\n",
    "W tym wyzwaniu musisz zaimplementować funkcję factorial(). Przyjmuje liczbę całkowitą jako parametr i oblicza jej silnię. Python ma wbudowaną funkcję silni, ale dla praktyki będziesz tworzyć własną.\n",
    "Silnia liczby n jest jej iloczynem ze wszystkimi liczbami całkowitymi z zakresu od 0 do n.\n",
    "Dane wejściowe zawsze będą liczbą całkowitą, więc nie musisz się tym martwić. Jeśli liczba całkowita jest ujemna, funkcja zawsze zwraca -1."
   ],
   "metadata": {
    "collapsed": false
   },
   "id": "ac1fa0c0f9c12e99"
  },
  {
   "cell_type": "code",
   "execution_count": 44,
   "outputs": [
    {
     "name": "stdout",
     "output_type": "stream",
     "text": [
      "24\n"
     ]
    }
   ],
   "source": [
    "def factorial(n):\n",
    "    if n < 0:\n",
    "        return -1\n",
    "    if n == 0 or n == 1:\n",
    "        return 1\n",
    "    return n * factorial(n - 1)\n",
    "\n",
    "\n",
    "print(factorial(4))"
   ],
   "metadata": {
    "collapsed": false,
    "ExecuteTime": {
     "end_time": "2023-10-12T18:36:46.068238900Z",
     "start_time": "2023-10-12T18:36:46.061613800Z"
    }
   },
   "id": "445a33cbb63b2919"
  },
  {
   "cell_type": "markdown",
   "source": [
    "Problem ten można łatwo rozwiązać za pomocą rekurencji. Przypadek podstawowy ma miejsce, gdy n wynosi 1 lub 0, ponieważ jest to minimum, jakie możemy osiągnąć. W obu przypadkach zwracamy 1, ponieważ jest to silnia obu tych wartości.\n",
    "Poza tym jedynym szczególnym przypadkiem jest sytuacja, gdy n jest ujemne. Można to obsłużyć za pomocą prostej instrukcji if.\n",
    "Ostatnim i najważniejszym krokiem jest wywołanie rekurencyjne. Każde wywołanie zwraca iloczyn z powrotem do poprzedniego wywołania, gdzie iloczyn jest mnożony przez bieżącą wartość n w tym konkretnym wywołaniu."
   ],
   "metadata": {
    "collapsed": false
   },
   "id": "450169b2d50f933f"
  },
  {
   "cell_type": "markdown",
   "source": [
    "**Zakres w Pythonie**\n",
    "O pojęciu zakres słyszałeś już na początku zajęć z informatyki. Jest to dość ważny temat, który może powodować dość mylące błędy, jeśli nie rozumiemy, jak to działa. Zakres informuje interpreter, kiedy nazwa (lub zmienna) jest widoczna. Innymi słowy, zakres określa, kiedy i gdzie możemy używać naszych zmiennych, funkcji itp. Kiedy próbujemy użyć czegoś, co nie mieści się w naszym obecnym zakresie, zwykle otrzymamy błąd NameError.\n",
    "Python ma trzy różne typy zasięgu:\n",
    "- zasięg lokalny\n",
    "- zakres globalny\n",
    "- zasięg nielokalny (który został dodany w Pythonie 3)"
   ],
   "metadata": {
    "collapsed": false
   },
   "id": "50129f4ed5a16350"
  },
  {
   "cell_type": "markdown",
   "source": [
    "**Zakres lokalny**\n",
    "Zasięg lokalny to zakres, z którego będziemy najczęściej korzystać w Pythonie. Kiedy utworzymy zmienną w bloku kodu, zostanie ona rozwiązana przy użyciu najbliższego obejmującego zakresu lub zakresów. Grupowanie wszystkich tych zakresów jest znane jako środowisko bloków kodu. Innymi słowy, wszystkie przypisania są domyślnie wykonywane w zakresie lokalnym. Jeśli chcemy czegoś innego, musisz ustawić zmienną na globalną lub nielokalną, co omówimy w dalszej części tego rozdziału."
   ],
   "metadata": {
    "collapsed": false
   },
   "id": "7b387d2fd10ef824"
  },
  {
   "cell_type": "code",
   "execution_count": 45,
   "outputs": [
    {
     "name": "stdout",
     "output_type": "stream",
     "text": [
      "10\n"
     ]
    },
    {
     "ename": "NameError",
     "evalue": "name 'z' is not defined",
     "output_type": "error",
     "traceback": [
      "\u001B[1;31m---------------------------------------------------------------------------\u001B[0m",
      "\u001B[1;31mNameError\u001B[0m                                 Traceback (most recent call last)",
      "Cell \u001B[1;32mIn[45], line 7\u001B[0m\n\u001B[0;32m      3\u001B[0m     \u001B[38;5;28mprint\u001B[39m(x)\n\u001B[0;32m      4\u001B[0m     \u001B[38;5;28mprint\u001B[39m(z)\n\u001B[1;32m----> 7\u001B[0m my_func(\u001B[38;5;241m1\u001B[39m, \u001B[38;5;241m2\u001B[39m)\n",
      "Cell \u001B[1;32mIn[45], line 4\u001B[0m, in \u001B[0;36mmy_func\u001B[1;34m(a, b)\u001B[0m\n\u001B[0;32m      2\u001B[0m \u001B[38;5;28;01mdef\u001B[39;00m \u001B[38;5;21mmy_func\u001B[39m(a, b):\n\u001B[0;32m      3\u001B[0m     \u001B[38;5;28mprint\u001B[39m(x)\n\u001B[1;32m----> 4\u001B[0m     \u001B[38;5;28mprint\u001B[39m(z)\n",
      "\u001B[1;31mNameError\u001B[0m: name 'z' is not defined"
     ]
    }
   ],
   "source": [
    "x = 10\n",
    "def my_func(a, b):\n",
    "    print(x)\n",
    "    print(z)\n",
    "\n",
    "\n",
    "my_func(1, 2)"
   ],
   "metadata": {
    "collapsed": false,
    "ExecuteTime": {
     "end_time": "2023-10-12T18:48:09.240138700Z",
     "start_time": "2023-10-12T18:48:09.180590500Z"
    }
   },
   "id": "34118795b7f91c13"
  },
  {
   "cell_type": "markdown",
   "source": [
    "Tutaj tworzymy zmienną x i bardzo prostą funkcję, która przyjmuje dwa argumenty (linie 1 - 2). Następnie wypisuje x i z. Zauważ, że nie zdefiniowaliśmy z, więc gdy wywołamy funkcję, otrzymamy błąd NameError. Dzieje się tak, ponieważ z nie jest zdefiniowane lub znajduje się poza zakresem. Jeśli zdefiniujemy z przed wywołaniem funkcji, wówczas z zostanie znalezione i nie zostanie wyświetlony komunikat NameError.\n",
    "Otrzymamy również błąd NameError, jeśli spróbujemy uzyskać dostęp do zmiennej znajdującej się wyłącznie wewnątrz funkcji:"
   ],
   "metadata": {
    "collapsed": false
   },
   "id": "ab97b6b5f80dbb2f"
  },
  {
   "cell_type": "code",
   "execution_count": 46,
   "outputs": [
    {
     "name": "stdout",
     "output_type": "stream",
     "text": [
      "10\n"
     ]
    },
    {
     "ename": "NameError",
     "evalue": "name 'i' is not defined",
     "output_type": "error",
     "traceback": [
      "\u001B[1;31m---------------------------------------------------------------------------\u001B[0m",
      "\u001B[1;31mNameError\u001B[0m                                 Traceback (most recent call last)",
      "Cell \u001B[1;32mIn[46], line 8\u001B[0m\n\u001B[0;32m      6\u001B[0m x \u001B[38;5;241m=\u001B[39m \u001B[38;5;241m10\u001B[39m\n\u001B[0;32m      7\u001B[0m my_func(\u001B[38;5;241m1\u001B[39m, \u001B[38;5;241m2\u001B[39m)\n\u001B[1;32m----> 8\u001B[0m \u001B[38;5;28mprint\u001B[39m(i)\n",
      "\u001B[1;31mNameError\u001B[0m: name 'i' is not defined"
     ]
    }
   ],
   "source": [
    "def my_func(a, b):\n",
    "    i = 2\n",
    "    print(x)\n",
    "\n",
    "if __name__ == '__main__':\n",
    "    x = 10\n",
    "    my_func(1, 2)\n",
    "    print(i)"
   ],
   "metadata": {
    "collapsed": false,
    "ExecuteTime": {
     "end_time": "2023-10-12T18:49:42.915531100Z",
     "start_time": "2023-10-12T18:49:42.870323900Z"
    }
   },
   "id": "ae5482261e09e142"
  },
  {
   "cell_type": "markdown",
   "source": [
    "Zmienna i jest zdefiniowana tylko wewnątrz funkcji (linia 2), więc gdy uruchomimy ten kod, otrzymamy błąd NameError.\n",
    "Zmodyfikujmy nieco pierwszy przykład."
   ],
   "metadata": {
    "collapsed": false
   },
   "id": "c5802925429a30b9"
  },
  {
   "cell_type": "code",
   "execution_count": 47,
   "outputs": [
    {
     "name": "stdout",
     "output_type": "stream",
     "text": [
      "5\n",
      "10\n"
     ]
    }
   ],
   "source": [
    "def my_func(a, b):\n",
    "    x = 5\n",
    "    print(x)\n",
    "\n",
    "if __name__ == '__main__':\n",
    "    x = 10\n",
    "    my_func(1, 2)\n",
    "    print(x)"
   ],
   "metadata": {
    "collapsed": false,
    "ExecuteTime": {
     "end_time": "2023-10-12T18:50:13.993126200Z",
     "start_time": "2023-10-12T18:50:13.951778400Z"
    }
   },
   "id": "1725396c45839d31"
  },
  {
   "cell_type": "markdown",
   "source": [
    "Jak sądzimy, co się stanie? Czy wydrukuje 10 dwa razy? Nie, nie będzie. Powodem jest to, że mamy teraz dwie zmienne x. Wartość x wewnątrz funkcji my_func ma zasięg funkcji lokalnej i zastępuje zmienną x znajdującą się na zewnątrz funkcji. Zatem kiedy wywołamy my_func, zamiast 10 zostanie wypisane 5. Następnie, gdy funkcja powróci, zmienna x wewnątrz my_func zostanie usunięta i zakres zewnętrznego x wraca do gry. Dlatego ostatnia instrukcja print wypisuje 10.\n",
    "\n",
    "Jeśli chcemy naprawdę skomplikować sprawę, możemy spróbować wydrukować x, zanim przypiszemy go do naszej funkcji:"
   ],
   "metadata": {
    "collapsed": false
   },
   "id": "74d82ba67a13ccce"
  },
  {
   "cell_type": "code",
   "execution_count": 48,
   "outputs": [
    {
     "ename": "UnboundLocalError",
     "evalue": "cannot access local variable 'x' where it is not associated with a value",
     "output_type": "error",
     "traceback": [
      "\u001B[1;31m---------------------------------------------------------------------------\u001B[0m",
      "\u001B[1;31mUnboundLocalError\u001B[0m                         Traceback (most recent call last)",
      "Cell \u001B[1;32mIn[48], line 8\u001B[0m\n\u001B[0;32m      6\u001B[0m \u001B[38;5;28;01mif\u001B[39;00m \u001B[38;5;18m__name__\u001B[39m \u001B[38;5;241m==\u001B[39m \u001B[38;5;124m'\u001B[39m\u001B[38;5;124m__main__\u001B[39m\u001B[38;5;124m'\u001B[39m:\n\u001B[0;32m      7\u001B[0m     x \u001B[38;5;241m=\u001B[39m \u001B[38;5;241m10\u001B[39m\n\u001B[1;32m----> 8\u001B[0m     my_func(\u001B[38;5;241m1\u001B[39m, \u001B[38;5;241m2\u001B[39m)\n\u001B[0;32m      9\u001B[0m     \u001B[38;5;28mprint\u001B[39m(x)\n",
      "Cell \u001B[1;32mIn[48], line 2\u001B[0m, in \u001B[0;36mmy_func\u001B[1;34m(a, b)\u001B[0m\n\u001B[0;32m      1\u001B[0m \u001B[38;5;28;01mdef\u001B[39;00m \u001B[38;5;21mmy_func\u001B[39m(a, b):\n\u001B[1;32m----> 2\u001B[0m     \u001B[38;5;28mprint\u001B[39m(x)\n\u001B[0;32m      3\u001B[0m     x \u001B[38;5;241m=\u001B[39m \u001B[38;5;241m5\u001B[39m\n\u001B[0;32m      4\u001B[0m     \u001B[38;5;28mprint\u001B[39m(x)\n",
      "\u001B[1;31mUnboundLocalError\u001B[0m: cannot access local variable 'x' where it is not associated with a value"
     ]
    }
   ],
   "source": [
    "def my_func(a, b):\n",
    "    print(x)\n",
    "    x = 5\n",
    "    print(x)\n",
    "\n",
    "if __name__ == '__main__':\n",
    "    x = 10\n",
    "    my_func(1, 2)\n",
    "    print(x)"
   ],
   "metadata": {
    "collapsed": false,
    "ExecuteTime": {
     "end_time": "2023-10-12T18:51:18.654884800Z",
     "start_time": "2023-10-12T18:51:18.610219400Z"
    }
   },
   "id": "80c1eceabc2a21e6"
  },
  {
   "cell_type": "markdown",
   "source": [
    "Dzieje się tak, ponieważ Python zauważa, że przypisujemy x później w my_func, co powoduje błąd, ponieważ x nie zostało jeszcze zdefiniowane."
   ],
   "metadata": {
    "collapsed": false
   },
   "id": "3a6b75e38924230"
  },
  {
   "cell_type": "markdown",
   "source": [
    "**Zakres globalny**\n",
    "Python zawiera instrukcję global. Jest to słowo kluczowe Pythona. Instrukcja global deklaruje zmienną jako dostępną dla bloku kodu następującego po instrukcji. Chociaż możemy stworzyć nazwę, zanim zadeklarujemy ją jako globalną, jest to zdecydowanie odradzane."
   ],
   "metadata": {
    "collapsed": false
   },
   "id": "bdcc76cee6b166c4"
  },
  {
   "cell_type": "code",
   "execution_count": 49,
   "outputs": [
    {
     "name": "stdout",
     "output_type": "stream",
     "text": [
      "10\n",
      "5\n",
      "5\n"
     ]
    }
   ],
   "source": [
    "def my_func(a, b):\n",
    "    global x\n",
    "    print(x)\n",
    "    x = 5\n",
    "    print(x)\n",
    "\n",
    "if __name__ == '__main__':\n",
    "    x = 10\n",
    "    my_func(1, 2)\n",
    "    print(x)"
   ],
   "metadata": {
    "collapsed": false,
    "ExecuteTime": {
     "end_time": "2023-10-12T18:52:51.718377700Z",
     "start_time": "2023-10-12T18:52:51.671926300Z"
    }
   },
   "id": "bb12f4d33fa3e124"
  },
  {
   "cell_type": "markdown",
   "source": [
    "Deklarując x jako global, mówimy Pythonowi, aby użył pierwszej deklaracji x dla naszej pierwszej instrukcji print w funkcji. Następnie nadajemy x nową wartość 5 i drukujemy ją ponownie przed wyjściem z naszej funkcji. Zauważymy, że ponieważ x jest teraz globalne, kiedy dotrzemy do ostatniej instrukcji print na końcu kodu, x nadal wynosi 5.\n",
    "\n",
    "**Połączmy razem zmienne globalne i lokalne**\n",
    "Sprawmy, aby wszystko było jeszcze bardziej interesujące, łącząc globalne i lokalne:"
   ],
   "metadata": {
    "collapsed": false
   },
   "id": "bb6d0933dd8e9c5a"
  },
  {
   "cell_type": "code",
   "execution_count": 50,
   "outputs": [
    {
     "name": "stdout",
     "output_type": "stream",
     "text": [
      "2 1 c is global Mike\n",
      "1 2 c is global 4\n"
     ]
    }
   ],
   "source": [
    "def my_func(a, b):\n",
    "    global c\n",
    "    # swap a and b\n",
    "    b, a = a, b\n",
    "    d = 'Mike'\n",
    "    print(a, b, c, d)\n",
    "\n",
    "a, b, c, d = 1, 2, 'c is global', 4\n",
    "my_func(1, 2)\n",
    "print(a, b, c, d)"
   ],
   "metadata": {
    "collapsed": false,
    "ExecuteTime": {
     "end_time": "2023-10-12T18:54:02.355533400Z",
     "start_time": "2023-10-12T18:54:02.294964300Z"
    }
   },
   "id": "442176306d169417"
  },
  {
   "cell_type": "markdown",
   "source": [
    "Ustawiamy zmienną c jako globalną (linia 2). To powinno sprawić, że c wydrukuje to samo zarówno wewnątrz, jak i na zewnątrz naszej funkcji. Zamieniamy także wartości zmiennych a i binujemy funkcję, aby pokazać, że możemy ponownie przypisać je wewnątrz funkcji, bez modyfikowania ich na zewnątrz. To pokazuje, że zmienne a i b nie są globalne.\n",
    "\n",
    "Chcielibyśmy tylko zauważyć, że nie powinniśmy modyfikować zmiennych globalnych wewnątrz funkcji. Jest to uważane za złą praktykę przez społeczność Pythona i może również znacznie utrudnić debugowanie."
   ],
   "metadata": {
    "collapsed": false
   },
   "id": "fe82fb7f883eafa6"
  },
  {
   "cell_type": "markdown",
   "source": [
    "**Zakres nielokalny**\n",
    "W Pythonie 3 dodano nowe słowo kluczowe o nazwie nonlocal. Słowo kluczowe nonlocal dodaje przesłonięcie zakresu do zakresu wewnętrznego. Wszystko na ten temat możemy przeczytać w PEP 3104. Najlepiej zilustruje to kilka przykładów kodu."
   ],
   "metadata": {
    "collapsed": false
   },
   "id": "b9b4c5a8de82125d"
  },
  {
   "cell_type": "code",
   "execution_count": 51,
   "outputs": [
    {
     "name": "stdout",
     "output_type": "stream",
     "text": [
      "<function counter.<locals>.incrementer at 0x000001913BDCB240>\n",
      "1\n",
      "2\n",
      "3\n"
     ]
    }
   ],
   "source": [
    "def counter():\n",
    "    num = 0\n",
    "    def incrementer():\n",
    "        nonlocal num\n",
    "        num += 1\n",
    "        return num\n",
    "    return incrementer\n",
    "c = counter()\n",
    "\n",
    "print (c)\n",
    "\n",
    "\n",
    "print (c())\n",
    "\n",
    "\n",
    "print (c())\n",
    "\n",
    "\n",
    "print (c())"
   ],
   "metadata": {
    "collapsed": false,
    "ExecuteTime": {
     "end_time": "2023-10-12T19:14:09.425632400Z",
     "start_time": "2023-10-12T19:14:09.359893400Z"
    }
   },
   "id": "aeb0799fd519ea8b"
  },
  {
   "cell_type": "markdown",
   "source": [
    "Teraz nasza funkcja inkrementacyjna działa tak, jak tego oczekiwaliśmy. Na marginesie, ten typ funkcji nazywany jest closure. Closure to w zasadzie blok kodu, który „zamyka” zmienne nielokalne. Ideą domknięcia jest to, że możemy odwoływać się do zmiennych zdefiniowanych poza naszą funkcją.\n",
    "Zasadniczo wartość nonlocal pozwoli nam przypisywać zmienne w zakresie zewnętrznym, ale nie w zakresie globalnym (wiersz 4). Nie możemy więc użyć funkcji nonlocal w naszej funkcji licznika, ponieważ wtedy próbowałaby ona przypisać ją do zasięgu globalnego."
   ],
   "metadata": {
    "collapsed": false
   },
   "id": "80cf156695d7453e"
  },
  {
   "cell_type": "code",
   "execution_count": null,
   "outputs": [],
   "source": [],
   "metadata": {
    "collapsed": false
   },
   "id": "ab385ecc4d7513c0"
  }
 ],
 "metadata": {
  "kernelspec": {
   "display_name": "Python 3",
   "language": "python",
   "name": "python3"
  },
  "language_info": {
   "codemirror_mode": {
    "name": "ipython",
    "version": 2
   },
   "file_extension": ".py",
   "mimetype": "text/x-python",
   "name": "python",
   "nbconvert_exporter": "python",
   "pygments_lexer": "ipython2",
   "version": "2.7.6"
  }
 },
 "nbformat": 4,
 "nbformat_minor": 5
}
